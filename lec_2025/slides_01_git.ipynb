{
 "cells": [
  {
   "cell_type": "markdown",
   "metadata": {
    "slideshow": {
     "slide_type": "slide"
    }
   },
   "source": [
    "# Git and Github\n",
    "\n",
    "Zhentao Shi"
   ]
  },
  {
   "cell_type": "markdown",
   "metadata": {
    "slideshow": {
     "slide_type": "slide"
    }
   },
   "source": [
    "## Version Control\n",
    "\n",
    "* [Git](https://git-scm.com/) <img src=\"https://git-scm.com/images/logos/downloads/Git-Icon-1788C.png\" width=\"100\">\n",
    "  - coding projects\n",
    "  - long documents\n",
    "  - \n",
    "add git icon use markdown\n",
    "\n",
    "\n",
    "\n",
    "* [Github](https://github.com/) <img src=\"https://github.githubassets.com/images/modules/logos_page/GitHub-Mark.png\" width=\"100\">\n",
    "  - online copy\n",
    "  - collaboration\n",
    "\n"
   ]
  },
  {
   "cell_type": "markdown",
   "metadata": {
    "slideshow": {
     "slide_type": "slide"
    }
   },
   "source": [
    "## Full-Length Tutorials\n",
    "\n",
    "* [Atlassian Online Tutorial](https://www.atlassian.com/git/tutorials) \n",
    "* [Happy Git with R](https://happygitwithr.com/)\n",
    "* [Pro Git](http://git-scm.com/book/en/v2)\n",
    "\n",
    "Short tutorials are listed at the end of the slides as reading assignments."
   ]
  },
  {
   "cell_type": "markdown",
   "metadata": {
    "slideshow": {
     "slide_type": "slide"
    }
   },
   "source": [
    "## Interfaces\n",
    "\n",
    "* Command line interface (CLI)\n",
    "* Graphic user interface\n",
    "  - [SourceTree](https://www.sourcetreeapp.com/)"
   ]
  },
  {
   "cell_type": "markdown",
   "metadata": {
    "slideshow": {
     "slide_type": "slide"
    }
   },
   "source": [
    "## Linux\n",
    "\n",
    "* GUI for PC\n",
    "* Command line for cloud compting\n",
    "  * E.g: [CUHK SCRP](https://scrp-login.econ.cuhk.edu.hk/)\n",
    "\n",
    "insert a linux icon here\n",
    "\n",
    "<img src=\"https://www.freepnglogos.com/uploads/linux-png/linux-logo-png-transparent-svg-vector-bie-supply-1.png\"\n",
    " width=\"100\">\n",
    "\n",
    "\n",
    "\n"
   ]
  },
  {
   "cell_type": "markdown",
   "metadata": {
    "slideshow": {
     "slide_type": "subslide"
    }
   },
   "source": [
    "* `mkdir`: make directory\n",
    "* `cd`: change directory\n",
    "* `ls`: display files\n",
    "* `cp`: copy a file\n",
    "* `nano`: open a file in a text editor called \"nano\"\n",
    "* `uname`: name of the system"
   ]
  },
  {
   "cell_type": "markdown",
   "metadata": {
    "slideshow": {
     "slide_type": "slide"
    }
   },
   "source": [
    "## Basic Commands\n",
    "\n",
    "### Identity\n",
    "\n",
    "* `git config --global user.name <name>`\n",
    "* `git config --global user.email <email>`\n",
    "\n"
   ]
  },
  {
   "cell_type": "markdown",
   "metadata": {
    "slideshow": {
     "slide_type": "slide"
    }
   },
   "source": [
    "### Local\n",
    "\n",
    "* .gitignore\n",
    "* `git help <command>` gets help for a git command\n",
    "* `git init`  creates a new git repo, with data stored in the `.git` directory\n",
    "* `git status` inspects the contents of the working directory and staging area.\n",
    "* `git add filename` adds files to the staging area from working directory.\n",
    "* `git add filename1 filename2` adds multiple files to the staging area.\n",
    "*  git 只保存txt文件的信息，照片和音频也会有信息出现但是不会保存。"
   ]
  },
  {
   "cell_type": "markdown",
   "metadata": {
    "slideshow": {
     "slide_type": "subslide"
    }
   },
   "source": [
    "* `git commit` stores changes from the staging area to the repository.\n",
    "* `git commit -m \"Commit Message\"` The commit message must be in the quotation marks.\n",
    "* `git log` displays historical commits stored chronologically in the repository.\n",
    "* `git tag -a v1.0 -m 'message' [optional:commit-id]` to make a milestone to easily check what' going on"
   ]
  },
  {
   "cell_type": "markdown",
   "metadata": {
    "vscode": {
     "languageId": "plaintext"
    }
   },
   "source": [
    "# `.gitignore` 文件详解\n",
    "\n",
    "`.gitignore` 并不是一个命令，而是一个**配置文件**，用于告诉 Git 哪些文件或文件夹应该被忽略，不纳入版本控制。这些文件通常包括：\n",
    "\n",
    "- 临时文件\n",
    "- 日志文件\n",
    "- 编译生成的文件\n",
    "- 本地配置文件\n",
    "- 依赖文件夹（如 `node_modules`）\n",
    "\n",
    "---\n",
    "\n",
    "## **.gitignore 的作用**\n",
    "\n",
    "当你将文件添加到 Git 仓库时，Git 会跟踪这些文件的更改。但有些文件（如本地配置文件或编译生成的文件）不需要被跟踪，这时可以通过 `.gitignore` 文件来排除它们。\n",
    "\n",
    "---\n",
    "\n",
    "## **如何创建和使用 .gitignore**\n",
    "\n",
    "1. **创建 .gitignore 文件**：\n",
    "   - 在项目的根目录下创建一个名为 `.gitignore` 的文件。\n",
    "   - 你可以手动创建，也可以通过命令行创建：\n",
    "     ```bash\n",
    "     touch .gitignore\n",
    "     ```\n",
    "\n",
    "2. **编辑 .gitignore 文件**：\n",
    "   - 打开 `.gitignore` 文件，添加需要忽略的文件或文件夹。例如：\n",
    "     ```\n",
    "     # 忽略所有 .log 文件\n",
    "     *.log\n",
    "\n",
    "     # 忽略 node_modules 文件夹\n",
    "     node_modules/\n",
    "\n",
    "     # 忽略本地配置文件\n",
    "     .env\n",
    "\n",
    "     # 忽略编译生成的文件\n",
    "     build/\n",
    "     dist/\n",
    "\n",
    "     # 忽略特定文件\n",
    "     temp.txt\n",
    "     ```\n",
    "\n",
    "3. **保存并生效**：\n",
    "   - 保存 `.gitignore` 文件后，Git 会自动忽略其中列出的文件和文件夹。\n",
    "\n",
    "---\n",
    "\n",
    "## **.gitignore 的语法规则**\n",
    "\n",
    "- **忽略文件**：直接写文件名，例如 `temp.txt`。\n",
    "- **忽略文件夹**：在文件夹名后加 `/`，例如 `node_modules/`。\n",
    "- **忽略特定类型的文件**：使用通配符 `*`，例如 `*.log`。\n",
    "- **忽略特定路径的文件**：写出完整路径，例如 `src/temp/`。\n",
    "- **排除某个忽略规则**：使用 `!`，例如：忽略所有 .txt 文件 `*.txt`; 但不忽略 important.txt:`!important.txt`\n",
    "\n",
    "---\n",
    "\n",
    "## **注意事项**\n",
    "\n",
    "1. **已跟踪的文件**：如果某个文件已经被 Git 跟踪（即已经提交过），即使将其添加到 `.gitignore`，Git 仍然会继续跟踪它。你需要手动从 Git 中移除该文件：\n",
    "    ```bash\n",
    "    git rm --cached 文件名 \n",
    "    ```\n",
    "2. **全局 .gitignore**：你可以配置一个全局的 .gitignore 文件，适用于所有 Git 仓库。方法如下：\n",
    "    ```bash\n",
    "    git config --global core.excludesfile ~/.gitignore_global\n",
    "    ```\n",
    "   然后在 `~/.gitignore_global` 文件中添加需要忽略的内容。\n",
    "3. **模板**：GitHub 提供了常用的 .gitignore 模板，可以在 github/gitignore 中找到。\n",
    "\n",
    "4. **通过正确使用** `.gitignore`，你可以避免将不必要的文件提交到 Git 仓库，保持仓库的整洁\n"
   ]
  },
  {
   "cell_type": "markdown",
   "metadata": {
    "slideshow": {
     "slide_type": "slide"
    }
   },
   "source": [
    "#### Eraser-like features\n",
    "\n",
    "The latest commit is called **HEAD** commit\n",
    "* `git show HEAD`  displays view the HEAD commit.\n",
    "* `git checkout HEAD filename` restores the file in the working directory to what you made in last commit.相当于回到了上一次提交的文件，从上一次开始创建的新内容都不要了。\n",
    "* `git reset HEAD filename` unstages the file from committing in the staging area. It does not discard file changes from the working directory; it just removes them from the staging area.\n",
    "* `git reset SHA` works by using **the first 7 characters** of the SHA of a previous commit."
   ]
  },
  {
   "cell_type": "markdown",
   "metadata": {
    "slideshow": {
     "slide_type": "slide"
    }
   },
   "source": [
    "#### Branch\n",
    "\n",
    "Branches can be created for new project features. 作用：当有一些不确定的新内容想要编辑，但是不确定要不要放进main/不确定是否有一致的特性，就新建一个branch。\n",
    "\n",
    "The ultimate goal is to merge that feature into the master branch.\n",
    "\n",
    "* `git branch` displays the current branch.\n",
    "* `git branch brach_name` creates a new branch\n",
    "* `git checkout branch_name` switches to a branch\n",
    "* `git merge branch_name` merges the branch\n",
    "branch最好不要删除，暂时不满意时，先放在这里，回到main branch and do some coding，当需要的时候还可以返回暂存的branch继续编辑。"
   ]
  },
  {
   "cell_type": "markdown",
   "metadata": {
    "slideshow": {
     "slide_type": "slide"
    }
   },
   "source": [
    "## Github\n",
    "\n",
    "* Cloud git services: \n",
    "  * github\n",
    "  * bitbucket\n",
    "  * gitlab\n",
    "  * gitee (China) ...\n",
    "  \n",
    "  "
   ]
  },
  {
   "cell_type": "markdown",
   "metadata": {
    "slideshow": {
     "slide_type": "fragment"
    }
   },
   "source": [
    "* Github most popular\n",
    "  * Free Pro account for students "
   ]
  },
  {
   "cell_type": "markdown",
   "metadata": {
    "slideshow": {
     "slide_type": "subslide"
    }
   },
   "source": [
    "### Remote\n",
    "\n",
    "* `git clone https://github.com/user_name/repo_name` 远程仓库复制到本地。\n",
    "* `git remote add origin <远程仓库的URL>`adds the origin remote's URL<远程仓库的URL>，origin是默认远程仓库名称，可以自行设计。\n",
    "* `git remote -v` lists git project's remote copies.\n",
    "* `git push origin master` uploads local commits to the remote repository. master是branch的名称。注意在upload之前先检查本地是否有新的提交。 `git status`;如果没有，先需要在本地提交新的内容: `git add . git commit -m \"你的提交信息`\n",
    "* `git pull` downloads the remote copy and merge.\n",
    "* `git fetch` fetches the remote copy to the local hard disk. 拉取remote copy"
   ]
  },
  {
   "cell_type": "markdown",
   "metadata": {
    "slideshow": {
     "slide_type": "subslide"
    }
   },
   "source": [
    "## Collaboration \n",
    "\n",
    "Collaboration typically works as the following:\n",
    "\n",
    "1. Fetch, pull, and merge changes from a remote repository;\n",
    "2. Create a branch to work on a new project feature;\n",
    "3. Develop the feature on your branch and commit your work;\n",
    "4. Fetch and merge from the remote again (in case other collaborators have uploaded new commits while you were working);\n",
    "5. Push your branch up to the remote for review."
   ]
  },
  {
   "cell_type": "markdown",
   "metadata": {
    "slideshow": {
     "slide_type": "subslide"
    }
   },
   "source": [
    "#### Conflict\n",
    "\n",
    "* Collaborators working separately on the same line of a file may easily encounter conflicts. 尤其是两个人在本地操作同一个line时。\n",
    "* If so, `git pull` will not merge changes from the remote into local repo. \n",
    "* Need to resolve the conflicts:先让一个人上传，另一个人先把新写的内容备份，删除，然后下载新的copy，然后把备份加上去，然后push。"
   ]
  },
  {
   "cell_type": "markdown",
   "metadata": {
    "slideshow": {
     "slide_type": "slide"
    }
   },
   "source": [
    "## Markdown\n",
    "\n",
    "* Text only. \n",
    "* Simple syntax.\n",
    "* [Cheat sheet](https://www.markdownguide.org/cheat-sheet/)"
   ]
  },
  {
   "cell_type": "markdown",
   "metadata": {
    "slideshow": {
     "slide_type": "slide"
    }
   },
   "source": [
    "## IDE\n",
    "\n",
    "\n",
    "* [VS Code](https://code.visualstudio.com/) <img src=\"https://upload.wikimedia.org/wikipedia/commons/thumb/2/2d/Visual_Studio_Code_1.18_icon.svg/1200px-Visual_Studio_Code_1.18_icon.svg.png\" width=\"100\">\n",
    "\n",
    "* Powerful tools\n",
    "\n",
    "![Copilot](https://upload.wikimedia.org/wikipedia/commons/8/8a/GitHub_Copilot_logo.svg)\n",
    "\n",
    "* Add-on integration\n"
   ]
  },
  {
   "cell_type": "markdown",
   "metadata": {
    "slideshow": {
     "slide_type": "slide"
    }
   },
   "source": [
    "## Exercises\n",
    "\n",
    "1. Initial a git repo in a folder (either local or on SCRP)\n",
    "2. Create an md file called `hello.md`, and write \"Hello World!\" in it.\n",
    "3. Commit the changes.\n",
    "4. Register a github account (if you haven't done so).\n",
    "5. Push the latest commit to github."
   ]
  },
  {
   "cell_type": "markdown",
   "metadata": {
    "slideshow": {
     "slide_type": "slide"
    }
   },
   "source": [
    "## Readings\n",
    "\n",
    "As a fundamental tool for coding, there are plenty of excellent tutorials online.\n",
    "\n",
    "<!-- * Grant McDermott's lecture notes: [Git](https://raw.githack.com/uo-ec510-2020-spring/lectures/master/02-git/02-git.html#1), [Shell](https://raw.githack.com/uo-ec510-2020-spring/lectures/master/03-shell/03-shell.html#1) -->\n",
    "* Youtube videos\n",
    "  * 10-min [video](https://www.youtube.com/watch?v=q4CQBuZ4IGo) in Chinese.\n",
    "  * 1-hour [video](https://www.youtube.com/watch?v=RGOj5yH7evk) for beginners.\n"
   ]
  },
  {
   "cell_type": "markdown",
   "metadata": {
    "slideshow": {
     "slide_type": "fragment"
    }
   },
   "source": [
    "\n",
    "**Extra reading**\n",
    "\n",
    "* [The Missing Semester of Your CS Education](https://missing.csail.mit.edu/)\n"
   ]
  },
  {
   "cell_type": "markdown",
   "metadata": {
    "slideshow": {
     "slide_type": "fragment"
    }
   },
   "source": [
    "\n",
    "**Final words**: \n",
    "Don't expect you can be a Git guru in one day.\n",
    "It is learning by doing."
   ]
  }
 ],
 "metadata": {
  "celltoolbar": "Slideshow",
  "kernelspec": {
   "display_name": "R",
   "language": "R",
   "name": "ir"
  },
  "language_info": {
   "codemirror_mode": "r",
   "file_extension": ".r",
   "mimetype": "text/x-r-source",
   "name": "R",
   "pygments_lexer": "r",
   "version": "4.3.1"
  },
  "rise": {
   "theme": "serif"
  }
 },
 "nbformat": 4,
 "nbformat_minor": 4
}
