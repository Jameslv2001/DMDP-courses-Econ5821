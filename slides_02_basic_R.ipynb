{
 "cells": [
  {
   "cell_type": "markdown",
   "metadata": {
    "slideshow": {
     "slide_type": "slide"
    }
   },
   "source": [
    "# Basic R\n",
    "\n",
    "\n",
    "    \n",
    "<img src=\"https://www.r-project.org/logo/Rlogo.png\" width=\"100\">\n",
    "\n",
    "\n",
    "Zhentao Shi"
   ]
  },
  {
   "cell_type": "markdown",
   "metadata": {
    "slideshow": {
     "slide_type": "slide"
    }
   },
   "source": [
    "## Statistical Languages\n",
    "\n",
    "* Time investment is essential for language learning\n",
    "* Python vs R"
   ]
  },
  {
   "cell_type": "markdown",
   "metadata": {
    "slideshow": {
     "slide_type": "fragment"
    }
   },
   "source": [
    "* Official document: [R-Introduction](https://cran.r-project.org/doc/manuals/r-release/R-intro.pdf)"
   ]
  },
  {
   "cell_type": "markdown",
   "metadata": {
    "slideshow": {
     "slide_type": "slide"
    }
   },
   "source": [
    "## Installation\n",
    "\n",
    "Locally, R works on Windows, MacOS, and Linux. \n",
    "\n",
    "* [R project](https://cran.r-project.org/mirrors.html)"
   ]
  },
  {
   "cell_type": "markdown",
   "metadata": {
    "slideshow": {
     "slide_type": "subslide"
    }
   },
   "source": [
    "**Local interfaces**\n",
    "\n",
    "* `rgui`\n",
    "\n",
    "* [RStudio](https://www.rstudio.com/products/rstudio/download/)\n",
    "\n",
    "* Command line interface (cli)"
   ]
  },
  {
   "cell_type": "markdown",
   "metadata": {
    "slideshow": {
     "slide_type": "slide"
    }
   },
   "source": [
    "**Remote interfaces**\n",
    "\n",
    "CUHK Econ's [SCRP](https://scrp-login-2.econ.cuhk.edu.hk/) provides \n",
    "* RStudio\n",
    "* JupyterHub \n",
    "\n",
    "[Gitpod](https://gitpod.io/#https://github.com/zhentaoshi/econ_data_science) is cloud IDE.\n"
   ]
  },
  {
   "cell_type": "markdown",
   "metadata": {
    "slideshow": {
     "slide_type": "slide"
    },
    "tags": []
   },
   "source": [
    "## Help System\n",
    "\n",
    "* If exact name of a function known, call `help(function_name)` or `?function_name`\n",
    "* Otherwise, `??key_words`"
   ]
  },
  {
   "cell_type": "code",
   "execution_count": null,
   "metadata": {
    "slideshow": {
     "slide_type": "subslide"
    },
    "tags": [],
    "vscode": {
     "languageId": "r"
    }
   },
   "outputs": [],
   "source": [
    "?seq"
   ]
  },
  {
   "cell_type": "code",
   "execution_count": null,
   "metadata": {
    "slideshow": {
     "slide_type": "fragment"
    },
    "tags": [],
    "vscode": {
     "languageId": "r"
    }
   },
   "outputs": [],
   "source": [
    "??sequence"
   ]
  },
  {
   "cell_type": "markdown",
   "metadata": {
    "slideshow": {
     "slide_type": "slide"
    }
   },
   "source": [
    "## Assignment\n",
    "\n",
    " * `<-` or `=`\n",
    "   * Personally I prefer \"=\" to \"<-\"."
   ]
  },
  {
   "cell_type": "code",
   "execution_count": null,
   "metadata": {
    "slideshow": {
     "slide_type": "fragment"
    },
    "vscode": {
     "languageId": "r"
    }
   },
   "outputs": [],
   "source": [
    "a <- 1; a"
   ]
  },
  {
   "cell_type": "code",
   "execution_count": null,
   "metadata": {
    "slideshow": {
     "slide_type": "fragment"
    },
    "vscode": {
     "languageId": "r"
    }
   },
   "outputs": [],
   "source": [
    "b <- 2; b"
   ]
  },
  {
   "cell_type": "code",
   "execution_count": null,
   "metadata": {
    "slideshow": {
     "slide_type": "fragment"
    },
    "vscode": {
     "languageId": "r"
    }
   },
   "outputs": [],
   "source": [
    "f = a + b; f # try to avoid `c`, which is an internal command"
   ]
  },
  {
   "cell_type": "code",
   "execution_count": null,
   "metadata": {
    "slideshow": {
     "slide_type": "slide"
    },
    "vscode": {
     "languageId": "r"
    }
   },
   "outputs": [],
   "source": [
    "d = log(f); d"
   ]
  },
  {
   "cell_type": "code",
   "execution_count": null,
   "metadata": {
    "slideshow": {
     "slide_type": "fragment"
    },
    "vscode": {
     "languageId": "r"
    }
   },
   "outputs": [],
   "source": [
    "e = sqrt(d); e"
   ]
  },
  {
   "cell_type": "code",
   "execution_count": null,
   "metadata": {
    "slideshow": {
     "slide_type": "subslide"
    },
    "vscode": {
     "languageId": "r"
    }
   },
   "outputs": [],
   "source": [
    "cat(\"log(c) =\", e, \"is a simple calculation\"); print(e)"
   ]
  },
  {
   "cell_type": "code",
   "execution_count": null,
   "metadata": {
    "slideshow": {
     "slide_type": "fragment"
    },
    "vscode": {
     "languageId": "r"
    }
   },
   "outputs": [],
   "source": [
    "cat(\"exp(e) =\", exp(e), \". I want a nice new line. \\n\"); print(e)"
   ]
  },
  {
   "cell_type": "code",
   "execution_count": null,
   "metadata": {
    "slideshow": {
     "slide_type": "fragment"
    },
    "vscode": {
     "languageId": "r"
    }
   },
   "outputs": [],
   "source": [
    "ls() # display the objects in memory"
   ]
  },
  {
   "cell_type": "markdown",
   "metadata": {
    "slideshow": {
     "slide_type": "slide"
    }
   },
   "source": [
    "R is case sentitive. `a` and `A` are two different objects."
   ]
  },
  {
   "cell_type": "code",
   "execution_count": null,
   "metadata": {
    "slideshow": {
     "slide_type": "fragment"
    },
    "vscode": {
     "languageId": "r"
    }
   },
   "outputs": [],
   "source": [
    "A = \"abc\"\n",
    "cat(\"a is\", a, \", whereas A is \", A, \".\")"
   ]
  },
  {
   "cell_type": "markdown",
   "metadata": {
    "slideshow": {
     "slide_type": "slide"
    }
   },
   "source": [
    "Clean up the memory. It is recommended as the first line of a clean script."
   ]
  },
  {
   "cell_type": "code",
   "execution_count": null,
   "metadata": {
    "slideshow": {
     "slide_type": "fragment"
    },
    "vscode": {
     "languageId": "r"
    }
   },
   "outputs": [],
   "source": [
    "rm(list = ls())"
   ]
  },
  {
   "cell_type": "code",
   "execution_count": null,
   "metadata": {
    "slideshow": {
     "slide_type": "fragment"
    },
    "vscode": {
     "languageId": "r"
    }
   },
   "outputs": [],
   "source": [
    "ls()"
   ]
  },
  {
   "cell_type": "markdown",
   "metadata": {
    "slideshow": {
     "slide_type": "slide"
    }
   },
   "source": [
    "## Vector\n",
    "\n",
    "* A collection of elements of the same type\n",
    "  * integer\n",
    "  * logical\n",
    "  * real number\n",
    "  * complex number \n",
    "  * characters\n",
    "  * factor"
   ]
  },
  {
   "cell_type": "markdown",
   "metadata": {
    "slideshow": {
     "slide_type": "fragment"
    }
   },
   "source": [
    "  \n",
    "* R does not require explicit type declaration."
   ]
  },
  {
   "cell_type": "markdown",
   "metadata": {
    "slideshow": {
     "slide_type": "slide"
    }
   },
   "source": [
    " * `c()`  combines two or more vectors into a long vector.\n",
    " * Binary arithmetic operations\n",
    "   * element by element \n",
    "   * `+`, `-`, `*` and `/`\n",
    "   * logical operations `&` `|` `!=`"
   ]
  },
  {
   "cell_type": "code",
   "execution_count": null,
   "metadata": {
    "slideshow": {
     "slide_type": "subslide"
    },
    "vscode": {
     "languageId": "r"
    }
   },
   "outputs": [],
   "source": [
    "a = c(1,2,3, 4); a"
   ]
  },
  {
   "cell_type": "code",
   "execution_count": null,
   "metadata": {
    "slideshow": {
     "slide_type": "fragment"
    },
    "vscode": {
     "languageId": "r"
    }
   },
   "outputs": [],
   "source": [
    "b = rep(c(1,2), 2); b"
   ]
  },
  {
   "cell_type": "code",
   "execution_count": null,
   "metadata": {
    "slideshow": {
     "slide_type": "fragment"
    },
    "vscode": {
     "languageId": "r"
    }
   },
   "outputs": [],
   "source": [
    "a+b"
   ]
  },
  {
   "cell_type": "code",
   "execution_count": null,
   "metadata": {
    "slideshow": {
     "slide_type": "subslide"
    },
    "vscode": {
     "languageId": "r"
    }
   },
   "outputs": [],
   "source": [
    "# logical vectors\n",
    "logi_1 <- c(T, T, F); logi_1"
   ]
  },
  {
   "cell_type": "code",
   "execution_count": null,
   "metadata": {
    "slideshow": {
     "slide_type": "fragment"
    },
    "vscode": {
     "languageId": "r"
    }
   },
   "outputs": [],
   "source": [
    "logi_2 <- c(F, T, T); logi_2"
   ]
  },
  {
   "cell_type": "code",
   "execution_count": null,
   "metadata": {
    "slideshow": {
     "slide_type": "fragment"
    },
    "vscode": {
     "languageId": "r"
    }
   },
   "outputs": [],
   "source": [
    "logi_1 & logi_2"
   ]
  },
  {
   "cell_type": "markdown",
   "metadata": {
    "slideshow": {
     "slide_type": "slide"
    }
   },
   "source": [
    "Missing values in R is represented as `NA` (Not Available). "
   ]
  },
  {
   "cell_type": "code",
   "execution_count": null,
   "metadata": {
    "slideshow": {
     "slide_type": "fragment"
    },
    "vscode": {
     "languageId": "r"
    }
   },
   "outputs": [],
   "source": [
    "   a = NA; b = 3; a+b"
   ]
  },
  {
   "cell_type": "markdown",
   "metadata": {
    "slideshow": {
     "slide_type": "subslide"
    }
   },
   "source": [
    "When some operations are not allowed, say, `log(-1)`, R returns  `NaN` (Not a Number)."
   ]
  },
  {
   "cell_type": "code",
   "execution_count": null,
   "metadata": {
    "slideshow": {
     "slide_type": "fragment"
    },
    "vscode": {
     "languageId": "r"
    }
   },
   "outputs": [],
   "source": [
    "log(-1)"
   ]
  },
  {
   "cell_type": "code",
   "execution_count": null,
   "metadata": {
    "slideshow": {
     "slide_type": "fragment"
    },
    "vscode": {
     "languageId": "r"
    }
   },
   "outputs": [],
   "source": [
    "sqrt(-1)"
   ]
  },
  {
   "cell_type": "code",
   "execution_count": null,
   "metadata": {
    "slideshow": {
     "slide_type": "subslide"
    },
    "vscode": {
     "languageId": "r"
    }
   },
   "outputs": [],
   "source": [
    "a = Inf\n",
    "a+a"
   ]
  },
  {
   "cell_type": "code",
   "execution_count": null,
   "metadata": {
    "slideshow": {
     "slide_type": "fragment"
    },
    "vscode": {
     "languageId": "r"
    }
   },
   "outputs": [],
   "source": [
    "b = -Inf\n",
    "a+b"
   ]
  },
  {
   "cell_type": "markdown",
   "metadata": {
    "slideshow": {
     "slide_type": "slide"
    }
   },
   "source": [
    "## Selection\n",
    "\n",
    "* Vector selection is specified in square bracket `a[ ]` \n",
    "  * by either positive integer or logical vector.\n",
    "  * Index initiates from 1, not 0 (Python's rule). "
   ]
  },
  {
   "cell_type": "code",
   "execution_count": null,
   "metadata": {
    "slideshow": {
     "slide_type": "subslide"
    },
    "vscode": {
     "languageId": "r"
    }
   },
   "outputs": [],
   "source": [
    "a = 1:10\n",
    "a[5:7]"
   ]
  },
  {
   "cell_type": "code",
   "execution_count": null,
   "metadata": {
    "slideshow": {
     "slide_type": "fragment"
    },
    "vscode": {
     "languageId": "r"
    }
   },
   "outputs": [],
   "source": [
    "d = seq(-1, 1, by = 0.1); print(d)\n",
    "d[5:7]"
   ]
  },
  {
   "cell_type": "code",
   "execution_count": null,
   "metadata": {
    "slideshow": {
     "slide_type": "subslide"
    },
    "vscode": {
     "languageId": "r"
    }
   },
   "outputs": [],
   "source": [
    "f = c(\"a\",\"b\",\"c\",\"d\",\"e\",\"f\",\"g\",\"h\",\"i\",\"j\")\n",
    "f[5:7]"
   ]
  },
  {
   "cell_type": "code",
   "execution_count": null,
   "metadata": {
    "slideshow": {
     "slide_type": "fragment"
    },
    "vscode": {
     "languageId": "r"
    }
   },
   "outputs": [],
   "source": [
    "b = \"abcdefghij\"\n",
    "b[5:7] # the indexed items do not exists"
   ]
  },
  {
   "cell_type": "markdown",
   "metadata": {
    "slideshow": {
     "slide_type": "slide"
    }
   },
   "source": [
    "## Data types\n"
   ]
  },
  {
   "cell_type": "code",
   "execution_count": null,
   "metadata": {
    "slideshow": {
     "slide_type": "fragment"
    },
    "vscode": {
     "languageId": "r"
    }
   },
   "outputs": [],
   "source": [
    "a <- \"18\"; a"
   ]
  },
  {
   "cell_type": "code",
   "execution_count": null,
   "metadata": {
    "slideshow": {
     "slide_type": "fragment"
    },
    "vscode": {
     "languageId": "r"
    }
   },
   "outputs": [],
   "source": [
    "b <- as.numeric(a); b"
   ]
  },
  {
   "cell_type": "code",
   "execution_count": null,
   "metadata": {
    "slideshow": {
     "slide_type": "fragment"
    },
    "vscode": {
     "languageId": "r"
    }
   },
   "outputs": [],
   "source": [
    "x = pi * c(-1:1, 10); x"
   ]
  },
  {
   "cell_type": "code",
   "execution_count": null,
   "metadata": {
    "slideshow": {
     "slide_type": "fragment"
    },
    "vscode": {
     "languageId": "r"
    }
   },
   "outputs": [],
   "source": [
    "as.integer(x)"
   ]
  },
  {
   "cell_type": "code",
   "execution_count": null,
   "metadata": {
    "slideshow": {
     "slide_type": "slide"
    },
    "vscode": {
     "languageId": "r"
    }
   },
   "outputs": [],
   "source": [
    "a = 3; is.integer(a) # it is numeric"
   ]
  },
  {
   "cell_type": "code",
   "execution_count": null,
   "metadata": {
    "slideshow": {
     "slide_type": "fragment"
    },
    "vscode": {
     "languageId": "r"
    }
   },
   "outputs": [],
   "source": [
    "a = as.integer(3); a; is.integer(a)"
   ]
  },
  {
   "cell_type": "code",
   "execution_count": null,
   "metadata": {
    "slideshow": {
     "slide_type": "fragment"
    },
    "vscode": {
     "languageId": "r"
    }
   },
   "outputs": [],
   "source": [
    "b = as.double(a); is.integer(b); b"
   ]
  },
  {
   "cell_type": "markdown",
   "metadata": {
    "slideshow": {
     "slide_type": "slide"
    }
   },
   "source": [
    "## Array and Matrix\n",
    "\n",
    "* *array*: number table of multiple dimensions. \n",
    "* *matrix*: 2-dimensional array.\n",
    "\n",
    "* R is of column-major order\n",
    "* array arithmetic: element-by-element. "
   ]
  },
  {
   "cell_type": "code",
   "execution_count": null,
   "metadata": {
    "slideshow": {
     "slide_type": "subslide"
    },
    "vscode": {
     "languageId": "r"
    }
   },
   "outputs": [],
   "source": [
    "A = array(rpois(4*3*2, lambda = 1), dim = c(4,3,2)); print(A) # 3 dimensional array"
   ]
  },
  {
   "cell_type": "code",
   "execution_count": null,
   "metadata": {
    "slideshow": {
     "slide_type": "subslide"
    },
    "vscode": {
     "languageId": "r"
    }
   },
   "outputs": [],
   "source": [
    "B = array(rnorm(4*3*2), dim = c(4,3,2)); print(B)"
   ]
  },
  {
   "cell_type": "code",
   "execution_count": null,
   "metadata": {
    "slideshow": {
     "slide_type": "subslide"
    },
    "vscode": {
     "languageId": "r"
    }
   },
   "outputs": [],
   "source": [
    "print(A+B)"
   ]
  },
  {
   "cell_type": "markdown",
   "metadata": {
    "slideshow": {
     "slide_type": "subslide"
    }
   },
   "source": [
    "Caution must be exercised in binary operations involving two objects of different length. This is error-prone."
   ]
  },
  {
   "cell_type": "code",
   "execution_count": null,
   "metadata": {
    "slideshow": {
     "slide_type": "fragment"
    },
    "vscode": {
     "languageId": "r"
    }
   },
   "outputs": [],
   "source": [
    "A = matrix(1:6, 3); print(A)"
   ]
  },
  {
   "cell_type": "code",
   "execution_count": null,
   "metadata": {
    "slideshow": {
     "slide_type": "fragment"
    },
    "vscode": {
     "languageId": "r"
    }
   },
   "outputs": [],
   "source": [
    "B = matrix(1:3, 3); print(B)"
   ]
  },
  {
   "cell_type": "code",
   "execution_count": null,
   "metadata": {
    "slideshow": {
     "slide_type": "slide"
    },
    "vscode": {
     "languageId": "r"
    }
   },
   "outputs": [],
   "source": [
    "print(A+B) # produce error message"
   ]
  },
  {
   "cell_type": "code",
   "execution_count": null,
   "metadata": {
    "slideshow": {
     "slide_type": "fragment"
    },
    "vscode": {
     "languageId": "r"
    }
   },
   "outputs": [],
   "source": [
    "b = 1:3\n",
    "print(A+b)"
   ]
  },
  {
   "cell_type": "code",
   "execution_count": null,
   "metadata": {
    "slideshow": {
     "slide_type": "fragment"
    },
    "vscode": {
     "languageId": "r"
    }
   },
   "outputs": [],
   "source": [
    "d = 1:4\n",
    "print(A+d)"
   ]
  },
  {
   "cell_type": "markdown",
   "metadata": {
    "slideshow": {
     "slide_type": "slide"
    }
   },
   "source": [
    "## Matrix Operations\n",
    "\n",
    "* `%*%`: matrix multiplication\n",
    "* `solve` matrix inverse\n",
    "* `eigen` eigenvalues and eigenvectors"
   ]
  },
  {
   "cell_type": "markdown",
   "metadata": {
    "slideshow": {
     "slide_type": "subslide"
    }
   },
   "source": [
    "**Example**: OLS estimation with one $x$ regressor and a constant.\n",
    "Graduate textbook expresses the OLS in matrix form\n",
    "$$\\hat{\\beta} = (X' X)^{-1} X'y.$$\n",
    "To conduct OLS estimation in R, we literally translate the mathematical expression into code.\n",
    "\n"
   ]
  },
  {
   "cell_type": "markdown",
   "metadata": {
    "slideshow": {
     "slide_type": "subslide"
    }
   },
   "source": [
    "Step 1: We need data $Y$ and $X$ to run OLS. We simulate an artificial dataset."
   ]
  },
  {
   "cell_type": "code",
   "execution_count": null,
   "metadata": {
    "slideshow": {
     "slide_type": "fragment"
    },
    "vscode": {
     "languageId": "r"
    }
   },
   "outputs": [],
   "source": [
    "# simulate data\n",
    "rm(list = ls())\n",
    "set.seed(111) # can be removed to allow the result to change\n",
    "\n",
    "# set the parameters\n",
    "n <- 100\n",
    "b0 <- matrix(c(0.2, 1.0), nrow = 2)\n",
    "\n",
    "# generate the data\n",
    "e <- rnorm(n)\n",
    "X <- cbind(1, rnorm(n))\n",
    "Y <- X %*% b0 + e\n",
    "rm(e)"
   ]
  },
  {
   "cell_type": "markdown",
   "metadata": {
    "slideshow": {
     "slide_type": "slide"
    }
   },
   "source": [
    "Step 2: translate the formula to code\n"
   ]
  },
  {
   "cell_type": "code",
   "execution_count": null,
   "metadata": {
    "slideshow": {
     "slide_type": "fragment"
    },
    "vscode": {
     "languageId": "r"
    }
   },
   "outputs": [],
   "source": [
    "# OLS estimation\n",
    "bhat <- solve(t(X) %*% X, t(X) %*% Y); print(bhat)"
   ]
  },
  {
   "cell_type": "code",
   "execution_count": null,
   "metadata": {
    "slideshow": {
     "slide_type": "fragment"
    },
    "vscode": {
     "languageId": "r"
    }
   },
   "outputs": [],
   "source": [
    "bhat <- solve( crossprod(X), crossprod(X, Y))\n",
    "print( bhat ) # equivalent computation"
   ]
  },
  {
   "cell_type": "markdown",
   "metadata": {
    "slideshow": {
     "slide_type": "slide"
    }
   },
   "source": [
    "Step 3 (additional): plot the regression graph with the scatter points and the regression line.\n",
    "\n",
    "* Further compare the regression line (black) with the true coefficient line (red).\n"
   ]
  },
  {
   "cell_type": "code",
   "execution_count": null,
   "metadata": {
    "slideshow": {
     "slide_type": "subslide"
    },
    "vscode": {
     "languageId": "r"
    }
   },
   "outputs": [],
   "source": [
    "# plot\n",
    "plot(y = Y, x = X[, 2], xlab = \"X\", ylab = \"Y\", main = \"regression\")\n",
    "abline(a = bhat[1], b = bhat[2])\n",
    "abline(a = b0[1], b = b0[2], col = \"red\")\n",
    "abline(h = 0, lty = 2)\n",
    "abline(v = 0, lty = 2)"
   ]
  },
  {
   "cell_type": "markdown",
   "metadata": {
    "slideshow": {
     "slide_type": "slide"
    }
   },
   "source": [
    "Step 4: Hypothesis testing.\n",
    "\n",
    "The *t*-statistic is widely used.\n",
    "To test the null $H_0: \\beta_2 = 1$, we compute the associated *t*-statistic.\n",
    "Again, this is a translation.\n",
    "$$\n",
    "t  =  \\frac{\\hat{\\beta}_2 - \\beta_{02}}{ \\hat{\\sigma}_{\\hat{\\beta}_2}  }\n",
    "   =  \\frac{\\hat{\\beta}_2 - \\beta_{02}}{ \\sqrt{ \\left[ (X'X)^{-1} \\hat{\\sigma}^2 \\right]_{22} } }.\n",
    "$$\n",
    "where $[\\cdot]_{22}$ is the (2,2)-element of a matrix.\n"
   ]
  },
  {
   "cell_type": "code",
   "execution_count": null,
   "metadata": {
    "slideshow": {
     "slide_type": "subslide"
    },
    "vscode": {
     "languageId": "r"
    }
   },
   "outputs": [],
   "source": [
    "# calculate the t-value\n",
    "bhat2 <- bhat[2] # the parameter we want to test\n",
    "e_hat <- Y - X %*% bhat\n",
    "sigma_hat_square <- sum(e_hat^2) / (n - 2)\n",
    "Sigma_B <- solve(t(X) %*% X) * sigma_hat_square\n",
    "t_value_2 <- (bhat2 - b0[2]) / sqrt(Sigma_B[2, 2])\n",
    "cat(\"The t-statistic =\", t_value_2)"
   ]
  },
  {
   "cell_type": "markdown",
   "metadata": {
    "slideshow": {
     "slide_type": "slide"
    }
   },
   "source": [
    "## Mixed Data Types\n",
    "\n",
    "*  *Vector* only contains one type of elements.\n",
    "* *list* is a basket for objects of various types.\n",
    "  * A container when a procedure returns more than one useful object."
   ]
  },
  {
   "cell_type": "code",
   "execution_count": null,
   "metadata": {
    "slideshow": {
     "slide_type": "subslide"
    },
    "vscode": {
     "languageId": "r"
    }
   },
   "outputs": [],
   "source": [
    "Lst <- list(dept = \"Econ\", no = 5821)\n",
    "Lst"
   ]
  },
  {
   "cell_type": "code",
   "execution_count": null,
   "metadata": {
    "slideshow": {
     "slide_type": "fragment"
    },
    "vscode": {
     "languageId": "r"
    }
   },
   "outputs": [],
   "source": [
    "Lst$dept"
   ]
  },
  {
   "cell_type": "code",
   "execution_count": null,
   "metadata": {
    "slideshow": {
     "slide_type": "fragment"
    },
    "vscode": {
     "languageId": "r"
    }
   },
   "outputs": [],
   "source": [
    "Lst[[2]]"
   ]
  },
  {
   "cell_type": "markdown",
   "metadata": {
    "slideshow": {
     "slide_type": "slide"
    }
   },
   "source": [
    "**Example**: When we invoke `eigen`, we are\n",
    "interested in both eigenvalues and eigenvectors,\n",
    "which are stored into `$value` and `$vector`, respectively."
   ]
  },
  {
   "cell_type": "code",
   "execution_count": null,
   "metadata": {
    "slideshow": {
     "slide_type": "fragment"
    },
    "vscode": {
     "languageId": "r"
    }
   },
   "outputs": [],
   "source": [
    "A = diag(2)\n",
    "eigen(A)"
   ]
  },
  {
   "cell_type": "markdown",
   "metadata": {
    "slideshow": {
     "slide_type": "slide"
    },
    "tags": []
   },
   "source": [
    "## Package\n",
    "\n",
    "* Base installation is small\n",
    "* Extensive ecosystem of add-on packages.\n",
    "* Most packages are hosted on [CRAN](https://cran.r-project.org/web/packages/).\n",
    " "
   ]
  },
  {
   "cell_type": "markdown",
   "metadata": {
    "slideshow": {
     "slide_type": "fragment"
    },
    "tags": []
   },
   "source": [
    "* Installation: `install.packages(\"package_name\")`. \n",
    "\n",
    "* Invoking: `library(package_name)` or `package_name::function_name`"
   ]
  },
  {
   "cell_type": "code",
   "execution_count": 1,
   "metadata": {
    "slideshow": {
     "slide_type": "fragment"
    },
    "vscode": {
     "languageId": "r"
    }
   },
   "outputs": [],
   "source": [
    "library(magrittr)"
   ]
  },
  {
   "cell_type": "markdown",
   "metadata": {
    "slideshow": {
     "slide_type": "slide"
    }
   },
   "source": [
    "## Input and Output\n",
    "\n",
    "* Raw data is often saved in ASCII file or Excel.\n",
    "* Excel spreadsheet is discouraged.\n",
    "* Recommend `csv` format"
   ]
  },
  {
   "cell_type": "markdown",
   "metadata": {
    "slideshow": {
     "slide_type": "fragment"
    }
   },
   "source": [
    "`read.table()` or `read.csv()` imports data from an ASCII file into an R session."
   ]
  },
  {
   "cell_type": "markdown",
   "metadata": {
    "slideshow": {
     "slide_type": "subslide"
    }
   },
   "source": [
    "**Example**: Acemoglu, Johnson and Robinson (2001). [Data source](https://economics.mit.edu/faculty/acemoglu/data/ajr2001). \n",
    "* This empirical example was adopted by Chang, Shi and Zhang (2023, JBES)."
   ]
  },
  {
   "cell_type": "code",
   "execution_count": 2,
   "metadata": {
    "slideshow": {
     "slide_type": "fragment"
    },
    "vscode": {
     "languageId": "r"
    }
   },
   "outputs": [
    {
     "data": {
      "text/html": [
       "<table class=\"dataframe\">\n",
       "<caption>A data.frame: 6 × 17</caption>\n",
       "<thead>\n",
       "\t<tr><th></th><th scope=col>shortnam</th><th scope=col>logpgp95</th><th scope=col>loghjypl</th><th scope=col>avexpr</th><th scope=col>lat_abst</th><th scope=col>logem4</th><th scope=col>malfal94</th><th scope=col>yellow</th><th scope=col>leb95</th><th scope=col>imr95</th><th scope=col>meantemp</th><th scope=col>lt100km</th><th scope=col>euro1900</th><th scope=col>democ1</th><th scope=col>cons1</th><th scope=col>democ00a</th><th scope=col>cons00a</th></tr>\n",
       "\t<tr><th></th><th scope=col>&lt;chr&gt;</th><th scope=col>&lt;dbl&gt;</th><th scope=col>&lt;dbl&gt;</th><th scope=col>&lt;dbl&gt;</th><th scope=col>&lt;dbl&gt;</th><th scope=col>&lt;dbl&gt;</th><th scope=col>&lt;dbl&gt;</th><th scope=col>&lt;int&gt;</th><th scope=col>&lt;dbl&gt;</th><th scope=col>&lt;dbl&gt;</th><th scope=col>&lt;dbl&gt;</th><th scope=col>&lt;dbl&gt;</th><th scope=col>&lt;dbl&gt;</th><th scope=col>&lt;int&gt;</th><th scope=col>&lt;int&gt;</th><th scope=col>&lt;int&gt;</th><th scope=col>&lt;int&gt;</th></tr>\n",
       "</thead>\n",
       "<tbody>\n",
       "\t<tr><th scope=row>1</th><td>AGO</td><td>7.770645</td><td>-3.4112480</td><td>5.363636</td><td>0.1366667</td><td>5.634789</td><td>0.95000</td><td>1</td><td>46.49</td><td>125.0</td><td>22.94133</td><td>0.118758</td><td> 8</td><td> 0</td><td> 3</td><td> 0</td><td> 1</td></tr>\n",
       "\t<tr><th scope=row>2</th><td>ARG</td><td>9.133459</td><td>-0.8722738</td><td>6.386364</td><td>0.3777778</td><td>4.232656</td><td>0.00000</td><td>0</td><td>72.89</td><td> 21.8</td><td>17.10000</td><td>0.123089</td><td>60</td><td> 1</td><td> 1</td><td> 3</td><td> 3</td></tr>\n",
       "\t<tr><th scope=row>3</th><td>AUS</td><td>9.897972</td><td>-0.1707883</td><td>9.318182</td><td>0.3000000</td><td>2.145931</td><td>0.00000</td><td>1</td><td>78.25</td><td>  5.6</td><td>20.90000</td><td>0.198958</td><td>98</td><td>10</td><td> 7</td><td>10</td><td> 7</td></tr>\n",
       "\t<tr><th scope=row>4</th><td>BFA</td><td>6.845880</td><td>-3.5404590</td><td>4.454545</td><td>0.1444445</td><td>5.634789</td><td>0.95000</td><td>1</td><td>44.39</td><td> 98.8</td><td>28.10000</td><td>0.000000</td><td> 0</td><td> 0</td><td> 3</td><td> 0</td><td> 1</td></tr>\n",
       "\t<tr><th scope=row>5</th><td>BGD</td><td>6.877296</td><td>-2.0635680</td><td>5.136364</td><td>0.2666667</td><td>4.268438</td><td>0.12008</td><td>1</td><td>58.13</td><td> 78.8</td><td>25.68621</td><td>0.401598</td><td> 0</td><td> 8</td><td> 7</td><td> 0</td><td> 1</td></tr>\n",
       "\t<tr><th scope=row>6</th><td>BHS</td><td>9.285448</td><td>        NA</td><td>7.500000</td><td>0.2683333</td><td>4.442651</td><td>     NA</td><td>1</td><td>   NA</td><td>   NA</td><td>      NA</td><td>      NA</td><td>10</td><td>NA</td><td>NA</td><td>NA</td><td>NA</td></tr>\n",
       "</tbody>\n",
       "</table>\n"
      ],
      "text/latex": [
       "A data.frame: 6 × 17\n",
       "\\begin{tabular}{r|lllllllllllllllll}\n",
       "  & shortnam & logpgp95 & loghjypl & avexpr & lat\\_abst & logem4 & malfal94 & yellow & leb95 & imr95 & meantemp & lt100km & euro1900 & democ1 & cons1 & democ00a & cons00a\\\\\n",
       "  & <chr> & <dbl> & <dbl> & <dbl> & <dbl> & <dbl> & <dbl> & <int> & <dbl> & <dbl> & <dbl> & <dbl> & <dbl> & <int> & <int> & <int> & <int>\\\\\n",
       "\\hline\n",
       "\t1 & AGO & 7.770645 & -3.4112480 & 5.363636 & 0.1366667 & 5.634789 & 0.95000 & 1 & 46.49 & 125.0 & 22.94133 & 0.118758 &  8 &  0 &  3 &  0 &  1\\\\\n",
       "\t2 & ARG & 9.133459 & -0.8722738 & 6.386364 & 0.3777778 & 4.232656 & 0.00000 & 0 & 72.89 &  21.8 & 17.10000 & 0.123089 & 60 &  1 &  1 &  3 &  3\\\\\n",
       "\t3 & AUS & 9.897972 & -0.1707883 & 9.318182 & 0.3000000 & 2.145931 & 0.00000 & 1 & 78.25 &   5.6 & 20.90000 & 0.198958 & 98 & 10 &  7 & 10 &  7\\\\\n",
       "\t4 & BFA & 6.845880 & -3.5404590 & 4.454545 & 0.1444445 & 5.634789 & 0.95000 & 1 & 44.39 &  98.8 & 28.10000 & 0.000000 &  0 &  0 &  3 &  0 &  1\\\\\n",
       "\t5 & BGD & 6.877296 & -2.0635680 & 5.136364 & 0.2666667 & 4.268438 & 0.12008 & 1 & 58.13 &  78.8 & 25.68621 & 0.401598 &  0 &  8 &  7 &  0 &  1\\\\\n",
       "\t6 & BHS & 9.285448 &         NA & 7.500000 & 0.2683333 & 4.442651 &      NA & 1 &    NA &    NA &       NA &       NA & 10 & NA & NA & NA & NA\\\\\n",
       "\\end{tabular}\n"
      ],
      "text/markdown": [
       "\n",
       "A data.frame: 6 × 17\n",
       "\n",
       "| <!--/--> | shortnam &lt;chr&gt; | logpgp95 &lt;dbl&gt; | loghjypl &lt;dbl&gt; | avexpr &lt;dbl&gt; | lat_abst &lt;dbl&gt; | logem4 &lt;dbl&gt; | malfal94 &lt;dbl&gt; | yellow &lt;int&gt; | leb95 &lt;dbl&gt; | imr95 &lt;dbl&gt; | meantemp &lt;dbl&gt; | lt100km &lt;dbl&gt; | euro1900 &lt;dbl&gt; | democ1 &lt;int&gt; | cons1 &lt;int&gt; | democ00a &lt;int&gt; | cons00a &lt;int&gt; |\n",
       "|---|---|---|---|---|---|---|---|---|---|---|---|---|---|---|---|---|---|\n",
       "| 1 | AGO | 7.770645 | -3.4112480 | 5.363636 | 0.1366667 | 5.634789 | 0.95000 | 1 | 46.49 | 125.0 | 22.94133 | 0.118758 |  8 |  0 |  3 |  0 |  1 |\n",
       "| 2 | ARG | 9.133459 | -0.8722738 | 6.386364 | 0.3777778 | 4.232656 | 0.00000 | 0 | 72.89 |  21.8 | 17.10000 | 0.123089 | 60 |  1 |  1 |  3 |  3 |\n",
       "| 3 | AUS | 9.897972 | -0.1707883 | 9.318182 | 0.3000000 | 2.145931 | 0.00000 | 1 | 78.25 |   5.6 | 20.90000 | 0.198958 | 98 | 10 |  7 | 10 |  7 |\n",
       "| 4 | BFA | 6.845880 | -3.5404590 | 4.454545 | 0.1444445 | 5.634789 | 0.95000 | 1 | 44.39 |  98.8 | 28.10000 | 0.000000 |  0 |  0 |  3 |  0 |  1 |\n",
       "| 5 | BGD | 6.877296 | -2.0635680 | 5.136364 | 0.2666667 | 4.268438 | 0.12008 | 1 | 58.13 |  78.8 | 25.68621 | 0.401598 |  0 |  8 |  7 |  0 |  1 |\n",
       "| 6 | BHS | 9.285448 |         NA | 7.500000 | 0.2683333 | 4.442651 |      NA | 1 |    NA |    NA |       NA |       NA | 10 | NA | NA | NA | NA |\n",
       "\n"
      ],
      "text/plain": [
       "  shortnam logpgp95 loghjypl   avexpr   lat_abst  logem4   malfal94 yellow\n",
       "1 AGO      7.770645 -3.4112480 5.363636 0.1366667 5.634789 0.95000  1     \n",
       "2 ARG      9.133459 -0.8722738 6.386364 0.3777778 4.232656 0.00000  0     \n",
       "3 AUS      9.897972 -0.1707883 9.318182 0.3000000 2.145931 0.00000  1     \n",
       "4 BFA      6.845880 -3.5404590 4.454545 0.1444445 5.634789 0.95000  1     \n",
       "5 BGD      6.877296 -2.0635680 5.136364 0.2666667 4.268438 0.12008  1     \n",
       "6 BHS      9.285448         NA 7.500000 0.2683333 4.442651      NA  1     \n",
       "  leb95 imr95 meantemp lt100km  euro1900 democ1 cons1 democ00a cons00a\n",
       "1 46.49 125.0 22.94133 0.118758  8        0      3     0        1     \n",
       "2 72.89  21.8 17.10000 0.123089 60        1      1     3        3     \n",
       "3 78.25   5.6 20.90000 0.198958 98       10      7    10        7     \n",
       "4 44.39  98.8 28.10000 0.000000  0        0      3     0        1     \n",
       "5 58.13  78.8 25.68621 0.401598  0        8      7     0        1     \n",
       "6    NA    NA       NA       NA 10       NA     NA    NA       NA     "
      ]
     },
     "metadata": {},
     "output_type": "display_data"
    }
   ],
   "source": [
    "AJR = read.csv(\"data_example/AJR.csv\", header = TRUE)\n",
    "head(AJR)"
   ]
  },
  {
   "cell_type": "markdown",
   "metadata": {
    "slideshow": {
     "slide_type": "slide"
    }
   },
   "source": [
    "## Data Frame\n",
    "\n",
    "* *data.frame* is a two-dimensional table that stores the data, \n",
    "  * similar to a spreadsheet in Excel.\n",
    "\n",
    "* *Matrix* it only accommodates one type of elements.\n",
    "\n",
    "* `tibble` is a new and refined alternative data frame type."
   ]
  },
  {
   "cell_type": "code",
   "execution_count": 3,
   "metadata": {
    "slideshow": {
     "slide_type": "subslide"
    },
    "vscode": {
     "languageId": "r"
    }
   },
   "outputs": [
    {
     "data": {
      "text/html": [
       "<table class=\"dataframe\">\n",
       "<caption>A tibble: 64 × 17</caption>\n",
       "<thead>\n",
       "\t<tr><th scope=col>shortnam</th><th scope=col>logpgp95</th><th scope=col>loghjypl</th><th scope=col>avexpr</th><th scope=col>lat_abst</th><th scope=col>logem4</th><th scope=col>malfal94</th><th scope=col>yellow</th><th scope=col>leb95</th><th scope=col>imr95</th><th scope=col>meantemp</th><th scope=col>lt100km</th><th scope=col>euro1900</th><th scope=col>democ1</th><th scope=col>cons1</th><th scope=col>democ00a</th><th scope=col>cons00a</th></tr>\n",
       "\t<tr><th scope=col>&lt;chr&gt;</th><th scope=col>&lt;dbl&gt;</th><th scope=col>&lt;dbl&gt;</th><th scope=col>&lt;dbl&gt;</th><th scope=col>&lt;dbl&gt;</th><th scope=col>&lt;dbl&gt;</th><th scope=col>&lt;dbl&gt;</th><th scope=col>&lt;int&gt;</th><th scope=col>&lt;dbl&gt;</th><th scope=col>&lt;dbl&gt;</th><th scope=col>&lt;dbl&gt;</th><th scope=col>&lt;dbl&gt;</th><th scope=col>&lt;dbl&gt;</th><th scope=col>&lt;int&gt;</th><th scope=col>&lt;int&gt;</th><th scope=col>&lt;int&gt;</th><th scope=col>&lt;int&gt;</th></tr>\n",
       "</thead>\n",
       "<tbody>\n",
       "\t<tr><td>AGO</td><td> 7.770645</td><td>-3.4112480</td><td>5.363636</td><td>0.1366667</td><td>5.634789</td><td>0.95000</td><td>1</td><td>46.49</td><td>125.0</td><td>22.94133</td><td>0.118758</td><td> 8</td><td> 0</td><td> 3</td><td> 0</td><td> 1</td></tr>\n",
       "\t<tr><td>ARG</td><td> 9.133459</td><td>-0.8722738</td><td>6.386364</td><td>0.3777778</td><td>4.232656</td><td>0.00000</td><td>0</td><td>72.89</td><td> 21.8</td><td>17.10000</td><td>0.123089</td><td>60</td><td> 1</td><td> 1</td><td> 3</td><td> 3</td></tr>\n",
       "\t<tr><td>AUS</td><td> 9.897972</td><td>-0.1707883</td><td>9.318182</td><td>0.3000000</td><td>2.145931</td><td>0.00000</td><td>1</td><td>78.25</td><td>  5.6</td><td>20.90000</td><td>0.198958</td><td>98</td><td>10</td><td> 7</td><td>10</td><td> 7</td></tr>\n",
       "\t<tr><td>BFA</td><td> 6.845880</td><td>-3.5404590</td><td>4.454545</td><td>0.1444445</td><td>5.634789</td><td>0.95000</td><td>1</td><td>44.39</td><td> 98.8</td><td>28.10000</td><td>0.000000</td><td> 0</td><td> 0</td><td> 3</td><td> 0</td><td> 1</td></tr>\n",
       "\t<tr><td>BGD</td><td> 6.877296</td><td>-2.0635680</td><td>5.136364</td><td>0.2666667</td><td>4.268438</td><td>0.12008</td><td>1</td><td>58.13</td><td> 78.8</td><td>25.68621</td><td>0.401598</td><td> 0</td><td> 8</td><td> 7</td><td> 0</td><td> 1</td></tr>\n",
       "\t<tr><td>BHS</td><td> 9.285448</td><td>        NA</td><td>7.500000</td><td>0.2683333</td><td>4.442651</td><td>     NA</td><td>1</td><td>   NA</td><td>   NA</td><td>      NA</td><td>      NA</td><td>10</td><td>NA</td><td>NA</td><td>NA</td><td>NA</td></tr>\n",
       "\t<tr><td>BOL</td><td> 7.926602</td><td>-1.9661130</td><td>5.636364</td><td>0.1888889</td><td>4.262680</td><td>0.00165</td><td>1</td><td>61.39</td><td> 65.6</td><td>21.50000</td><td>0.000000</td><td>30</td><td> 1</td><td> 3</td><td> 4</td><td> 3</td></tr>\n",
       "\t<tr><td>BRA</td><td> 8.727454</td><td>-1.1425640</td><td>7.909091</td><td>0.1111111</td><td>4.262680</td><td>0.03600</td><td>1</td><td>66.78</td><td> 42.4</td><td>23.70000</td><td>0.092516</td><td>40</td><td> 1</td><td> 1</td><td> 1</td><td> 3</td></tr>\n",
       "\t<tr><td>CAN</td><td> 9.986449</td><td>-0.0608122</td><td>9.727273</td><td>0.6666667</td><td>2.778819</td><td>0.00000</td><td>0</td><td>78.98</td><td>  6.0</td><td>-0.20000</td><td>0.021164</td><td>99</td><td> 7</td><td> 7</td><td> 9</td><td> 7</td></tr>\n",
       "\t<tr><td>CHL</td><td> 9.336092</td><td>-1.3356010</td><td>7.818182</td><td>0.3333333</td><td>4.232656</td><td>0.00000</td><td>0</td><td>74.94</td><td> 12.8</td><td>13.40000</td><td>0.660182</td><td>50</td><td> 1</td><td> 1</td><td> 5</td><td> 7</td></tr>\n",
       "\t<tr><td>CIV</td><td> 7.444249</td><td>-2.3330440</td><td>7.000000</td><td>0.0888889</td><td>6.504288</td><td>0.95000</td><td>1</td><td>46.72</td><td> 87.3</td><td>26.09070</td><td>0.171056</td><td> 0</td><td> 0</td><td> 1</td><td> 0</td><td> 1</td></tr>\n",
       "\t<tr><td>CMR</td><td> 7.501082</td><td>-2.5770220</td><td>6.454545</td><td>0.0666667</td><td>5.634789</td><td>0.95000</td><td>1</td><td>54.73</td><td> 74.4</td><td>24.43333</td><td>0.098240</td><td> 0</td><td> 0</td><td> 3</td><td> 0</td><td> 1</td></tr>\n",
       "\t<tr><td>COG</td><td> 7.420579</td><td>-2.1037340</td><td>4.681818</td><td>0.0111111</td><td>5.480639</td><td>0.95000</td><td>1</td><td>48.55</td><td> 89.5</td><td>24.75151</td><td>0.047893</td><td> 0</td><td> 5</td><td> 4</td><td> 0</td><td> 1</td></tr>\n",
       "\t<tr><td>COL</td><td> 8.809863</td><td>-1.3318060</td><td>7.318182</td><td>0.0444444</td><td>4.262680</td><td>0.14637</td><td>1</td><td>70.43</td><td> 30.0</td><td>22.50000</td><td>0.159722</td><td>20</td><td> 4</td><td> 3</td><td> 3</td><td> 5</td></tr>\n",
       "\t<tr><td>CRI</td><td> 8.794825</td><td>-1.3586790</td><td>7.045455</td><td>0.1111111</td><td>4.357990</td><td>0.00000</td><td>1</td><td>76.03</td><td> 12.1</td><td>25.10000</td><td>1.000000</td><td>20</td><td> 0</td><td> 3</td><td>10</td><td> 7</td></tr>\n",
       "\t<tr><td>DOM</td><td> 8.364042</td><td>-1.5798790</td><td>6.181818</td><td>0.2111111</td><td>4.867535</td><td>0.00000</td><td>1</td><td>70.61</td><td> 33.6</td><td>25.60000</td><td>1.000000</td><td>25</td><td> 1</td><td> 3</td><td> 1</td><td> 3</td></tr>\n",
       "\t<tr><td>DZA</td><td> 8.389359</td><td>-1.1147420</td><td>6.500000</td><td>0.3111111</td><td>4.359270</td><td>0.00000</td><td>0</td><td>68.89</td><td> 43.8</td><td>19.30000</td><td>0.047186</td><td>13</td><td> 0</td><td> 2</td><td> 0</td><td> 1</td></tr>\n",
       "\t<tr><td>ECU</td><td> 8.470101</td><td>-1.4396950</td><td>6.545455</td><td>0.0222222</td><td>4.262680</td><td>0.11895</td><td>0</td><td>69.52</td><td> 45.6</td><td>19.10000</td><td>0.368411</td><td>30</td><td> 1</td><td> 3</td><td> 1</td><td> 3</td></tr>\n",
       "\t<tr><td>EGY</td><td> 7.951560</td><td>-1.6766470</td><td>6.772727</td><td>0.3000000</td><td>4.216562</td><td>0.00000</td><td>0</td><td>66.27</td><td> 50.5</td><td>22.60000</td><td>0.239163</td><td> 0</td><td> 0</td><td> 1</td><td> 7</td><td> 7</td></tr>\n",
       "\t<tr><td>ETH</td><td> 6.109248</td><td>        NA</td><td>5.727273</td><td>0.0888889</td><td>3.258096</td><td>0.55100</td><td>1</td><td>43.32</td><td>116.0</td><td>      NA</td><td>0.021018</td><td> 0</td><td> 0</td><td> 1</td><td> 5</td><td> 7</td></tr>\n",
       "\t<tr><td>GAB</td><td> 8.907883</td><td>-1.8515090</td><td>7.818182</td><td>0.0111111</td><td>5.634789</td><td>0.94050</td><td>1</td><td>52.42</td><td> 87.3</td><td>24.50000</td><td>0.261791</td><td> 0</td><td> 0</td><td> 2</td><td> 0</td><td> 1</td></tr>\n",
       "\t<tr><td>GHA</td><td> 7.365180</td><td>-2.9565110</td><td>6.272727</td><td>0.0888889</td><td>6.504288</td><td>0.95000</td><td>1</td><td>60.00</td><td> 65.8</td><td>26.35758</td><td>0.192991</td><td> 0</td><td> 0</td><td> 1</td><td> 0</td><td> 1</td></tr>\n",
       "\t<tr><td>GIN</td><td> 7.489971</td><td>-3.1465550</td><td>6.545455</td><td>0.1222222</td><td>6.180017</td><td>0.95000</td><td>1</td><td>46.50</td><td>124.0</td><td>24.43889</td><td>0.140641</td><td> 0</td><td> 0</td><td> 1</td><td> 0</td><td> 1</td></tr>\n",
       "\t<tr><td>GMB</td><td> 7.272398</td><td>-3.0365540</td><td>8.272727</td><td>0.1475556</td><td>7.293018</td><td>0.95000</td><td>1</td><td>47.00</td><td>122.0</td><td>25.66596</td><td>0.399770</td><td> 0</td><td>10</td><td> 7</td><td> 0</td><td> 1</td></tr>\n",
       "\t<tr><td>GTM</td><td> 8.294049</td><td>-1.5606480</td><td>5.136364</td><td>0.1700000</td><td>4.262680</td><td>0.00360</td><td>1</td><td>64.04</td><td> 46.0</td><td>21.70000</td><td>0.425458</td><td>20</td><td> 1</td><td> 1</td><td> 0</td><td> 1</td></tr>\n",
       "\t<tr><td>GUY</td><td> 7.904704</td><td>-2.2537950</td><td>5.886364</td><td>0.0555556</td><td>3.471345</td><td>0.49503</td><td>1</td><td>   NA</td><td>   NA</td><td>      NA</td><td>      NA</td><td> 2</td><td> 5</td><td> 7</td><td> 0</td><td> 1</td></tr>\n",
       "\t<tr><td>HKG</td><td>10.049750</td><td>-0.4975804</td><td>8.136364</td><td>0.2461111</td><td>2.701361</td><td>0.00000</td><td>0</td><td>   NA</td><td>   NA</td><td>22.60000</td><td>1.000000</td><td> 4</td><td>NA</td><td>NA</td><td>NA</td><td>NA</td></tr>\n",
       "\t<tr><td>HND</td><td> 7.687080</td><td>-2.0402210</td><td>5.318182</td><td>0.1666667</td><td>4.357990</td><td>0.01200</td><td>1</td><td>69.40</td><td> 35.0</td><td>25.40000</td><td>0.668602</td><td>20</td><td> 1</td><td> 3</td><td> 6</td><td> 5</td></tr>\n",
       "\t<tr><td>HTI</td><td> 7.146772</td><td>-2.8647040</td><td>3.727273</td><td>0.2111111</td><td>4.867535</td><td>1.00000</td><td>1</td><td>53.75</td><td> 67.7</td><td>26.58033</td><td>1.000000</td><td> 0</td><td> 0</td><td> 1</td><td> 0</td><td> 1</td></tr>\n",
       "\t<tr><td>IDN</td><td> 8.070906</td><td>-2.2072750</td><td>7.590909</td><td>0.0556000</td><td>5.135798</td><td>0.17873</td><td>1</td><td>65.13</td><td> 48.4</td><td>26.80000</td><td>0.745760</td><td> 0</td><td> 0</td><td> 1</td><td> 0</td><td> 1</td></tr>\n",
       "\t<tr><td>⋮</td><td>⋮</td><td>⋮</td><td>⋮</td><td>⋮</td><td>⋮</td><td>⋮</td><td>⋮</td><td>⋮</td><td>⋮</td><td>⋮</td><td>⋮</td><td>⋮</td><td>⋮</td><td>⋮</td><td>⋮</td><td>⋮</td></tr>\n",
       "\t<tr><td>MAR</td><td> 8.042378</td><td>-1.6766470</td><td> 7.090909</td><td>0.3555556</td><td>4.359270</td><td>0.00000</td><td>0</td><td>66.64</td><td> 51.0</td><td>18.50000</td><td>0.367858</td><td> 1.0</td><td> 1</td><td> 1</td><td> 1</td><td> 1</td></tr>\n",
       "\t<tr><td>MDG</td><td> 6.835185</td><td>-3.1941830</td><td> 4.454545</td><td>0.2222222</td><td>6.284209</td><td>0.95000</td><td>1</td><td>57.51</td><td> 82.5</td><td>23.30000</td><td>0.570964</td><td> 0.0</td><td> 3</td><td> 4</td><td> 0</td><td> 1</td></tr>\n",
       "\t<tr><td>MEX</td><td> 8.943768</td><td>-0.8370175</td><td> 7.500000</td><td>0.2555556</td><td>4.262680</td><td>0.00042</td><td>1</td><td>72.18</td><td> 31.0</td><td>19.00000</td><td>0.372550</td><td>15.0</td><td> 1</td><td> 3</td><td> 0</td><td> 1</td></tr>\n",
       "\t<tr><td>MLI</td><td> 6.565265</td><td>-3.3524070</td><td> 4.000000</td><td>0.1888889</td><td>7.986165</td><td>0.94050</td><td>1</td><td>53.30</td><td>118.0</td><td>29.30000</td><td>0.000000</td><td> 0.0</td><td> 0</td><td> 3</td><td> 0</td><td> 1</td></tr>\n",
       "\t<tr><td>MLT</td><td> 9.427063</td><td>-0.7700282</td><td> 7.227273</td><td>0.3944444</td><td>2.791165</td><td>     NA</td><td>0</td><td>   NA</td><td>   NA</td><td>      NA</td><td>      NA</td><td>  NA</td><td>NA</td><td>NA</td><td>NA</td><td>NA</td></tr>\n",
       "\t<tr><td>MYS</td><td> 8.894258</td><td>-1.3205070</td><td> 7.954545</td><td>0.0255556</td><td>2.873565</td><td>0.23331</td><td>1</td><td>72.00</td><td> 11.4</td><td>26.70000</td><td>0.794407</td><td> 0.0</td><td>10</td><td> 7</td><td> 0</td><td> 1</td></tr>\n",
       "\t<tr><td>NER</td><td> 6.733402</td><td>-3.5404590</td><td> 5.000000</td><td>0.1777778</td><td>5.991465</td><td>0.94050</td><td>1</td><td>48.50</td><td>115.0</td><td>28.40000</td><td>0.000000</td><td> 0.0</td><td> 0</td><td> 3</td><td> 0</td><td> 1</td></tr>\n",
       "\t<tr><td>NGA</td><td> 6.813445</td><td>-3.0365540</td><td> 5.545455</td><td>0.1111111</td><td>7.602901</td><td>0.95000</td><td>1</td><td>50.08</td><td> 81.1</td><td>26.65065</td><td>0.097769</td><td> 0.0</td><td> 8</td><td> 7</td><td> 0</td><td> 1</td></tr>\n",
       "\t<tr><td>NIC</td><td> 7.544332</td><td>-2.0714730</td><td> 5.227273</td><td>0.1444445</td><td>5.095589</td><td>0.04400</td><td>1</td><td>67.86</td><td> 43.4</td><td>26.63333</td><td>0.632686</td><td>20.0</td><td> 1</td><td> 1</td><td> 1</td><td> 1</td></tr>\n",
       "\t<tr><td>NZL</td><td> 9.756147</td><td>-0.3326794</td><td> 9.727273</td><td>0.4555556</td><td>2.145931</td><td>0.00000</td><td>0</td><td>76.90</td><td>  6.8</td><td>12.80000</td><td>0.959488</td><td>93.0</td><td>10</td><td> 7</td><td>10</td><td> 7</td></tr>\n",
       "\t<tr><td>PAK</td><td> 7.352441</td><td>-2.0557250</td><td> 6.045455</td><td>0.3333333</td><td>3.610648</td><td>0.53757</td><td>1</td><td>63.95</td><td> 74.1</td><td>23.50000</td><td>0.094196</td><td> 0.0</td><td> 1</td><td> 1</td><td> 0</td><td> 1</td></tr>\n",
       "\t<tr><td>PAN</td><td> 8.836374</td><td>-1.5005840</td><td> 5.909091</td><td>0.1000000</td><td>5.095589</td><td>0.08004</td><td>1</td><td>73.60</td><td> 21.4</td><td>27.50000</td><td>1.000000</td><td>20.0</td><td> 0</td><td> 3</td><td> 0</td><td> 1</td></tr>\n",
       "\t<tr><td>PER</td><td> 8.396154</td><td>-1.4396950</td><td> 5.772727</td><td>0.1111111</td><td>4.262680</td><td>0.00050</td><td>0</td><td>68.32</td><td> 45.0</td><td>20.50000</td><td>0.173208</td><td>30.0</td><td> 1</td><td> 1</td><td> 4</td><td> 3</td></tr>\n",
       "\t<tr><td>PRY</td><td> 8.207947</td><td>-1.7719570</td><td> 6.954545</td><td>0.2555556</td><td>4.357990</td><td>0.00000</td><td>0</td><td>69.61</td><td> 39.2</td><td>23.00000</td><td>0.000000</td><td>25.0</td><td> 0</td><td> 1</td><td> 1</td><td> 2</td></tr>\n",
       "\t<tr><td>SDN</td><td> 7.306531</td><td>-2.7030630</td><td> 4.000000</td><td>0.1666667</td><td>4.479607</td><td>0.93100</td><td>1</td><td>54.97</td><td> 70.9</td><td>28.50000</td><td>0.023230</td><td> 0.0</td><td> 8</td><td> 7</td><td> 0</td><td> 1</td></tr>\n",
       "\t<tr><td>SEN</td><td> 7.402452</td><td>-2.6310890</td><td> 6.000000</td><td>0.1555556</td><td>5.103883</td><td>0.95000</td><td>1</td><td>52.32</td><td> 63.2</td><td>27.20000</td><td>0.244762</td><td> 0.0</td><td> 3</td><td> 3</td><td> 0</td><td> 1</td></tr>\n",
       "\t<tr><td>SGP</td><td>10.146430</td><td>-0.5008753</td><td> 9.318182</td><td>0.0135556</td><td>2.873565</td><td>0.00000</td><td>1</td><td>77.10</td><td>  4.9</td><td>27.10000</td><td>1.000000</td><td> 4.0</td><td> 8</td><td> 7</td><td> 0</td><td> 1</td></tr>\n",
       "\t<tr><td>SLE</td><td> 6.253829</td><td>-2.7488720</td><td> 5.818182</td><td>0.0922222</td><td>6.180017</td><td>0.95000</td><td>1</td><td>37.24</td><td>170.0</td><td>26.20000</td><td>0.466186</td><td> 0.0</td><td>NA</td><td>NA</td><td>NA</td><td>NA</td></tr>\n",
       "\t<tr><td>SLV</td><td> 7.948032</td><td>-1.8515090</td><td> 5.000000</td><td>0.1500000</td><td>4.357990</td><td>0.00000</td><td>1</td><td>69.13</td><td> 32.0</td><td>23.57101</td><td>1.000000</td><td>20.0</td><td>NA</td><td> 3</td><td>NA</td><td> 3</td></tr>\n",
       "\t<tr><td>TGO</td><td> 7.222566</td><td>-3.2188760</td><td> 6.909091</td><td>0.0888889</td><td>6.504288</td><td>0.95000</td><td>1</td><td>48.84</td><td> 83.9</td><td>26.80000</td><td>0.167690</td><td> 0.0</td><td> 0</td><td> 3</td><td> 0</td><td> 1</td></tr>\n",
       "\t<tr><td>TTO</td><td> 8.768730</td><td>-0.6971552</td><td> 7.454545</td><td>0.1222222</td><td>4.442651</td><td>0.00000</td><td>1</td><td>73.80</td><td> 14.5</td><td>25.90000</td><td>1.000000</td><td>40.0</td><td> 8</td><td> 7</td><td> 0</td><td> 1</td></tr>\n",
       "\t<tr><td>TUN</td><td> 8.482602</td><td>-1.5278580</td><td> 6.454545</td><td>0.3777778</td><td>4.143135</td><td>0.00000</td><td>0</td><td>69.50</td><td> 30.3</td><td>19.60000</td><td>0.479655</td><td> 3.0</td><td> 0</td><td> 1</td><td> 0</td><td> 1</td></tr>\n",
       "\t<tr><td>TZA</td><td> 6.253829</td><td>-3.4420190</td><td> 6.636364</td><td>0.0666667</td><td>5.634789</td><td>0.92150</td><td>1</td><td>47.92</td><td> 81.5</td><td>25.09024</td><td>0.088189</td><td> 0.0</td><td> 0</td><td> 3</td><td> 0</td><td> 1</td></tr>\n",
       "\t<tr><td>UGA</td><td> 6.966024</td><td>-3.4420190</td><td> 4.454545</td><td>0.0111111</td><td>5.634789</td><td>0.95000</td><td>1</td><td>39.64</td><td>107.0</td><td>21.57432</td><td>0.000000</td><td> 0.0</td><td> 7</td><td> 7</td><td> 0</td><td> 1</td></tr>\n",
       "\t<tr><td>URY</td><td> 9.031214</td><td>-1.0788100</td><td> 7.000000</td><td>0.3666667</td><td>4.262680</td><td>0.00000</td><td>0</td><td>73.93</td><td> 17.5</td><td>18.40000</td><td>0.312329</td><td>60.0</td><td> 1</td><td> 1</td><td> 1</td><td> 1</td></tr>\n",
       "\t<tr><td>USA</td><td>10.215740</td><td> 0.0000000</td><td>10.000000</td><td>0.4222222</td><td>2.708050</td><td>0.00000</td><td>1</td><td>76.70</td><td>  7.1</td><td>11.20000</td><td>0.111732</td><td>87.5</td><td> 7</td><td> 7</td><td>10</td><td> 7</td></tr>\n",
       "\t<tr><td>VEN</td><td> 9.071078</td><td>-0.7031975</td><td> 7.136364</td><td>0.0888889</td><td>4.357990</td><td>0.00704</td><td>1</td><td>72.41</td><td> 20.9</td><td>24.80000</td><td>0.244409</td><td>20.0</td><td> 1</td><td> 1</td><td> 1</td><td> 3</td></tr>\n",
       "\t<tr><td>VNM</td><td> 7.279319</td><td>        NA</td><td> 6.409091</td><td>0.1777778</td><td>4.941642</td><td>0.70110</td><td>1</td><td>67.39</td><td> 38.2</td><td>25.55714</td><td>0.570282</td><td> 0.0</td><td> 0</td><td> 1</td><td> 0</td><td> 1</td></tr>\n",
       "\t<tr><td>ZAF</td><td> 8.885994</td><td>-1.3862940</td><td> 6.863636</td><td>0.3222222</td><td>2.740840</td><td>0.10450</td><td>0</td><td>54.73</td><td> 59.2</td><td>17.70000</td><td>0.196330</td><td>22.0</td><td> 3</td><td> 3</td><td> 3</td><td> 3</td></tr>\n",
       "\t<tr><td>ZAR</td><td> 6.866933</td><td>-3.4112480</td><td> 3.500000</td><td>0.0000000</td><td>5.480639</td><td>0.95000</td><td>1</td><td>50.79</td><td> 90.2</td><td>23.35455</td><td>0.003987</td><td> 8.0</td><td> 0</td><td> 1</td><td> 0</td><td> 1</td></tr>\n",
       "</tbody>\n",
       "</table>\n"
      ],
      "text/latex": [
       "A tibble: 64 × 17\n",
       "\\begin{tabular}{lllllllllllllllll}\n",
       " shortnam & logpgp95 & loghjypl & avexpr & lat\\_abst & logem4 & malfal94 & yellow & leb95 & imr95 & meantemp & lt100km & euro1900 & democ1 & cons1 & democ00a & cons00a\\\\\n",
       " <chr> & <dbl> & <dbl> & <dbl> & <dbl> & <dbl> & <dbl> & <int> & <dbl> & <dbl> & <dbl> & <dbl> & <dbl> & <int> & <int> & <int> & <int>\\\\\n",
       "\\hline\n",
       "\t AGO &  7.770645 & -3.4112480 & 5.363636 & 0.1366667 & 5.634789 & 0.95000 & 1 & 46.49 & 125.0 & 22.94133 & 0.118758 &  8 &  0 &  3 &  0 &  1\\\\\n",
       "\t ARG &  9.133459 & -0.8722738 & 6.386364 & 0.3777778 & 4.232656 & 0.00000 & 0 & 72.89 &  21.8 & 17.10000 & 0.123089 & 60 &  1 &  1 &  3 &  3\\\\\n",
       "\t AUS &  9.897972 & -0.1707883 & 9.318182 & 0.3000000 & 2.145931 & 0.00000 & 1 & 78.25 &   5.6 & 20.90000 & 0.198958 & 98 & 10 &  7 & 10 &  7\\\\\n",
       "\t BFA &  6.845880 & -3.5404590 & 4.454545 & 0.1444445 & 5.634789 & 0.95000 & 1 & 44.39 &  98.8 & 28.10000 & 0.000000 &  0 &  0 &  3 &  0 &  1\\\\\n",
       "\t BGD &  6.877296 & -2.0635680 & 5.136364 & 0.2666667 & 4.268438 & 0.12008 & 1 & 58.13 &  78.8 & 25.68621 & 0.401598 &  0 &  8 &  7 &  0 &  1\\\\\n",
       "\t BHS &  9.285448 &         NA & 7.500000 & 0.2683333 & 4.442651 &      NA & 1 &    NA &    NA &       NA &       NA & 10 & NA & NA & NA & NA\\\\\n",
       "\t BOL &  7.926602 & -1.9661130 & 5.636364 & 0.1888889 & 4.262680 & 0.00165 & 1 & 61.39 &  65.6 & 21.50000 & 0.000000 & 30 &  1 &  3 &  4 &  3\\\\\n",
       "\t BRA &  8.727454 & -1.1425640 & 7.909091 & 0.1111111 & 4.262680 & 0.03600 & 1 & 66.78 &  42.4 & 23.70000 & 0.092516 & 40 &  1 &  1 &  1 &  3\\\\\n",
       "\t CAN &  9.986449 & -0.0608122 & 9.727273 & 0.6666667 & 2.778819 & 0.00000 & 0 & 78.98 &   6.0 & -0.20000 & 0.021164 & 99 &  7 &  7 &  9 &  7\\\\\n",
       "\t CHL &  9.336092 & -1.3356010 & 7.818182 & 0.3333333 & 4.232656 & 0.00000 & 0 & 74.94 &  12.8 & 13.40000 & 0.660182 & 50 &  1 &  1 &  5 &  7\\\\\n",
       "\t CIV &  7.444249 & -2.3330440 & 7.000000 & 0.0888889 & 6.504288 & 0.95000 & 1 & 46.72 &  87.3 & 26.09070 & 0.171056 &  0 &  0 &  1 &  0 &  1\\\\\n",
       "\t CMR &  7.501082 & -2.5770220 & 6.454545 & 0.0666667 & 5.634789 & 0.95000 & 1 & 54.73 &  74.4 & 24.43333 & 0.098240 &  0 &  0 &  3 &  0 &  1\\\\\n",
       "\t COG &  7.420579 & -2.1037340 & 4.681818 & 0.0111111 & 5.480639 & 0.95000 & 1 & 48.55 &  89.5 & 24.75151 & 0.047893 &  0 &  5 &  4 &  0 &  1\\\\\n",
       "\t COL &  8.809863 & -1.3318060 & 7.318182 & 0.0444444 & 4.262680 & 0.14637 & 1 & 70.43 &  30.0 & 22.50000 & 0.159722 & 20 &  4 &  3 &  3 &  5\\\\\n",
       "\t CRI &  8.794825 & -1.3586790 & 7.045455 & 0.1111111 & 4.357990 & 0.00000 & 1 & 76.03 &  12.1 & 25.10000 & 1.000000 & 20 &  0 &  3 & 10 &  7\\\\\n",
       "\t DOM &  8.364042 & -1.5798790 & 6.181818 & 0.2111111 & 4.867535 & 0.00000 & 1 & 70.61 &  33.6 & 25.60000 & 1.000000 & 25 &  1 &  3 &  1 &  3\\\\\n",
       "\t DZA &  8.389359 & -1.1147420 & 6.500000 & 0.3111111 & 4.359270 & 0.00000 & 0 & 68.89 &  43.8 & 19.30000 & 0.047186 & 13 &  0 &  2 &  0 &  1\\\\\n",
       "\t ECU &  8.470101 & -1.4396950 & 6.545455 & 0.0222222 & 4.262680 & 0.11895 & 0 & 69.52 &  45.6 & 19.10000 & 0.368411 & 30 &  1 &  3 &  1 &  3\\\\\n",
       "\t EGY &  7.951560 & -1.6766470 & 6.772727 & 0.3000000 & 4.216562 & 0.00000 & 0 & 66.27 &  50.5 & 22.60000 & 0.239163 &  0 &  0 &  1 &  7 &  7\\\\\n",
       "\t ETH &  6.109248 &         NA & 5.727273 & 0.0888889 & 3.258096 & 0.55100 & 1 & 43.32 & 116.0 &       NA & 0.021018 &  0 &  0 &  1 &  5 &  7\\\\\n",
       "\t GAB &  8.907883 & -1.8515090 & 7.818182 & 0.0111111 & 5.634789 & 0.94050 & 1 & 52.42 &  87.3 & 24.50000 & 0.261791 &  0 &  0 &  2 &  0 &  1\\\\\n",
       "\t GHA &  7.365180 & -2.9565110 & 6.272727 & 0.0888889 & 6.504288 & 0.95000 & 1 & 60.00 &  65.8 & 26.35758 & 0.192991 &  0 &  0 &  1 &  0 &  1\\\\\n",
       "\t GIN &  7.489971 & -3.1465550 & 6.545455 & 0.1222222 & 6.180017 & 0.95000 & 1 & 46.50 & 124.0 & 24.43889 & 0.140641 &  0 &  0 &  1 &  0 &  1\\\\\n",
       "\t GMB &  7.272398 & -3.0365540 & 8.272727 & 0.1475556 & 7.293018 & 0.95000 & 1 & 47.00 & 122.0 & 25.66596 & 0.399770 &  0 & 10 &  7 &  0 &  1\\\\\n",
       "\t GTM &  8.294049 & -1.5606480 & 5.136364 & 0.1700000 & 4.262680 & 0.00360 & 1 & 64.04 &  46.0 & 21.70000 & 0.425458 & 20 &  1 &  1 &  0 &  1\\\\\n",
       "\t GUY &  7.904704 & -2.2537950 & 5.886364 & 0.0555556 & 3.471345 & 0.49503 & 1 &    NA &    NA &       NA &       NA &  2 &  5 &  7 &  0 &  1\\\\\n",
       "\t HKG & 10.049750 & -0.4975804 & 8.136364 & 0.2461111 & 2.701361 & 0.00000 & 0 &    NA &    NA & 22.60000 & 1.000000 &  4 & NA & NA & NA & NA\\\\\n",
       "\t HND &  7.687080 & -2.0402210 & 5.318182 & 0.1666667 & 4.357990 & 0.01200 & 1 & 69.40 &  35.0 & 25.40000 & 0.668602 & 20 &  1 &  3 &  6 &  5\\\\\n",
       "\t HTI &  7.146772 & -2.8647040 & 3.727273 & 0.2111111 & 4.867535 & 1.00000 & 1 & 53.75 &  67.7 & 26.58033 & 1.000000 &  0 &  0 &  1 &  0 &  1\\\\\n",
       "\t IDN &  8.070906 & -2.2072750 & 7.590909 & 0.0556000 & 5.135798 & 0.17873 & 1 & 65.13 &  48.4 & 26.80000 & 0.745760 &  0 &  0 &  1 &  0 &  1\\\\\n",
       "\t ⋮ & ⋮ & ⋮ & ⋮ & ⋮ & ⋮ & ⋮ & ⋮ & ⋮ & ⋮ & ⋮ & ⋮ & ⋮ & ⋮ & ⋮ & ⋮ & ⋮\\\\\n",
       "\t MAR &  8.042378 & -1.6766470 &  7.090909 & 0.3555556 & 4.359270 & 0.00000 & 0 & 66.64 &  51.0 & 18.50000 & 0.367858 &  1.0 &  1 &  1 &  1 &  1\\\\\n",
       "\t MDG &  6.835185 & -3.1941830 &  4.454545 & 0.2222222 & 6.284209 & 0.95000 & 1 & 57.51 &  82.5 & 23.30000 & 0.570964 &  0.0 &  3 &  4 &  0 &  1\\\\\n",
       "\t MEX &  8.943768 & -0.8370175 &  7.500000 & 0.2555556 & 4.262680 & 0.00042 & 1 & 72.18 &  31.0 & 19.00000 & 0.372550 & 15.0 &  1 &  3 &  0 &  1\\\\\n",
       "\t MLI &  6.565265 & -3.3524070 &  4.000000 & 0.1888889 & 7.986165 & 0.94050 & 1 & 53.30 & 118.0 & 29.30000 & 0.000000 &  0.0 &  0 &  3 &  0 &  1\\\\\n",
       "\t MLT &  9.427063 & -0.7700282 &  7.227273 & 0.3944444 & 2.791165 &      NA & 0 &    NA &    NA &       NA &       NA &   NA & NA & NA & NA & NA\\\\\n",
       "\t MYS &  8.894258 & -1.3205070 &  7.954545 & 0.0255556 & 2.873565 & 0.23331 & 1 & 72.00 &  11.4 & 26.70000 & 0.794407 &  0.0 & 10 &  7 &  0 &  1\\\\\n",
       "\t NER &  6.733402 & -3.5404590 &  5.000000 & 0.1777778 & 5.991465 & 0.94050 & 1 & 48.50 & 115.0 & 28.40000 & 0.000000 &  0.0 &  0 &  3 &  0 &  1\\\\\n",
       "\t NGA &  6.813445 & -3.0365540 &  5.545455 & 0.1111111 & 7.602901 & 0.95000 & 1 & 50.08 &  81.1 & 26.65065 & 0.097769 &  0.0 &  8 &  7 &  0 &  1\\\\\n",
       "\t NIC &  7.544332 & -2.0714730 &  5.227273 & 0.1444445 & 5.095589 & 0.04400 & 1 & 67.86 &  43.4 & 26.63333 & 0.632686 & 20.0 &  1 &  1 &  1 &  1\\\\\n",
       "\t NZL &  9.756147 & -0.3326794 &  9.727273 & 0.4555556 & 2.145931 & 0.00000 & 0 & 76.90 &   6.8 & 12.80000 & 0.959488 & 93.0 & 10 &  7 & 10 &  7\\\\\n",
       "\t PAK &  7.352441 & -2.0557250 &  6.045455 & 0.3333333 & 3.610648 & 0.53757 & 1 & 63.95 &  74.1 & 23.50000 & 0.094196 &  0.0 &  1 &  1 &  0 &  1\\\\\n",
       "\t PAN &  8.836374 & -1.5005840 &  5.909091 & 0.1000000 & 5.095589 & 0.08004 & 1 & 73.60 &  21.4 & 27.50000 & 1.000000 & 20.0 &  0 &  3 &  0 &  1\\\\\n",
       "\t PER &  8.396154 & -1.4396950 &  5.772727 & 0.1111111 & 4.262680 & 0.00050 & 0 & 68.32 &  45.0 & 20.50000 & 0.173208 & 30.0 &  1 &  1 &  4 &  3\\\\\n",
       "\t PRY &  8.207947 & -1.7719570 &  6.954545 & 0.2555556 & 4.357990 & 0.00000 & 0 & 69.61 &  39.2 & 23.00000 & 0.000000 & 25.0 &  0 &  1 &  1 &  2\\\\\n",
       "\t SDN &  7.306531 & -2.7030630 &  4.000000 & 0.1666667 & 4.479607 & 0.93100 & 1 & 54.97 &  70.9 & 28.50000 & 0.023230 &  0.0 &  8 &  7 &  0 &  1\\\\\n",
       "\t SEN &  7.402452 & -2.6310890 &  6.000000 & 0.1555556 & 5.103883 & 0.95000 & 1 & 52.32 &  63.2 & 27.20000 & 0.244762 &  0.0 &  3 &  3 &  0 &  1\\\\\n",
       "\t SGP & 10.146430 & -0.5008753 &  9.318182 & 0.0135556 & 2.873565 & 0.00000 & 1 & 77.10 &   4.9 & 27.10000 & 1.000000 &  4.0 &  8 &  7 &  0 &  1\\\\\n",
       "\t SLE &  6.253829 & -2.7488720 &  5.818182 & 0.0922222 & 6.180017 & 0.95000 & 1 & 37.24 & 170.0 & 26.20000 & 0.466186 &  0.0 & NA & NA & NA & NA\\\\\n",
       "\t SLV &  7.948032 & -1.8515090 &  5.000000 & 0.1500000 & 4.357990 & 0.00000 & 1 & 69.13 &  32.0 & 23.57101 & 1.000000 & 20.0 & NA &  3 & NA &  3\\\\\n",
       "\t TGO &  7.222566 & -3.2188760 &  6.909091 & 0.0888889 & 6.504288 & 0.95000 & 1 & 48.84 &  83.9 & 26.80000 & 0.167690 &  0.0 &  0 &  3 &  0 &  1\\\\\n",
       "\t TTO &  8.768730 & -0.6971552 &  7.454545 & 0.1222222 & 4.442651 & 0.00000 & 1 & 73.80 &  14.5 & 25.90000 & 1.000000 & 40.0 &  8 &  7 &  0 &  1\\\\\n",
       "\t TUN &  8.482602 & -1.5278580 &  6.454545 & 0.3777778 & 4.143135 & 0.00000 & 0 & 69.50 &  30.3 & 19.60000 & 0.479655 &  3.0 &  0 &  1 &  0 &  1\\\\\n",
       "\t TZA &  6.253829 & -3.4420190 &  6.636364 & 0.0666667 & 5.634789 & 0.92150 & 1 & 47.92 &  81.5 & 25.09024 & 0.088189 &  0.0 &  0 &  3 &  0 &  1\\\\\n",
       "\t UGA &  6.966024 & -3.4420190 &  4.454545 & 0.0111111 & 5.634789 & 0.95000 & 1 & 39.64 & 107.0 & 21.57432 & 0.000000 &  0.0 &  7 &  7 &  0 &  1\\\\\n",
       "\t URY &  9.031214 & -1.0788100 &  7.000000 & 0.3666667 & 4.262680 & 0.00000 & 0 & 73.93 &  17.5 & 18.40000 & 0.312329 & 60.0 &  1 &  1 &  1 &  1\\\\\n",
       "\t USA & 10.215740 &  0.0000000 & 10.000000 & 0.4222222 & 2.708050 & 0.00000 & 1 & 76.70 &   7.1 & 11.20000 & 0.111732 & 87.5 &  7 &  7 & 10 &  7\\\\\n",
       "\t VEN &  9.071078 & -0.7031975 &  7.136364 & 0.0888889 & 4.357990 & 0.00704 & 1 & 72.41 &  20.9 & 24.80000 & 0.244409 & 20.0 &  1 &  1 &  1 &  3\\\\\n",
       "\t VNM &  7.279319 &         NA &  6.409091 & 0.1777778 & 4.941642 & 0.70110 & 1 & 67.39 &  38.2 & 25.55714 & 0.570282 &  0.0 &  0 &  1 &  0 &  1\\\\\n",
       "\t ZAF &  8.885994 & -1.3862940 &  6.863636 & 0.3222222 & 2.740840 & 0.10450 & 0 & 54.73 &  59.2 & 17.70000 & 0.196330 & 22.0 &  3 &  3 &  3 &  3\\\\\n",
       "\t ZAR &  6.866933 & -3.4112480 &  3.500000 & 0.0000000 & 5.480639 & 0.95000 & 1 & 50.79 &  90.2 & 23.35455 & 0.003987 &  8.0 &  0 &  1 &  0 &  1\\\\\n",
       "\\end{tabular}\n"
      ],
      "text/markdown": [
       "\n",
       "A tibble: 64 × 17\n",
       "\n",
       "| shortnam &lt;chr&gt; | logpgp95 &lt;dbl&gt; | loghjypl &lt;dbl&gt; | avexpr &lt;dbl&gt; | lat_abst &lt;dbl&gt; | logem4 &lt;dbl&gt; | malfal94 &lt;dbl&gt; | yellow &lt;int&gt; | leb95 &lt;dbl&gt; | imr95 &lt;dbl&gt; | meantemp &lt;dbl&gt; | lt100km &lt;dbl&gt; | euro1900 &lt;dbl&gt; | democ1 &lt;int&gt; | cons1 &lt;int&gt; | democ00a &lt;int&gt; | cons00a &lt;int&gt; |\n",
       "|---|---|---|---|---|---|---|---|---|---|---|---|---|---|---|---|---|\n",
       "| AGO |  7.770645 | -3.4112480 | 5.363636 | 0.1366667 | 5.634789 | 0.95000 | 1 | 46.49 | 125.0 | 22.94133 | 0.118758 |  8 |  0 |  3 |  0 |  1 |\n",
       "| ARG |  9.133459 | -0.8722738 | 6.386364 | 0.3777778 | 4.232656 | 0.00000 | 0 | 72.89 |  21.8 | 17.10000 | 0.123089 | 60 |  1 |  1 |  3 |  3 |\n",
       "| AUS |  9.897972 | -0.1707883 | 9.318182 | 0.3000000 | 2.145931 | 0.00000 | 1 | 78.25 |   5.6 | 20.90000 | 0.198958 | 98 | 10 |  7 | 10 |  7 |\n",
       "| BFA |  6.845880 | -3.5404590 | 4.454545 | 0.1444445 | 5.634789 | 0.95000 | 1 | 44.39 |  98.8 | 28.10000 | 0.000000 |  0 |  0 |  3 |  0 |  1 |\n",
       "| BGD |  6.877296 | -2.0635680 | 5.136364 | 0.2666667 | 4.268438 | 0.12008 | 1 | 58.13 |  78.8 | 25.68621 | 0.401598 |  0 |  8 |  7 |  0 |  1 |\n",
       "| BHS |  9.285448 |         NA | 7.500000 | 0.2683333 | 4.442651 |      NA | 1 |    NA |    NA |       NA |       NA | 10 | NA | NA | NA | NA |\n",
       "| BOL |  7.926602 | -1.9661130 | 5.636364 | 0.1888889 | 4.262680 | 0.00165 | 1 | 61.39 |  65.6 | 21.50000 | 0.000000 | 30 |  1 |  3 |  4 |  3 |\n",
       "| BRA |  8.727454 | -1.1425640 | 7.909091 | 0.1111111 | 4.262680 | 0.03600 | 1 | 66.78 |  42.4 | 23.70000 | 0.092516 | 40 |  1 |  1 |  1 |  3 |\n",
       "| CAN |  9.986449 | -0.0608122 | 9.727273 | 0.6666667 | 2.778819 | 0.00000 | 0 | 78.98 |   6.0 | -0.20000 | 0.021164 | 99 |  7 |  7 |  9 |  7 |\n",
       "| CHL |  9.336092 | -1.3356010 | 7.818182 | 0.3333333 | 4.232656 | 0.00000 | 0 | 74.94 |  12.8 | 13.40000 | 0.660182 | 50 |  1 |  1 |  5 |  7 |\n",
       "| CIV |  7.444249 | -2.3330440 | 7.000000 | 0.0888889 | 6.504288 | 0.95000 | 1 | 46.72 |  87.3 | 26.09070 | 0.171056 |  0 |  0 |  1 |  0 |  1 |\n",
       "| CMR |  7.501082 | -2.5770220 | 6.454545 | 0.0666667 | 5.634789 | 0.95000 | 1 | 54.73 |  74.4 | 24.43333 | 0.098240 |  0 |  0 |  3 |  0 |  1 |\n",
       "| COG |  7.420579 | -2.1037340 | 4.681818 | 0.0111111 | 5.480639 | 0.95000 | 1 | 48.55 |  89.5 | 24.75151 | 0.047893 |  0 |  5 |  4 |  0 |  1 |\n",
       "| COL |  8.809863 | -1.3318060 | 7.318182 | 0.0444444 | 4.262680 | 0.14637 | 1 | 70.43 |  30.0 | 22.50000 | 0.159722 | 20 |  4 |  3 |  3 |  5 |\n",
       "| CRI |  8.794825 | -1.3586790 | 7.045455 | 0.1111111 | 4.357990 | 0.00000 | 1 | 76.03 |  12.1 | 25.10000 | 1.000000 | 20 |  0 |  3 | 10 |  7 |\n",
       "| DOM |  8.364042 | -1.5798790 | 6.181818 | 0.2111111 | 4.867535 | 0.00000 | 1 | 70.61 |  33.6 | 25.60000 | 1.000000 | 25 |  1 |  3 |  1 |  3 |\n",
       "| DZA |  8.389359 | -1.1147420 | 6.500000 | 0.3111111 | 4.359270 | 0.00000 | 0 | 68.89 |  43.8 | 19.30000 | 0.047186 | 13 |  0 |  2 |  0 |  1 |\n",
       "| ECU |  8.470101 | -1.4396950 | 6.545455 | 0.0222222 | 4.262680 | 0.11895 | 0 | 69.52 |  45.6 | 19.10000 | 0.368411 | 30 |  1 |  3 |  1 |  3 |\n",
       "| EGY |  7.951560 | -1.6766470 | 6.772727 | 0.3000000 | 4.216562 | 0.00000 | 0 | 66.27 |  50.5 | 22.60000 | 0.239163 |  0 |  0 |  1 |  7 |  7 |\n",
       "| ETH |  6.109248 |         NA | 5.727273 | 0.0888889 | 3.258096 | 0.55100 | 1 | 43.32 | 116.0 |       NA | 0.021018 |  0 |  0 |  1 |  5 |  7 |\n",
       "| GAB |  8.907883 | -1.8515090 | 7.818182 | 0.0111111 | 5.634789 | 0.94050 | 1 | 52.42 |  87.3 | 24.50000 | 0.261791 |  0 |  0 |  2 |  0 |  1 |\n",
       "| GHA |  7.365180 | -2.9565110 | 6.272727 | 0.0888889 | 6.504288 | 0.95000 | 1 | 60.00 |  65.8 | 26.35758 | 0.192991 |  0 |  0 |  1 |  0 |  1 |\n",
       "| GIN |  7.489971 | -3.1465550 | 6.545455 | 0.1222222 | 6.180017 | 0.95000 | 1 | 46.50 | 124.0 | 24.43889 | 0.140641 |  0 |  0 |  1 |  0 |  1 |\n",
       "| GMB |  7.272398 | -3.0365540 | 8.272727 | 0.1475556 | 7.293018 | 0.95000 | 1 | 47.00 | 122.0 | 25.66596 | 0.399770 |  0 | 10 |  7 |  0 |  1 |\n",
       "| GTM |  8.294049 | -1.5606480 | 5.136364 | 0.1700000 | 4.262680 | 0.00360 | 1 | 64.04 |  46.0 | 21.70000 | 0.425458 | 20 |  1 |  1 |  0 |  1 |\n",
       "| GUY |  7.904704 | -2.2537950 | 5.886364 | 0.0555556 | 3.471345 | 0.49503 | 1 |    NA |    NA |       NA |       NA |  2 |  5 |  7 |  0 |  1 |\n",
       "| HKG | 10.049750 | -0.4975804 | 8.136364 | 0.2461111 | 2.701361 | 0.00000 | 0 |    NA |    NA | 22.60000 | 1.000000 |  4 | NA | NA | NA | NA |\n",
       "| HND |  7.687080 | -2.0402210 | 5.318182 | 0.1666667 | 4.357990 | 0.01200 | 1 | 69.40 |  35.0 | 25.40000 | 0.668602 | 20 |  1 |  3 |  6 |  5 |\n",
       "| HTI |  7.146772 | -2.8647040 | 3.727273 | 0.2111111 | 4.867535 | 1.00000 | 1 | 53.75 |  67.7 | 26.58033 | 1.000000 |  0 |  0 |  1 |  0 |  1 |\n",
       "| IDN |  8.070906 | -2.2072750 | 7.590909 | 0.0556000 | 5.135798 | 0.17873 | 1 | 65.13 |  48.4 | 26.80000 | 0.745760 |  0 |  0 |  1 |  0 |  1 |\n",
       "| ⋮ | ⋮ | ⋮ | ⋮ | ⋮ | ⋮ | ⋮ | ⋮ | ⋮ | ⋮ | ⋮ | ⋮ | ⋮ | ⋮ | ⋮ | ⋮ | ⋮ |\n",
       "| MAR |  8.042378 | -1.6766470 |  7.090909 | 0.3555556 | 4.359270 | 0.00000 | 0 | 66.64 |  51.0 | 18.50000 | 0.367858 |  1.0 |  1 |  1 |  1 |  1 |\n",
       "| MDG |  6.835185 | -3.1941830 |  4.454545 | 0.2222222 | 6.284209 | 0.95000 | 1 | 57.51 |  82.5 | 23.30000 | 0.570964 |  0.0 |  3 |  4 |  0 |  1 |\n",
       "| MEX |  8.943768 | -0.8370175 |  7.500000 | 0.2555556 | 4.262680 | 0.00042 | 1 | 72.18 |  31.0 | 19.00000 | 0.372550 | 15.0 |  1 |  3 |  0 |  1 |\n",
       "| MLI |  6.565265 | -3.3524070 |  4.000000 | 0.1888889 | 7.986165 | 0.94050 | 1 | 53.30 | 118.0 | 29.30000 | 0.000000 |  0.0 |  0 |  3 |  0 |  1 |\n",
       "| MLT |  9.427063 | -0.7700282 |  7.227273 | 0.3944444 | 2.791165 |      NA | 0 |    NA |    NA |       NA |       NA |   NA | NA | NA | NA | NA |\n",
       "| MYS |  8.894258 | -1.3205070 |  7.954545 | 0.0255556 | 2.873565 | 0.23331 | 1 | 72.00 |  11.4 | 26.70000 | 0.794407 |  0.0 | 10 |  7 |  0 |  1 |\n",
       "| NER |  6.733402 | -3.5404590 |  5.000000 | 0.1777778 | 5.991465 | 0.94050 | 1 | 48.50 | 115.0 | 28.40000 | 0.000000 |  0.0 |  0 |  3 |  0 |  1 |\n",
       "| NGA |  6.813445 | -3.0365540 |  5.545455 | 0.1111111 | 7.602901 | 0.95000 | 1 | 50.08 |  81.1 | 26.65065 | 0.097769 |  0.0 |  8 |  7 |  0 |  1 |\n",
       "| NIC |  7.544332 | -2.0714730 |  5.227273 | 0.1444445 | 5.095589 | 0.04400 | 1 | 67.86 |  43.4 | 26.63333 | 0.632686 | 20.0 |  1 |  1 |  1 |  1 |\n",
       "| NZL |  9.756147 | -0.3326794 |  9.727273 | 0.4555556 | 2.145931 | 0.00000 | 0 | 76.90 |   6.8 | 12.80000 | 0.959488 | 93.0 | 10 |  7 | 10 |  7 |\n",
       "| PAK |  7.352441 | -2.0557250 |  6.045455 | 0.3333333 | 3.610648 | 0.53757 | 1 | 63.95 |  74.1 | 23.50000 | 0.094196 |  0.0 |  1 |  1 |  0 |  1 |\n",
       "| PAN |  8.836374 | -1.5005840 |  5.909091 | 0.1000000 | 5.095589 | 0.08004 | 1 | 73.60 |  21.4 | 27.50000 | 1.000000 | 20.0 |  0 |  3 |  0 |  1 |\n",
       "| PER |  8.396154 | -1.4396950 |  5.772727 | 0.1111111 | 4.262680 | 0.00050 | 0 | 68.32 |  45.0 | 20.50000 | 0.173208 | 30.0 |  1 |  1 |  4 |  3 |\n",
       "| PRY |  8.207947 | -1.7719570 |  6.954545 | 0.2555556 | 4.357990 | 0.00000 | 0 | 69.61 |  39.2 | 23.00000 | 0.000000 | 25.0 |  0 |  1 |  1 |  2 |\n",
       "| SDN |  7.306531 | -2.7030630 |  4.000000 | 0.1666667 | 4.479607 | 0.93100 | 1 | 54.97 |  70.9 | 28.50000 | 0.023230 |  0.0 |  8 |  7 |  0 |  1 |\n",
       "| SEN |  7.402452 | -2.6310890 |  6.000000 | 0.1555556 | 5.103883 | 0.95000 | 1 | 52.32 |  63.2 | 27.20000 | 0.244762 |  0.0 |  3 |  3 |  0 |  1 |\n",
       "| SGP | 10.146430 | -0.5008753 |  9.318182 | 0.0135556 | 2.873565 | 0.00000 | 1 | 77.10 |   4.9 | 27.10000 | 1.000000 |  4.0 |  8 |  7 |  0 |  1 |\n",
       "| SLE |  6.253829 | -2.7488720 |  5.818182 | 0.0922222 | 6.180017 | 0.95000 | 1 | 37.24 | 170.0 | 26.20000 | 0.466186 |  0.0 | NA | NA | NA | NA |\n",
       "| SLV |  7.948032 | -1.8515090 |  5.000000 | 0.1500000 | 4.357990 | 0.00000 | 1 | 69.13 |  32.0 | 23.57101 | 1.000000 | 20.0 | NA |  3 | NA |  3 |\n",
       "| TGO |  7.222566 | -3.2188760 |  6.909091 | 0.0888889 | 6.504288 | 0.95000 | 1 | 48.84 |  83.9 | 26.80000 | 0.167690 |  0.0 |  0 |  3 |  0 |  1 |\n",
       "| TTO |  8.768730 | -0.6971552 |  7.454545 | 0.1222222 | 4.442651 | 0.00000 | 1 | 73.80 |  14.5 | 25.90000 | 1.000000 | 40.0 |  8 |  7 |  0 |  1 |\n",
       "| TUN |  8.482602 | -1.5278580 |  6.454545 | 0.3777778 | 4.143135 | 0.00000 | 0 | 69.50 |  30.3 | 19.60000 | 0.479655 |  3.0 |  0 |  1 |  0 |  1 |\n",
       "| TZA |  6.253829 | -3.4420190 |  6.636364 | 0.0666667 | 5.634789 | 0.92150 | 1 | 47.92 |  81.5 | 25.09024 | 0.088189 |  0.0 |  0 |  3 |  0 |  1 |\n",
       "| UGA |  6.966024 | -3.4420190 |  4.454545 | 0.0111111 | 5.634789 | 0.95000 | 1 | 39.64 | 107.0 | 21.57432 | 0.000000 |  0.0 |  7 |  7 |  0 |  1 |\n",
       "| URY |  9.031214 | -1.0788100 |  7.000000 | 0.3666667 | 4.262680 | 0.00000 | 0 | 73.93 |  17.5 | 18.40000 | 0.312329 | 60.0 |  1 |  1 |  1 |  1 |\n",
       "| USA | 10.215740 |  0.0000000 | 10.000000 | 0.4222222 | 2.708050 | 0.00000 | 1 | 76.70 |   7.1 | 11.20000 | 0.111732 | 87.5 |  7 |  7 | 10 |  7 |\n",
       "| VEN |  9.071078 | -0.7031975 |  7.136364 | 0.0888889 | 4.357990 | 0.00704 | 1 | 72.41 |  20.9 | 24.80000 | 0.244409 | 20.0 |  1 |  1 |  1 |  3 |\n",
       "| VNM |  7.279319 |         NA |  6.409091 | 0.1777778 | 4.941642 | 0.70110 | 1 | 67.39 |  38.2 | 25.55714 | 0.570282 |  0.0 |  0 |  1 |  0 |  1 |\n",
       "| ZAF |  8.885994 | -1.3862940 |  6.863636 | 0.3222222 | 2.740840 | 0.10450 | 0 | 54.73 |  59.2 | 17.70000 | 0.196330 | 22.0 |  3 |  3 |  3 |  3 |\n",
       "| ZAR |  6.866933 | -3.4112480 |  3.500000 | 0.0000000 | 5.480639 | 0.95000 | 1 | 50.79 |  90.2 | 23.35455 | 0.003987 |  8.0 |  0 |  1 |  0 |  1 |\n",
       "\n"
      ],
      "text/plain": [
       "   shortnam logpgp95  loghjypl   avexpr    lat_abst  logem4   malfal94 yellow\n",
       "1  AGO       7.770645 -3.4112480 5.363636  0.1366667 5.634789 0.95000  1     \n",
       "2  ARG       9.133459 -0.8722738 6.386364  0.3777778 4.232656 0.00000  0     \n",
       "3  AUS       9.897972 -0.1707883 9.318182  0.3000000 2.145931 0.00000  1     \n",
       "4  BFA       6.845880 -3.5404590 4.454545  0.1444445 5.634789 0.95000  1     \n",
       "5  BGD       6.877296 -2.0635680 5.136364  0.2666667 4.268438 0.12008  1     \n",
       "6  BHS       9.285448         NA 7.500000  0.2683333 4.442651      NA  1     \n",
       "7  BOL       7.926602 -1.9661130 5.636364  0.1888889 4.262680 0.00165  1     \n",
       "8  BRA       8.727454 -1.1425640 7.909091  0.1111111 4.262680 0.03600  1     \n",
       "9  CAN       9.986449 -0.0608122 9.727273  0.6666667 2.778819 0.00000  0     \n",
       "10 CHL       9.336092 -1.3356010 7.818182  0.3333333 4.232656 0.00000  0     \n",
       "11 CIV       7.444249 -2.3330440 7.000000  0.0888889 6.504288 0.95000  1     \n",
       "12 CMR       7.501082 -2.5770220 6.454545  0.0666667 5.634789 0.95000  1     \n",
       "13 COG       7.420579 -2.1037340 4.681818  0.0111111 5.480639 0.95000  1     \n",
       "14 COL       8.809863 -1.3318060 7.318182  0.0444444 4.262680 0.14637  1     \n",
       "15 CRI       8.794825 -1.3586790 7.045455  0.1111111 4.357990 0.00000  1     \n",
       "16 DOM       8.364042 -1.5798790 6.181818  0.2111111 4.867535 0.00000  1     \n",
       "17 DZA       8.389359 -1.1147420 6.500000  0.3111111 4.359270 0.00000  0     \n",
       "18 ECU       8.470101 -1.4396950 6.545455  0.0222222 4.262680 0.11895  0     \n",
       "19 EGY       7.951560 -1.6766470 6.772727  0.3000000 4.216562 0.00000  0     \n",
       "20 ETH       6.109248         NA 5.727273  0.0888889 3.258096 0.55100  1     \n",
       "21 GAB       8.907883 -1.8515090 7.818182  0.0111111 5.634789 0.94050  1     \n",
       "22 GHA       7.365180 -2.9565110 6.272727  0.0888889 6.504288 0.95000  1     \n",
       "23 GIN       7.489971 -3.1465550 6.545455  0.1222222 6.180017 0.95000  1     \n",
       "24 GMB       7.272398 -3.0365540 8.272727  0.1475556 7.293018 0.95000  1     \n",
       "25 GTM       8.294049 -1.5606480 5.136364  0.1700000 4.262680 0.00360  1     \n",
       "26 GUY       7.904704 -2.2537950 5.886364  0.0555556 3.471345 0.49503  1     \n",
       "27 HKG      10.049750 -0.4975804 8.136364  0.2461111 2.701361 0.00000  0     \n",
       "28 HND       7.687080 -2.0402210 5.318182  0.1666667 4.357990 0.01200  1     \n",
       "29 HTI       7.146772 -2.8647040 3.727273  0.2111111 4.867535 1.00000  1     \n",
       "30 IDN       8.070906 -2.2072750 7.590909  0.0556000 5.135798 0.17873  1     \n",
       "⋮  ⋮        ⋮         ⋮          ⋮         ⋮         ⋮        ⋮        ⋮     \n",
       "35 MAR       8.042378 -1.6766470  7.090909 0.3555556 4.359270 0.00000  0     \n",
       "36 MDG       6.835185 -3.1941830  4.454545 0.2222222 6.284209 0.95000  1     \n",
       "37 MEX       8.943768 -0.8370175  7.500000 0.2555556 4.262680 0.00042  1     \n",
       "38 MLI       6.565265 -3.3524070  4.000000 0.1888889 7.986165 0.94050  1     \n",
       "39 MLT       9.427063 -0.7700282  7.227273 0.3944444 2.791165      NA  0     \n",
       "40 MYS       8.894258 -1.3205070  7.954545 0.0255556 2.873565 0.23331  1     \n",
       "41 NER       6.733402 -3.5404590  5.000000 0.1777778 5.991465 0.94050  1     \n",
       "42 NGA       6.813445 -3.0365540  5.545455 0.1111111 7.602901 0.95000  1     \n",
       "43 NIC       7.544332 -2.0714730  5.227273 0.1444445 5.095589 0.04400  1     \n",
       "44 NZL       9.756147 -0.3326794  9.727273 0.4555556 2.145931 0.00000  0     \n",
       "45 PAK       7.352441 -2.0557250  6.045455 0.3333333 3.610648 0.53757  1     \n",
       "46 PAN       8.836374 -1.5005840  5.909091 0.1000000 5.095589 0.08004  1     \n",
       "47 PER       8.396154 -1.4396950  5.772727 0.1111111 4.262680 0.00050  0     \n",
       "48 PRY       8.207947 -1.7719570  6.954545 0.2555556 4.357990 0.00000  0     \n",
       "49 SDN       7.306531 -2.7030630  4.000000 0.1666667 4.479607 0.93100  1     \n",
       "50 SEN       7.402452 -2.6310890  6.000000 0.1555556 5.103883 0.95000  1     \n",
       "51 SGP      10.146430 -0.5008753  9.318182 0.0135556 2.873565 0.00000  1     \n",
       "52 SLE       6.253829 -2.7488720  5.818182 0.0922222 6.180017 0.95000  1     \n",
       "53 SLV       7.948032 -1.8515090  5.000000 0.1500000 4.357990 0.00000  1     \n",
       "54 TGO       7.222566 -3.2188760  6.909091 0.0888889 6.504288 0.95000  1     \n",
       "55 TTO       8.768730 -0.6971552  7.454545 0.1222222 4.442651 0.00000  1     \n",
       "56 TUN       8.482602 -1.5278580  6.454545 0.3777778 4.143135 0.00000  0     \n",
       "57 TZA       6.253829 -3.4420190  6.636364 0.0666667 5.634789 0.92150  1     \n",
       "58 UGA       6.966024 -3.4420190  4.454545 0.0111111 5.634789 0.95000  1     \n",
       "59 URY       9.031214 -1.0788100  7.000000 0.3666667 4.262680 0.00000  0     \n",
       "60 USA      10.215740  0.0000000 10.000000 0.4222222 2.708050 0.00000  1     \n",
       "61 VEN       9.071078 -0.7031975  7.136364 0.0888889 4.357990 0.00704  1     \n",
       "62 VNM       7.279319         NA  6.409091 0.1777778 4.941642 0.70110  1     \n",
       "63 ZAF       8.885994 -1.3862940  6.863636 0.3222222 2.740840 0.10450  0     \n",
       "64 ZAR       6.866933 -3.4112480  3.500000 0.0000000 5.480639 0.95000  1     \n",
       "   leb95 imr95 meantemp lt100km  euro1900 democ1 cons1 democ00a cons00a\n",
       "1  46.49 125.0 22.94133 0.118758  8        0      3     0        1     \n",
       "2  72.89  21.8 17.10000 0.123089 60        1      1     3        3     \n",
       "3  78.25   5.6 20.90000 0.198958 98       10      7    10        7     \n",
       "4  44.39  98.8 28.10000 0.000000  0        0      3     0        1     \n",
       "5  58.13  78.8 25.68621 0.401598  0        8      7     0        1     \n",
       "6     NA    NA       NA       NA 10       NA     NA    NA       NA     \n",
       "7  61.39  65.6 21.50000 0.000000 30        1      3     4        3     \n",
       "8  66.78  42.4 23.70000 0.092516 40        1      1     1        3     \n",
       "9  78.98   6.0 -0.20000 0.021164 99        7      7     9        7     \n",
       "10 74.94  12.8 13.40000 0.660182 50        1      1     5        7     \n",
       "11 46.72  87.3 26.09070 0.171056  0        0      1     0        1     \n",
       "12 54.73  74.4 24.43333 0.098240  0        0      3     0        1     \n",
       "13 48.55  89.5 24.75151 0.047893  0        5      4     0        1     \n",
       "14 70.43  30.0 22.50000 0.159722 20        4      3     3        5     \n",
       "15 76.03  12.1 25.10000 1.000000 20        0      3    10        7     \n",
       "16 70.61  33.6 25.60000 1.000000 25        1      3     1        3     \n",
       "17 68.89  43.8 19.30000 0.047186 13        0      2     0        1     \n",
       "18 69.52  45.6 19.10000 0.368411 30        1      3     1        3     \n",
       "19 66.27  50.5 22.60000 0.239163  0        0      1     7        7     \n",
       "20 43.32 116.0       NA 0.021018  0        0      1     5        7     \n",
       "21 52.42  87.3 24.50000 0.261791  0        0      2     0        1     \n",
       "22 60.00  65.8 26.35758 0.192991  0        0      1     0        1     \n",
       "23 46.50 124.0 24.43889 0.140641  0        0      1     0        1     \n",
       "24 47.00 122.0 25.66596 0.399770  0       10      7     0        1     \n",
       "25 64.04  46.0 21.70000 0.425458 20        1      1     0        1     \n",
       "26    NA    NA       NA       NA  2        5      7     0        1     \n",
       "27    NA    NA 22.60000 1.000000  4       NA     NA    NA       NA     \n",
       "28 69.40  35.0 25.40000 0.668602 20        1      3     6        5     \n",
       "29 53.75  67.7 26.58033 1.000000  0        0      1     0        1     \n",
       "30 65.13  48.4 26.80000 0.745760  0        0      1     0        1     \n",
       "⋮  ⋮     ⋮     ⋮        ⋮        ⋮        ⋮      ⋮     ⋮        ⋮      \n",
       "35 66.64  51.0 18.50000 0.367858  1.0      1      1     1        1     \n",
       "36 57.51  82.5 23.30000 0.570964  0.0      3      4     0        1     \n",
       "37 72.18  31.0 19.00000 0.372550 15.0      1      3     0        1     \n",
       "38 53.30 118.0 29.30000 0.000000  0.0      0      3     0        1     \n",
       "39    NA    NA       NA       NA   NA     NA     NA    NA       NA     \n",
       "40 72.00  11.4 26.70000 0.794407  0.0     10      7     0        1     \n",
       "41 48.50 115.0 28.40000 0.000000  0.0      0      3     0        1     \n",
       "42 50.08  81.1 26.65065 0.097769  0.0      8      7     0        1     \n",
       "43 67.86  43.4 26.63333 0.632686 20.0      1      1     1        1     \n",
       "44 76.90   6.8 12.80000 0.959488 93.0     10      7    10        7     \n",
       "45 63.95  74.1 23.50000 0.094196  0.0      1      1     0        1     \n",
       "46 73.60  21.4 27.50000 1.000000 20.0      0      3     0        1     \n",
       "47 68.32  45.0 20.50000 0.173208 30.0      1      1     4        3     \n",
       "48 69.61  39.2 23.00000 0.000000 25.0      0      1     1        2     \n",
       "49 54.97  70.9 28.50000 0.023230  0.0      8      7     0        1     \n",
       "50 52.32  63.2 27.20000 0.244762  0.0      3      3     0        1     \n",
       "51 77.10   4.9 27.10000 1.000000  4.0      8      7     0        1     \n",
       "52 37.24 170.0 26.20000 0.466186  0.0     NA     NA    NA       NA     \n",
       "53 69.13  32.0 23.57101 1.000000 20.0     NA      3    NA        3     \n",
       "54 48.84  83.9 26.80000 0.167690  0.0      0      3     0        1     \n",
       "55 73.80  14.5 25.90000 1.000000 40.0      8      7     0        1     \n",
       "56 69.50  30.3 19.60000 0.479655  3.0      0      1     0        1     \n",
       "57 47.92  81.5 25.09024 0.088189  0.0      0      3     0        1     \n",
       "58 39.64 107.0 21.57432 0.000000  0.0      7      7     0        1     \n",
       "59 73.93  17.5 18.40000 0.312329 60.0      1      1     1        1     \n",
       "60 76.70   7.1 11.20000 0.111732 87.5      7      7    10        7     \n",
       "61 72.41  20.9 24.80000 0.244409 20.0      1      1     1        3     \n",
       "62 67.39  38.2 25.55714 0.570282  0.0      0      1     0        1     \n",
       "63 54.73  59.2 17.70000 0.196330 22.0      3      3     3        3     \n",
       "64 50.79  90.2 23.35455 0.003987  8.0      0      1     0        1     "
      ]
     },
     "metadata": {},
     "output_type": "display_data"
    }
   ],
   "source": [
    "tibble::tibble(AJR)"
   ]
  },
  {
   "cell_type": "markdown",
   "metadata": {
    "slideshow": {
     "slide_type": "subslide"
    }
   },
   "source": [
    "<a id='AJR_exec'></a>\n",
    "**Exercise**\n",
    "\n",
    "Use the dataset `AJR.csv`. \n",
    "* Collect a small dataset with five columns `shortnam`, `logpgp95`, `avexpr` (protection against exploitation), `lat_abst`, `logem4` (log of mortality rate) and `cons1`.\n",
    "* If any country has one of the above variables missing, remove that country from the data. (Hint: use `apply()`.)"
   ]
  },
  {
   "cell_type": "markdown",
   "metadata": {
    "slideshow": {
     "slide_type": "slide"
    }
   },
   "source": [
    "* It is better to convert Chinese characters into the encoding `UTF-8`. \n",
    "  * Need experiment to deal with garbled texts.\n",
    "  * `Notepad++` is a free tool for conversion; check `Encoding` in its menu."
   ]
  },
  {
   "cell_type": "code",
   "execution_count": 4,
   "metadata": {
    "scrolled": true,
    "slideshow": {
     "slide_type": "subslide"
    },
    "vscode": {
     "languageId": "r"
    }
   },
   "outputs": [
    {
     "name": "stderr",
     "output_type": "stream",
     "text": [
      "\u001b[1mRows: \u001b[22m\u001b[34m882\u001b[39m \u001b[1mColumns: \u001b[22m\u001b[34m3\u001b[39m\n",
      "\u001b[36m──\u001b[39m \u001b[1mColumn specification\u001b[22m \u001b[36m───────────────────────────────────────────────────────────────────────────────────────────────────────────────────────────\u001b[39m\n",
      "\u001b[1mDelimiter:\u001b[22m \",\"\n",
      "\u001b[31mchr\u001b[39m (2): name, pinyin\n",
      "\u001b[32mdbl\u001b[39m (1): id\n",
      "\n",
      "\u001b[36mℹ\u001b[39m Use `spec()` to retrieve the full column specification for this data.\n",
      "\u001b[36mℹ\u001b[39m Specify the column types or set `show_col_types = FALSE` to quiet this message.\n"
     ]
    },
    {
     "data": {
      "text/html": [
       "<table class=\"dataframe\">\n",
       "<caption>A tibble: 6 × 3</caption>\n",
       "<thead>\n",
       "\t<tr><th scope=col>name</th><th scope=col>id</th><th scope=col>pinyin</th></tr>\n",
       "\t<tr><th scope=col>&lt;chr&gt;</th><th scope=col>&lt;dbl&gt;</th><th scope=col>&lt;chr&gt;</th></tr>\n",
       "</thead>\n",
       "<tbody>\n",
       "\t<tr><td>浦发银行</td><td>600000</td><td>pǔ fā yín háng    </td></tr>\n",
       "\t<tr><td>白云机场</td><td>600004</td><td>bái yún jī chánɡ  </td></tr>\n",
       "\t<tr><td>武钢股份</td><td>600005</td><td>wǔ ɡānɡ ɡǔ bīn    </td></tr>\n",
       "\t<tr><td>东风汽车</td><td>600006</td><td>dōnɡ fēnɡ ɡài chē </td></tr>\n",
       "\t<tr><td>中国国贸</td><td>600007</td><td>zhōnɡ ɡuó ɡuó mào </td></tr>\n",
       "\t<tr><td>首创股份</td><td>600008</td><td>shǒu chuānɡ ɡǔ bīn</td></tr>\n",
       "</tbody>\n",
       "</table>\n"
      ],
      "text/latex": [
       "A tibble: 6 × 3\n",
       "\\begin{tabular}{lll}\n",
       " name & id & pinyin\\\\\n",
       " <chr> & <dbl> & <chr>\\\\\n",
       "\\hline\n",
       "\t 浦发银行 & 600000 & pǔ fā yín háng    \\\\\n",
       "\t 白云机场 & 600004 & bái yún jī chánɡ  \\\\\n",
       "\t 武钢股份 & 600005 & wǔ ɡānɡ ɡǔ bīn    \\\\\n",
       "\t 东风汽车 & 600006 & dōnɡ fēnɡ ɡài chē \\\\\n",
       "\t 中国国贸 & 600007 & zhōnɡ ɡuó ɡuó mào \\\\\n",
       "\t 首创股份 & 600008 & shǒu chuānɡ ɡǔ bīn\\\\\n",
       "\\end{tabular}\n"
      ],
      "text/markdown": [
       "\n",
       "A tibble: 6 × 3\n",
       "\n",
       "| name &lt;chr&gt; | id &lt;dbl&gt; | pinyin &lt;chr&gt; |\n",
       "|---|---|---|\n",
       "| 浦发银行 | 600000 | pǔ fā yín háng     |\n",
       "| 白云机场 | 600004 | bái yún jī chánɡ   |\n",
       "| 武钢股份 | 600005 | wǔ ɡānɡ ɡǔ bīn     |\n",
       "| 东风汽车 | 600006 | dōnɡ fēnɡ ɡài chē  |\n",
       "| 中国国贸 | 600007 | zhōnɡ ɡuó ɡuó mào  |\n",
       "| 首创股份 | 600008 | shǒu chuānɡ ɡǔ bīn |\n",
       "\n"
      ],
      "text/plain": [
       "  name     id     pinyin            \n",
       "1 浦发银行 600000 pǔ fā yín háng    \n",
       "2 白云机场 600004 bái yún jī chánɡ  \n",
       "3 武钢股份 600005 wǔ ɡānɡ ɡǔ bīn    \n",
       "4 东风汽车 600006 dōnɡ fēnɡ ɡài chē \n",
       "5 中国国贸 600007 zhōnɡ ɡuó ɡuó mào \n",
       "6 首创股份 600008 shǒu chuānɡ ɡǔ bīn"
      ]
     },
     "metadata": {},
     "output_type": "display_data"
    }
   ],
   "source": [
    "# stock_id <- readr::read_csv(\"data_example/SH_stockid_UTF8.csv\", \n",
    "# locale = readr::locale(encoding = \"UTF-8\"))\n",
    "\n",
    "stock_id <- readr::read_csv(\"data_example/SH_stockid_UTF8.csv\")\n",
    "head(stock_id)"
   ]
  },
  {
   "cell_type": "markdown",
   "metadata": {
    "slideshow": {
     "slide_type": "subslide"
    }
   },
   "source": [
    "\n",
    "`write.table()` or `write.csv()` exports the data in an R session to an ASCII file."
   ]
  },
  {
   "cell_type": "markdown",
   "metadata": {
    "slideshow": {
     "slide_type": "slide"
    }
   },
   "source": [
    "## Statistics\n",
    "\n",
    "* R is created by statisticians.\n",
    "\n",
    "* `p` (probability)\n",
    "* `d` (density)\n",
    "* `q` (quantile)\n",
    "* `r` (random variable generator) "
   ]
  },
  {
   "cell_type": "markdown",
   "metadata": {
    "slideshow": {
     "slide_type": "subslide"
    }
   },
   "source": [
    "* `norm` (normal)\n",
    "* `chisq` ($\\chi^2$)\n",
    "* `t` (*t*)\n",
    "* `weibull` (Weibull)\n",
    "* `cauchy` (Cauchy)\n",
    "* `binomial` (binomial)\n",
    "* `pois` (Poisson)"
   ]
  },
  {
   "cell_type": "code",
   "execution_count": null,
   "metadata": {
    "slideshow": {
     "slide_type": "slide"
    },
    "vscode": {
     "languageId": "r"
    }
   },
   "outputs": [],
   "source": [
    "pnorm(0)"
   ]
  },
  {
   "cell_type": "code",
   "execution_count": null,
   "metadata": {
    "slideshow": {
     "slide_type": "fragment"
    },
    "vscode": {
     "languageId": "r"
    }
   },
   "outputs": [],
   "source": [
    "qnorm(0.975)"
   ]
  },
  {
   "cell_type": "code",
   "execution_count": null,
   "metadata": {
    "slideshow": {
     "slide_type": "fragment"
    },
    "vscode": {
     "languageId": "r"
    }
   },
   "outputs": [],
   "source": [
    "rnorm(5)"
   ]
  },
  {
   "cell_type": "code",
   "execution_count": null,
   "metadata": {
    "slideshow": {
     "slide_type": "fragment"
    },
    "vscode": {
     "languageId": "r"
    }
   },
   "outputs": [],
   "source": [
    "dnorm(0)"
   ]
  },
  {
   "cell_type": "markdown",
   "metadata": {
    "slideshow": {
     "slide_type": "skip"
    }
   },
   "source": [
    "**Example**\n",
    "\n",
    "This example illustrates the sampling error.\n",
    "\n",
    "1. Plot the density of $\\chi^2(3)$ over an equally spaced grid system `x_axis = seq(0.01, 15, by = 0.01)` (black line).\n",
    "2. Generate 1000 observations from $\\chi^2(3)$ distribution. Plot the kernel density, a nonparametric estimation of the density (red line).\n",
    "3. Calculate the 95th quantile and the empirical probability of observing a value greater than the 95-th quantile.\n",
    "In population, this value should be 5%. What is the number in this experiment?"
   ]
  },
  {
   "cell_type": "code",
   "execution_count": 5,
   "metadata": {
    "slideshow": {
     "slide_type": "skip"
    },
    "vscode": {
     "languageId": "r"
    }
   },
   "outputs": [
    {
     "data": {
      "text/html": [
       "0.047"
      ],
      "text/latex": [
       "0.047"
      ],
      "text/markdown": [
       "0.047"
      ],
      "text/plain": [
       "[1] 0.047"
      ]
     },
     "metadata": {},
     "output_type": "display_data"
    },
    {
     "data": {
      "image/png": "[encoded data removed]",
      "text/plain": [
       "plot without title"
      ]
     },
     "metadata": {
      "image/png": {
       "height": 420,
       "width": 420
      }
     },
     "output_type": "display_data"
    }
   ],
   "source": [
    "set.seed(888)\n",
    "x_axis <- seq(0.01, 15, by = 0.01)\n",
    "\n",
    "y <- dchisq(x_axis, df = 3)\n",
    "plot(y = y, x = x_axis, type = \"l\", xlab = \"x\", ylab = \"density\")\n",
    "z <- rchisq(1000, df = 3)\n",
    "lines(density(z), col = \"red\")\n",
    "crit <- qchisq(.95, df = 3)\n",
    "\n",
    "mean(z > crit)\n"
   ]
  },
  {
   "cell_type": "markdown",
   "metadata": {
    "slideshow": {
     "slide_type": "slide"
    }
   },
   "source": [
    "## User-defined Function\n",
    "\n",
    "* Highly recommended to encapsulate repeated procedures into a user-defined function.\n",
    "\n",
    "1. In the developing stage, focus on a small chunk of code. More manageable.\n",
    "2. Variables defined inside a function are local.\n",
    "3. In revision, only need to change one place. "
   ]
  },
  {
   "cell_type": "markdown",
   "metadata": {
    "slideshow": {
     "slide_type": "subslide"
    }
   },
   "source": [
    "The format of a user-defined function is\n",
    "\n",
    "```\n",
    "function_name <- function(input) {\n",
    "  expressions\n",
    "  return(output)\n",
    "}\n",
    "```"
   ]
  },
  {
   "cell_type": "markdown",
   "metadata": {
    "slideshow": {
     "slide_type": "slide"
    }
   },
   "source": [
    "**Example**\n",
    "\n",
    "* 95% two-sided asymptotic confidence interval as\n",
    "$$\\left(\\hat{\\mu} - \\frac{1.96}{\\sqrt{n}} \\hat{\\sigma}, \\hat{\\mu} + \\frac{1.96}{\\sqrt{n}} \\hat{\\sigma} \\right)$$\n",
    "from a given sample.\n",
    "\n",
    "* An easy job, but no built-in function.\n"
   ]
  },
  {
   "cell_type": "code",
   "execution_count": null,
   "metadata": {
    "slideshow": {
     "slide_type": "subslide"
    },
    "vscode": {
     "languageId": "r"
    }
   },
   "outputs": [],
   "source": [
    "# construct confidence interval\n",
    "\n",
    "CI <- function(x) {\n",
    "  # x is a vector of random variables\n",
    "\n",
    "  n <- length(x)\n",
    "  mu <- mean(x)\n",
    "  sig <- sd(x)\n",
    "  upper <- mu + 1.96 / sqrt(n) * sig\n",
    "  lower <- mu - 1.96 / sqrt(n) * sig\n",
    "  return(list(lower = lower, upper = upper))\n",
    "}\n"
   ]
  },
  {
   "cell_type": "markdown",
   "metadata": {
    "slideshow": {
     "slide_type": "slide"
    }
   },
   "source": [
    "## Flow Control\n",
    "\n",
    "* Flow control is common in all programming languages.\n",
    "\n",
    "  * `if` is used for choice\n",
    "  * `for` or `while` is used for loops.\n"
   ]
  },
  {
   "cell_type": "markdown",
   "metadata": {
    "slideshow": {
     "slide_type": "slide"
    }
   },
   "source": [
    "**Example**\n",
    "\n",
    "Calculate the empirical coverage probability of a Poisson distribution of degrees of freedom 2.\n",
    "We conduct this experiment for 1000 times.\n"
   ]
  },
  {
   "cell_type": "code",
   "execution_count": 6,
   "metadata": {
    "slideshow": {
     "slide_type": "subslide"
    },
    "vscode": {
     "languageId": "r"
    }
   },
   "outputs": [
    {
     "ename": "ERROR",
     "evalue": "Error in CI(x): could not find function \"CI\"\n",
     "output_type": "error",
     "traceback": [
      "Error in CI(x): could not find function \"CI\"\nTraceback:\n"
     ]
    }
   ],
   "source": [
    "Rep <- 1000\n",
    "sample_size <- 100\n",
    "capture <- rep(0, Rep)\n",
    "\n",
    "if (sample_size < 50){\n",
    "      print(\"Sample size too small. Refuse to work\")\n",
    "      } else {\n",
    "    for (i in 1:Rep) {\n",
    "      mu <- 2\n",
    "      x <- rpois(sample_size, mu)\n",
    "      bounds <- CI(x)\n",
    "      capture[i] <- ((bounds$lower <= mu) & (mu <= bounds$upper))\n",
    "    }\n",
    "    print(\"Asymptotic theory may work\")\n",
    "    cat(\"the emprical size = \", mean(capture)) # empirical size\n",
    "}"
   ]
  },
  {
   "cell_type": "markdown",
   "metadata": {
    "slideshow": {
     "slide_type": "slide"
    }
   },
   "source": [
    "## Statistical Model\n",
    "\n",
    "* `y~x`\n",
    "  * `y`: dependent variable,\n",
    "  * `x`: explanatory variable.\n",
    "* `lm(y~x, data = data_frame)`.\n"
   ]
  },
  {
   "cell_type": "markdown",
   "metadata": {
    "slideshow": {
     "slide_type": "slide"
    }
   },
   "source": [
    "### A Linear Regression \n",
    "\n",
    "This is a toy example with simulated data."
   ]
  },
  {
   "cell_type": "code",
   "execution_count": null,
   "metadata": {
    "slideshow": {
     "slide_type": "subslide"
    },
    "vscode": {
     "languageId": "r"
    }
   },
   "outputs": [],
   "source": [
    "n <- 100\n",
    "p <- 1\n",
    "\n",
    "b0 <- 1\n",
    "# Generate data\n",
    "x <- matrix(rnorm(n * p), n, 1)\n",
    "y <- x %*% b0 + rnorm(T)\n",
    "\n",
    "# Linear Model\n",
    "result <- lm(y ~ x)\n",
    "summary(result)\n"
   ]
  },
  {
   "cell_type": "markdown",
   "metadata": {
    "slideshow": {
     "slide_type": "subslide"
    }
   },
   "source": [
    "Plot the true value of $y$ and fitted value"
   ]
  },
  {
   "cell_type": "code",
   "execution_count": null,
   "metadata": {
    "slideshow": {
     "slide_type": "fragment"
    },
    "vscode": {
     "languageId": "r"
    }
   },
   "outputs": [],
   "source": [
    "plot(result$fitted.values,\n",
    "  col = \"red\", type = \"l\", xlab = \"x\", ylab = \"y\",\n",
    "  main = \"Fitted Value\"\n",
    ")\n",
    "lines(y, col = \"blue\", type = \"l\", lty = 2)\n",
    "legend(\"bottomleft\",\n",
    "  legend = c(\"Fitted Value\", \"True Value\"),\n",
    "  col = c(\"red\", \"blue\"), lty = 1:2, cex = 0.75\n",
    ")\n"
   ]
  },
  {
   "cell_type": "markdown",
   "metadata": {
    "slideshow": {
     "slide_type": "slide"
    }
   },
   "source": [
    "\n",
    "Then we plot the best fitted line.\n"
   ]
  },
  {
   "cell_type": "code",
   "execution_count": null,
   "metadata": {
    "slideshow": {
     "slide_type": "fragment"
    },
    "vscode": {
     "languageId": "r"
    }
   },
   "outputs": [],
   "source": [
    "plot(y = y, x = x, xlab = \"x\", ylab = \"y\", main = \"Fitted Line\")\n",
    "abline(a = result$coefficients[1], b = result$coefficients[2])\n",
    "abline(a = 0, b = b0, col = \"red\")\n",
    "\n",
    "legend(\"bottomright\",\n",
    "  legend = c(\"Fitted Line\", \"True Coef\"),\n",
    "  col = c(\"black\", \"red\"), lty = c(1, 1), cex = 0.75\n",
    ")\n"
   ]
  },
  {
   "cell_type": "markdown",
   "metadata": {
    "slideshow": {
     "slide_type": "skip"
    }
   },
   "source": [
    "**Exercise**\n",
    "\n",
    "In a [previous exercise](#AJR_exec) we have compiled a subset of observations in `AJR.csv` with all variables `shortnam`, `logpgp95`, `avexpr`, `lat_abst`, and `logem4` and none is missing.\n",
    "Run an instrumental variable regression with `logpgp95` as the dependent variables, \n",
    "`avexpr` and `latabst` as explanatory variables, \n",
    "and `logem4` and `lat_abst` as instrumental variables. (Hint: use the function `AER::ivreg()`)\n"
   ]
  },
  {
   "cell_type": "markdown",
   "metadata": {
    "slideshow": {
     "slide_type": "slide"
    }
   },
   "source": [
    "## Reading\n",
    "\n",
    "<!-- [Wickham and Grolemund](https://r4ds.had.co.nz/): Ch 1, 2, 4, 8, 19 and 20 -->\n",
    "* A thorough reading of [R-Introduction](https://cran.r-project.org/doc/manuals/r-release/R-intro.pdf) \n",
    "* Wickham and Grolemund](https://r4ds.had.co.nz/)\n",
    "  * Ch 4: workflow: basics\n",
    "  * Ch 6: workflow: scripts\n",
    "  * Ch 8: workflow: projects\n"
   ]
  },
  {
   "cell_type": "markdown",
   "metadata": {
    "slideshow": {
     "slide_type": "fragment"
    }
   },
   "source": [
    "CUHK resource: [datacamp](http://easyaccess1.lib.cuhk.edu.hk/limited/datacamp.htm)"
   ]
  }
 ],
 "metadata": {
  "anaconda-cloud": "",
  "celltoolbar": "Slideshow",
  "kernelspec": {
   "display_name": "R",
   "language": "R",
   "name": "ir"
  },
  "language_info": {
   "codemirror_mode": "r",
   "file_extension": ".r",
   "mimetype": "text/x-r-source",
   "name": "R",
   "pygments_lexer": "r",
   "version": "4.3.1"
  },
  "rise": {
   "enable_chalkboard": true,
   "scroll": true,
   "theme": "serif"
  },
  "vscode": {
   "interpreter": {
    "hash": "98c8651c14c5e67168ec7360df025b52a3dda054aca34605ea6bb4da8d25168e"
   }
  }
 },
 "nbformat": 4,
 "nbformat_minor": 4
}
