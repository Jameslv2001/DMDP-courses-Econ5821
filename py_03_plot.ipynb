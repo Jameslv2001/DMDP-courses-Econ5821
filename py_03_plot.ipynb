{
 "cells": [
  {
   "cell_type": "markdown",
   "metadata": {
    "slideshow": {
     "slide_type": "slide"
    }
   },
   "source": [
    "# Visualization\n",
    "\n",
    "## Zhentao Shi\n",
    "\n",
    "\n",
    "<img src=\"graph/Minard.png\" width=\"1000\">\n",
    "\n",
    "kernel: base (python 3.11.3)"
   ]
  },
  {
   "cell_type": "markdown",
   "metadata": {
    "slideshow": {
     "slide_type": "slide"
    }
   },
   "source": [
    "## Graphs\n",
    "\n",
    "* \"One picture is worth ten thousand words\".\n",
    "* Modern graphs: web-based, interactive.\n",
    "\n",
    "* Academia\n",
    "* Journalism: Economist, SCMP, ..."
   ]
  },
  {
   "cell_type": "code",
   "execution_count": 2,
   "metadata": {
    "slideshow": {
     "slide_type": "slide"
    }
   },
   "outputs": [
    {
     "ename": "ModuleNotFoundError",
     "evalue": "No module named 'matplotlib'",
     "output_type": "error",
     "traceback": [
      "\u001b[1;31m---------------------------------------------------------------------------\u001b[0m",
      "\u001b[1;31mModuleNotFoundError\u001b[0m                       Traceback (most recent call last)",
      "Cell \u001b[1;32mIn[2], line 3\u001b[0m\n\u001b[0;32m      1\u001b[0m \u001b[38;5;28;01mimport\u001b[39;00m\u001b[38;5;250m \u001b[39m\u001b[38;5;21;01mnumpy\u001b[39;00m\u001b[38;5;250m \u001b[39m\u001b[38;5;28;01mas\u001b[39;00m\u001b[38;5;250m \u001b[39m\u001b[38;5;21;01mnp\u001b[39;00m  \n\u001b[0;32m      2\u001b[0m \u001b[38;5;28;01mimport\u001b[39;00m\u001b[38;5;250m \u001b[39m\u001b[38;5;21;01mpandas\u001b[39;00m\u001b[38;5;250m \u001b[39m\u001b[38;5;28;01mas\u001b[39;00m\u001b[38;5;250m \u001b[39m\u001b[38;5;21;01mpd\u001b[39;00m  \n\u001b[1;32m----> 3\u001b[0m \u001b[38;5;28;01mimport\u001b[39;00m\u001b[38;5;250m \u001b[39m\u001b[38;5;21;01mmatplotlib\u001b[39;00m\u001b[38;5;21;01m.\u001b[39;00m\u001b[38;5;21;01mpyplot\u001b[39;00m\u001b[38;5;250m \u001b[39m\u001b[38;5;28;01mas\u001b[39;00m\u001b[38;5;250m \u001b[39m\u001b[38;5;21;01mplt\u001b[39;00m\n\u001b[0;32m      4\u001b[0m \u001b[38;5;28;01mimport\u001b[39;00m\u001b[38;5;250m \u001b[39m\u001b[38;5;21;01mdatetime\u001b[39;00m\n",
      "\u001b[1;31mModuleNotFoundError\u001b[0m: No module named 'matplotlib'"
     ]
    }
   ],
   "source": [
    "import numpy as np  \n",
    "import pandas as pd  \n",
    "import matplotlib.pyplot as plt\n",
    "import datetime"
   ]
  },
  {
   "cell_type": "code",
   "execution_count": null,
   "metadata": {
    "slideshow": {
     "slide_type": "slide"
    }
   },
   "outputs": [],
   "source": [
    "# Read the CSV file\n",
    "d0 = pd.read_csv(\"data_example/AJR.csv\")\n",
    "\n",
    "# Plot the data\n",
    "plt.scatter(d0['avexpr'], d0['logpgp95'])\n",
    "plt.xlabel('avexpr')\n",
    "plt.ylabel('logpgp95')\n",
    "plt.show()"
   ]
  },
  {
   "cell_type": "code",
   "execution_count": null,
   "metadata": {
    "slideshow": {
     "slide_type": "slide"
    }
   },
   "outputs": [],
   "source": [
    "\n",
    "# Read the CSV file\n",
    "bank_0 = pd.read_csv(\"data_example/bank-full.csv\", sep=\";\")\n",
    "\n",
    "# Display the dataframe\n",
    "print(bank_0)\n",
    "\n",
    "# Print the names of the columns\n",
    "print(bank_0.columns)"
   ]
  },
  {
   "cell_type": "code",
   "execution_count": null,
   "metadata": {
    "slideshow": {
     "slide_type": "slide"
    }
   },
   "outputs": [],
   "source": [
    "# Scatter plot\n",
    "plt.scatter(bank_0['age'], bank_0['balance'])\n",
    "plt.xlabel('Age')\n",
    "plt.ylabel('Balance')\n",
    "plt.show()"
   ]
  },
  {
   "cell_type": "code",
   "execution_count": null,
   "metadata": {
    "slideshow": {
     "slide_type": "slide"
    }
   },
   "outputs": [],
   "source": [
    "# Scatter plot with groups\n",
    "import seaborn as sns #seaborn is a Python data visualization library based on matplotlib\n",
    "sns.scatterplot(data=bank_0, x='age', y='balance', hue='education', alpha=0.5)\n",
    "plt.show()"
   ]
  },
  {
   "cell_type": "code",
   "execution_count": null,
   "metadata": {
    "slideshow": {
     "slide_type": "slide"
    }
   },
   "outputs": [],
   "source": [
    "# Create a FacetGrid, FacetGrid is an object that links a Pandas DataFrame to a matplotlib figure with a particular structure.\n",
    "g = sns.FacetGrid(bank_0, col='education', row='marital')\n",
    "\n",
    "# Map a scatter plot to the FacetGrid\n",
    "g.map(plt.scatter, 'age', 'balance', alpha=0.5)\n",
    "\n",
    "# Show the plot\n",
    "plt.show()"
   ]
  },
  {
   "cell_type": "code",
   "execution_count": null,
   "metadata": {
    "slideshow": {
     "slide_type": "slide"
    }
   },
   "outputs": [],
   "source": [
    "# Bar plot with 'education' as hue\n",
    "sns.countplot(data=bank_0, x='age', hue='education')\n",
    "plt.show()"
   ]
  },
  {
   "cell_type": "code",
   "execution_count": null,
   "metadata": {
    "slideshow": {
     "slide_type": "subslide"
    }
   },
   "outputs": [],
   "source": [
    "# Dodged bar plot with 'education' as hue\n",
    "sns.countplot(data=bank_0, y='age', hue='education', dodge=True)\n",
    "plt.show()"
   ]
  },
  {
   "cell_type": "markdown",
   "metadata": {
    "slideshow": {
     "slide_type": "slide"
    }
   },
   "source": [
    "### Data Manipulation"
   ]
  },
  {
   "cell_type": "code",
   "execution_count": 1,
   "metadata": {
    "slideshow": {
     "slide_type": "fragment"
    }
   },
   "outputs": [
    {
     "ename": "NameError",
     "evalue": "name 'pd' is not defined",
     "output_type": "error",
     "traceback": [
      "\u001b[1;31m---------------------------------------------------------------------------\u001b[0m",
      "\u001b[1;31mNameError\u001b[0m                                 Traceback (most recent call last)",
      "Cell \u001b[1;32mIn[1], line 2\u001b[0m\n\u001b[0;32m      1\u001b[0m \u001b[38;5;66;03m# Read the CSV file\u001b[39;00m\n\u001b[1;32m----> 2\u001b[0m d0 \u001b[38;5;241m=\u001b[39m \u001b[43mpd\u001b[49m\u001b[38;5;241m.\u001b[39mread_csv(\u001b[38;5;124m\"\u001b[39m\u001b[38;5;124mdata_example/PWT100.csv\u001b[39m\u001b[38;5;124m\"\u001b[39m)\n\u001b[0;32m      4\u001b[0m \u001b[38;5;66;03m# Display the first few rows of the dataframe\u001b[39;00m\n\u001b[0;32m      5\u001b[0m \u001b[38;5;28mprint\u001b[39m(d0\u001b[38;5;241m.\u001b[39mhead())\n",
      "\u001b[1;31mNameError\u001b[0m: name 'pd' is not defined"
     ]
    }
   ],
   "source": [
    "# Read the CSV file\n",
    "d0 = pd.read_csv(\"data_example/PWT100.csv\")\n",
    "\n",
    "# Display the first few rows of the dataframe\n",
    "print(d0.head())\n",
    "\n",
    "# Print the names of the columns\n",
    "print(d0.columns)"
   ]
  },
  {
   "cell_type": "code",
   "execution_count": null,
   "metadata": {
    "slideshow": {
     "slide_type": "slide"
    }
   },
   "outputs": [],
   "source": [
    "# Select specific columns and filter rows\n",
    "d1 = d0[['countrycode', 'year', 'rgdpe', 'pop']]\n",
    "d1 = d1[d1['countrycode'].isin(['CHN', 'RUS', 'JPN', 'USA'])]\n",
    "\n",
    "# Create new column 'gdpcapita'\n",
    "d1['gdpcapita'] = d1['rgdpe'] / d1['pop']\n",
    "\n",
    "# Print the dataframe\n",
    "print(d1)"
   ]
  },
  {
   "cell_type": "code",
   "execution_count": null,
   "metadata": {
    "slideshow": {
     "slide_type": "subslide"
    }
   },
   "outputs": [],
   "source": [
    "# Scatter plot with 'countrycode' as hue\n",
    "sns.scatterplot(data=d1, x='year', y='rgdpe', hue='countrycode')\n",
    "plt.show()"
   ]
  },
  {
   "cell_type": "code",
   "execution_count": null,
   "metadata": {
    "slideshow": {
     "slide_type": "subslide"
    }
   },
   "outputs": [],
   "source": [
    "# Line plot with 'countrycode' as hue\n",
    "sns.lineplot(data=d1, x='year', y='gdpcapita', hue='countrycode')\n",
    "plt.show()"
   ]
  },
  {
   "cell_type": "code",
   "execution_count": null,
   "metadata": {
    "slideshow": {
     "slide_type": "slide"
    }
   },
   "outputs": [],
   "source": [
    "# Select specific columns\n",
    "s1 = d1[['countrycode', 'year', 'pop']]\n",
    "\n",
    "# Spread 'year' column into multiple columns with 'pop' as values\n",
    "s1 = s1.pivot(index='countrycode', columns='year', values='pop')\n",
    "\n",
    "print(s1)"
   ]
  },
  {
   "cell_type": "code",
   "execution_count": null,
   "metadata": {
    "slideshow": {
     "slide_type": "slide"
    }
   },
   "outputs": [],
   "source": [
    "# Gather '1950' to '2019' columns into key-value pairs\n",
    "s1 = s1.reset_index().melt(id_vars='countrycode', var_name='year', value_name='pop')\n",
    "\n",
    "# Print the dataframe\n",
    "print(s1)"
   ]
  },
  {
   "cell_type": "markdown",
   "metadata": {
    "slideshow": {
     "slide_type": "slide"
    }
   },
   "source": [
    "## Interactive Graphs\n",
    "\n",
    "* [Plotly Express](https://plotly.com/graphing-libraries/)\n",
    "  * [Youtube](https://www.youtube.com/watch?v=_b2KXL0wHQg)\n"
   ]
  },
  {
   "cell_type": "code",
   "execution_count": null,
   "metadata": {
    "slideshow": {
     "slide_type": "fragment"
    }
   },
   "outputs": [],
   "source": [
    "import plotly.express as px\n",
    "\n",
    "d0 = pd.read_csv(\"data_example/AJR.csv\")\n",
    "fig = px.scatter(d0, x='avexpr', y='logpgp95', title='Scatter plot')\n",
    "fig.show()"
   ]
  },
  {
   "cell_type": "markdown",
   "metadata": {
    "slideshow": {
     "slide_type": "slide"
    }
   },
   "source": [
    "\n",
    "\n",
    "\n",
    "* Shinny for Python [posit](https://shiny.posit.co/py/docs/overview.html): [gallary](https://shiny.posit.co/py/gallery/)\n",
    "* [Shinny Express](https://shiny.posit.co/blog/posts/shiny-express/)\n",
    "  * Demo: [Shenzhen housing](https://zhentao-shi.shinyapps.io/ShenzhenHousing-Shiny/)\n",
    "  * Web scrapper: `data_example/Scrape_Lianjia.ipynb`\n"
   ]
  },
  {
   "cell_type": "markdown",
   "metadata": {},
   "source": []
  }
 ],
 "metadata": {
  "celltoolbar": "Slideshow",
  "kernelspec": {
   "display_name": "scrape",
   "language": "python",
   "name": "python3"
  },
  "language_info": {
   "codemirror_mode": {
    "name": "ipython",
    "version": 3
   },
   "file_extension": ".py",
   "mimetype": "text/x-python",
   "name": "python",
   "nbconvert_exporter": "python",
   "pygments_lexer": "ipython3",
   "version": "3.13.1"
  },
  "rise": {
   "enable_chalkboard": true,
   "scroll": true,
   "theme": "serif"
  }
 },
 "nbformat": 4,
 "nbformat_minor": 2
}
