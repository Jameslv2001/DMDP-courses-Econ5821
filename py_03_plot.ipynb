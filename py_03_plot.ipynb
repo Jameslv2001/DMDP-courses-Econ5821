{
 "cells": [
  {
   "cell_type": "markdown",
   "metadata": {},
   "source": [
    "# Lecture 3: Statistical Graphs\n",
    "### Zhentao Shi\n",
    "\n",
    "kernel: base (python 3.11.3)\n"
   ]
  },
  {
   "cell_type": "markdown",
   "metadata": {},
   "source": [
    "## Graphics\n",
    "\n",
    "An English cliche says \"One picture is worth ten thousand words\".\n",
    "John Tukey, a renowned mathematical statistician, was one of the pioneers of statistical graphs\n",
    "in the computer era. Nowadays, powerful software is able to produce dazzling statistical graphs,\n",
    "sometimes web-based and interactive. Outside of academia, journalism hooks a wide readership with\n",
    "professional data-based graphs. New York Times and The Economists are first-rate examples;\n",
    "South China Morning Post sometimes also does a respectable job.\n",
    "A well designed statistical graph can deliver an intuitive and powerful message.\n",
    "I consider graph prior to table when writing a research report or an academic paper.\n",
    "Graph is lively and engaging. Table is tedious and boring.\n",
    "\n",
    "We have seen an example of mathplotlib graph in the OLS regression linear example in Lecture 1.\n",
    "`plot` is a generic command for graphs, and is one of the oldest libraries in Python for plotting.\n",
    "It is capable of producing preliminary statistical graphs.\n",
    "\n",
    "Over the years, developers all over the world have had many proposals for\n",
    "more sophisticated statistical graphs. In my opinion, `ggplot2`, contributed by [Hadley Wickham](http://had.co.nz/),\n",
    "is the best.\n",
    "\n",
    "`ggplot2` is an advanced graphic system that generates high-quality statistical graphs.\n",
    "It is not possible to cover it in a lecture. Fortunately, the author wrote a comprehensive reference.\n",
    "\n",
    "The workflow of ggplot is to add the elements in a graph one by one, and then print out\n",
    "the graph all together.\n",
    "In contrast, `plot` draws the main graph at first, and then adds the supplementary elements later.\n",
    "\n",
    "`ggplot2` is particularly good at drawing multiple graphs, either of the same pattern or of\n",
    "different patterns. Multiple subgraphs convey rich information and easy comparison.\n",
    "\n",
    "In Python, many libraries have established a solid reputation for plotting, for example: `matplotlib`, `seaborn`, `Altair` or even `ggplot` and `pandas`. But many people prefer the syntax and the \"grammar of graphics\" as in `ggplot2`, hence the trend goes to the package `plotnine` which is capable of data visualization like ggplot2 in R."
   ]
  },
  {
   "cell_type": "code",
   "execution_count": null,
   "metadata": {},
   "outputs": [],
   "source": [
    "import numpy as np  \n",
    "import pandas as pd  \n",
    "import matplotlib.pyplot as plt\n",
    "import datetime"
   ]
  },
  {
   "cell_type": "code",
   "execution_count": null,
   "metadata": {},
   "outputs": [],
   "source": [
    "# Read the CSV file\n",
    "d0 = pd.read_csv(\"data_example/AJR.csv\")\n",
    "\n",
    "# Plot the data\n",
    "plt.scatter(d0['avexpr'], d0['logpgp95'])\n",
    "plt.xlabel('avexpr')\n",
    "plt.ylabel('logpgp95')\n",
    "plt.show()"
   ]
  },
  {
   "cell_type": "code",
   "execution_count": null,
   "metadata": {},
   "outputs": [],
   "source": [
    "\n",
    "# Read the CSV file\n",
    "bank_0 = pd.read_csv(\"data_example/bank-full.csv\", sep=\";\")\n",
    "\n",
    "# Display the dataframe\n",
    "print(bank_0)\n",
    "\n",
    "# Print the names of the columns\n",
    "print(bank_0.columns)"
   ]
  },
  {
   "cell_type": "code",
   "execution_count": null,
   "metadata": {},
   "outputs": [],
   "source": [
    "# Scatter plot\n",
    "plt.scatter(bank_0['age'], bank_0['balance'])\n",
    "plt.xlabel('Age')\n",
    "plt.ylabel('Balance')\n",
    "plt.show()"
   ]
  },
  {
   "cell_type": "code",
   "execution_count": null,
   "metadata": {},
   "outputs": [],
   "source": [
    "# Scatter plot with groups\n",
    "import seaborn as sns\n",
    "sns.scatterplot(data=bank_0, x='age', y='balance', hue='education', alpha=0.5)\n",
    "plt.show()"
   ]
  },
  {
   "cell_type": "code",
   "execution_count": null,
   "metadata": {},
   "outputs": [],
   "source": [
    "# Create a FacetGrid\n",
    "g = sns.FacetGrid(bank_0, col='education', row='marital')\n",
    "\n",
    "# Map a scatter plot to the FacetGrid\n",
    "g.map(plt.scatter, 'age', 'balance', alpha=0.5)\n",
    "\n",
    "# Show the plot\n",
    "plt.show()"
   ]
  },
  {
   "cell_type": "code",
   "execution_count": null,
   "metadata": {},
   "outputs": [],
   "source": [
    "# Bar plot with 'education' as hue\n",
    "sns.countplot(data=bank_0, x='age', hue='education')\n",
    "plt.show()"
   ]
  },
  {
   "cell_type": "code",
   "execution_count": null,
   "metadata": {},
   "outputs": [],
   "source": [
    "# Dodged bar plot with 'education' as hue\n",
    "sns.countplot(data=bank_0, y='age', hue='education', dodge=True)\n",
    "plt.show()"
   ]
  },
  {
   "cell_type": "markdown",
   "metadata": {},
   "source": [
    "### data manipulation"
   ]
  },
  {
   "cell_type": "code",
   "execution_count": null,
   "metadata": {},
   "outputs": [],
   "source": [
    "# Read the CSV file\n",
    "d0 = pd.read_csv(\"data_example/PWT100.csv\")\n",
    "\n",
    "# Display the first few rows of the dataframe\n",
    "print(d0.head())\n",
    "\n",
    "# Print the names of the columns\n",
    "print(d0.columns)"
   ]
  },
  {
   "cell_type": "code",
   "execution_count": null,
   "metadata": {},
   "outputs": [],
   "source": [
    "# Select specific columns and filter rows\n",
    "d1 = d0[['countrycode', 'year', 'rgdpe', 'pop']]\n",
    "d1 = d1[d1['countrycode'].isin(['CHN', 'RUS', 'JPN', 'USA'])]\n",
    "\n",
    "# Create new column 'gdpcapita'\n",
    "d1['gdpcapita'] = d1['rgdpe'] / d1['pop']\n",
    "\n",
    "# Print the dataframe\n",
    "print(d1)"
   ]
  },
  {
   "cell_type": "code",
   "execution_count": null,
   "metadata": {},
   "outputs": [],
   "source": [
    "# Scatter plot with 'countrycode' as hue\n",
    "sns.scatterplot(data=d1, x='year', y='rgdpe', hue='countrycode')\n",
    "plt.show()"
   ]
  },
  {
   "cell_type": "code",
   "execution_count": null,
   "metadata": {},
   "outputs": [],
   "source": [
    "# Line plot with 'countrycode' as hue\n",
    "sns.lineplot(data=d1, x='year', y='gdpcapita', hue='countrycode')\n",
    "plt.show()"
   ]
  },
  {
   "cell_type": "code",
   "execution_count": null,
   "metadata": {},
   "outputs": [],
   "source": [
    "# Select specific columns\n",
    "s1 = d1[['countrycode', 'year', 'pop']]\n",
    "\n",
    "# Spread 'year' column into multiple columns with 'pop' as values\n",
    "s1 = s1.pivot(index='countrycode', columns='year', values='pop')\n",
    "\n",
    "print(s1)"
   ]
  },
  {
   "cell_type": "code",
   "execution_count": null,
   "metadata": {},
   "outputs": [],
   "source": [
    "# Gather '1950' to '2019' columns into key-value pairs\n",
    "s1 = s1.reset_index().melt(id_vars='countrycode', var_name='year', value_name='pop')\n",
    "\n",
    "# Print the dataframe\n",
    "print(s1)"
   ]
  },
  {
   "cell_type": "markdown",
   "metadata": {},
   "source": [
    "## Interactive Graphs\n",
    "\n",
    "* [Plotly](https://plotly.com/graphing-libraries/)\n",
    "\n",
    "* Shinny for Python [posit](https://shiny.posit.co/py/docs/overview.html)\n",
    "* [Shinny Express](https://shiny.posit.co/blog/posts/shiny-express/)\n"
   ]
  },
  {
   "cell_type": "markdown",
   "metadata": {},
   "source": []
  }
 ],
 "metadata": {
  "kernelspec": {
   "display_name": "Python 3",
   "language": "python",
   "name": "python3"
  },
  "language_info": {
   "codemirror_mode": {
    "name": "ipython",
    "version": 3
   },
   "file_extension": ".py",
   "mimetype": "text/x-python",
   "name": "python",
   "nbconvert_exporter": "python",
   "pygments_lexer": "ipython3",
   "version": "3.11.3"
  }
 },
 "nbformat": 4,
 "nbformat_minor": 2
}
