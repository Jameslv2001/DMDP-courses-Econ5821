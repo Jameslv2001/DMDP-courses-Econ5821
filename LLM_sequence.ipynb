{
 "cells": [
  {
   "cell_type": "code",
   "execution_count": 1,
   "id": "a8c125ac-5254-47a9-95c5-95fdf64066a5",
   "metadata": {},
   "outputs": [],
   "source": [
    "from openai import OpenAI\n",
    "from IPython.display import display, Markdown"
   ]
  },
  {
   "cell_type": "markdown",
   "id": "1c244736-3c7f-43ca-9a0c-98da4109ec1e",
   "metadata": {},
   "source": [
    "This notebook shows how to use API to submit a sequence of prompts in a single convesation. The order matters.  "
   ]
  },
  {
   "cell_type": "markdown",
   "id": "c4267199-df46-4925-b3f8-35e06f1e50dc",
   "metadata": {},
   "source": [
    "The basic operation is to send the previous history together with the new prompt, so that the proceeding dialogue has the contexts. \n",
    "\n",
    "To save space, in display the previous history is \"stripped\". "
   ]
  },
  {
   "cell_type": "code",
   "execution_count": 2,
   "id": "17fd5ea2-00a3-461d-ba98-aba88eaefa58",
   "metadata": {},
   "outputs": [],
   "source": [
    "client = OpenAI(\n",
    "    base_url = 'https://scrp-chat.econ.cuhk.edu.hk/api',\n",
    "    api_key='Your_API',\n",
    ")"
   ]
  },
  {
   "cell_type": "code",
   "execution_count": 3,
   "id": "39315948-1dcc-4424-8916-e1f9154e7416",
   "metadata": {},
   "outputs": [],
   "source": [
    "def send_prompt(conversation_history, new_prompt):\n",
    "    # Create the prompt by combining the conversation history and the new prompt\n",
    "    prompt = \"\\n\".join(conversation_history) + \"\\n\" + new_prompt\n",
    "\n",
    "    # Call the OpenAI API\n",
    "    response = client.chat.completions.create(\n",
    "        model = \"meta-llama/Llama-3.2-1B-Instruct\",\n",
    "        messages=[\n",
    "          {\"role\": \"system\", \"content\": \"You are a helpful assistant. Use '$' for inline math, and use '$$' for display math.\"},\n",
    "          {\"role\": \"user\", \"content\": prompt},\n",
    "        ],\n",
    "        temperature=1,\n",
    "        top_p=0.5\n",
    "    )\n",
    "\n",
    "    # Extract the response text\n",
    "    # this is the key step \"strip\" the history\n",
    "    response_text = response.choices[0].message.content.strip() \n",
    "\n",
    "    # Append the new prompt and response to the conversation history\n",
    "    conversation_history.append(f\"User: {new_prompt}\")\n",
    "    conversation_history.append(f\"Assistant: {response_text}\")\n",
    "\n",
    "    return conversation_history"
   ]
  },
  {
   "cell_type": "code",
   "execution_count": 4,
   "id": "156bc080-5e74-4748-89cc-5a68ba201879",
   "metadata": {},
   "outputs": [
    {
     "name": "stdout",
     "output_type": "stream",
     "text": [
      "User: Which city has the largest population in China?\n",
      "Assistant: The city with the largest population in China is Shanghai. As of the 2020 census, the population of Shanghai is approximately 24.92 million people.\n",
      "User: Where is this city located?\n",
      "Assistant: Shanghai is located in the province of Jiangsu, in the eastern part of China.\n",
      "User: How's the future of this city?\n",
      "Assistant: The future of Shanghai is looking promising. As one of the world's most populous cities, Shanghai is expected to continue growing and developing in various sectors, including technology, finance, and tourism.\n",
      "\n",
      "Some of the key trends that will shape the future of Shanghai include:\n",
      "\n",
      "1. **Urbanization**: Shanghai is expected to become a megacity, with a population of over 24 million by 2030. This will require significant investment in infrastructure, transportation, and housing.\n",
      "2. **Economic growth**: Shanghai is a major economic hub, with a GDP of over $1 trillion. The city is expected to continue to attract foreign investment, particularly in the tech and finance sectors.\n",
      "3. **Infrastructure development**: Shanghai is investing heavily in infrastructure development, including the expansion of the city's transportation network, including high-speed rail, airports, and seaports.\n",
      "4. **Sustainable development**: Shanghai is committed to becoming a sustainable city, with a focus on reducing carbon emissions and promoting green technologies.\n",
      "5. **Cultural and tourism development**: Shanghai is expected to continue to develop its cultural and tourism sectors, with a focus on preserving its rich history and cultural heritage.\n",
      "\n",
      "Some of the key projects currently underway in Shanghai include:\n",
      "\n",
      "1. **The Shanghai skyline renovation**: A major renovation of the city's skyline, including the construction of new skyscrapers and the redevelopment of existing buildings.\n",
      "2. **The Shanghai International Finance Center**: A new international financial center, designed to become a major hub for financial services and trade.\n",
      "3. **The Shanghai Museum of Contemporary Art**: A new museum of contemporary art, designed to showcase the city's vibrant art scene.\n",
      "4. **The Shanghai Ocean Aquarium**: A new aquarium, designed to showcase the city's marine life and promote ocean conservation.\n",
      "\n",
      "Overall, Shanghai is expected to continue to be a major player in the global economy and a hub for innovation and development.\n"
     ]
    }
   ],
   "source": [
    "# Initialize the conversation history\n",
    "conversation_history = []\n",
    "\n",
    "# Example of sending multiple prompts\n",
    "conversation_history = send_prompt(conversation_history, \"Which city has the largest population in China?\")\n",
    "conversation_history = send_prompt(conversation_history, \"Where is this city located?\") \n",
    "conversation_history = send_prompt(conversation_history, \"How's the future of this city?\") \n",
    "\n",
    "\n",
    "# Print the conversation history\n",
    "for message in conversation_history:\n",
    "    print(message)"
   ]
  },
  {
   "cell_type": "code",
   "execution_count": null,
   "id": "b0789e20-02d4-487b-83ff-7934f6730be9",
   "metadata": {},
   "outputs": [],
   "source": []
  }
 ],
 "metadata": {
  "kernelspec": {
   "display_name": "Python 3 (ipykernel)",
   "language": "python",
   "name": "python3"
  },
  "language_info": {
   "codemirror_mode": {
    "name": "ipython",
    "version": 3
   },
   "file_extension": ".py",
   "mimetype": "text/x-python",
   "name": "python",
   "nbconvert_exporter": "python",
   "pygments_lexer": "ipython3",
   "version": "3.11.7"
  }
 },
 "nbformat": 4,
 "nbformat_minor": 5
}
