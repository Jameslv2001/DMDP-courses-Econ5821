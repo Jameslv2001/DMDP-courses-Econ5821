{
 "cells": [
  {
   "cell_type": "markdown",
   "metadata": {
    "slideshow": {
     "slide_type": "slide"
    }
   },
   "source": [
    "# Lecture 1: Basic Python\n",
    "\n",
    "\n",
    "![Python](https://www.python.org/static/community_logos/python-logo-master-v3-TM.png)\n",
    "\n",
    "## Zhentao Shi"
   ]
  },
  {
   "cell_type": "markdown",
   "metadata": {
    "slideshow": {
     "slide_type": "slide"
    }
   },
   "source": [
    "### Basics\n",
    "\n",
    "-  `[ ]` creates a list of vectors\n",
    "-  Binary arithmetic operations `+`, `-`, `*` and `/` are performed element by element.\n",
    "-  Arithmetic operators: exponends are expressed with `**`, and `%` is the reminder.\n",
    "-  Binary logical operations `&`, `|`, `!=`, `=`, `<`, `>`, `>=`, `<=`."
   ]
  },
  {
   "cell_type": "markdown",
   "metadata": {
    "slideshow": {
     "slide_type": "slide"
    }
   },
   "source": [
    "### Array and Matrix\n",
    "\n",
    "* Python was not originally designed for scientific computing.\n",
    "\n",
    "* To work with arrays and matrices, we need the package `numpy`"
   ]
  },
  {
   "cell_type": "code",
   "execution_count": 8,
   "metadata": {
    "slideshow": {
     "slide_type": "fragment"
    }
   },
   "outputs": [],
   "source": [
    "#Import the NumPy library\n",
    "import numpy as np\n",
    "\n",
    "# Import the Pandas library\n",
    "import pandas as pd"
   ]
  },
  {
   "cell_type": "markdown",
   "metadata": {
    "slideshow": {
     "slide_type": "slide"
    }
   },
   "source": [
    "#### Example"
   ]
  },
  {
   "cell_type": "code",
   "execution_count": 9,
   "metadata": {
    "scrolled": true,
    "slideshow": {
     "slide_type": "fragment"
    }
   },
   "outputs": [
    {
     "data": {
      "text/plain": [
       "array([[1, 2, 3],\n",
       "       [4, 5, 6]])"
      ]
     },
     "execution_count": 9,
     "metadata": {},
     "output_type": "execute_result"
    }
   ],
   "source": [
    "# Create an array\n",
    "A = np.array([[1,2,3],[4,5,6]])\n",
    "A\n"
   ]
  },
  {
   "cell_type": "code",
   "execution_count": 10,
   "metadata": {
    "slideshow": {
     "slide_type": "fragment"
    }
   },
   "outputs": [
    {
     "data": {
      "text/plain": [
       "(2, 3)"
      ]
     },
     "execution_count": 10,
     "metadata": {},
     "output_type": "execute_result"
    }
   ],
   "source": [
    "A.shape"
   ]
  },
  {
   "cell_type": "code",
   "execution_count": 11,
   "metadata": {
    "slideshow": {
     "slide_type": "subslide"
    }
   },
   "outputs": [
    {
     "data": {
      "text/plain": [
       "matrix([[1, 2],\n",
       "        [3, 4]])"
      ]
     },
     "execution_count": 11,
     "metadata": {},
     "output_type": "execute_result"
    }
   ],
   "source": [
    "# Create a matrix (2-dimensional array)\n",
    "M = np.matrix([[1,2],[3,4]])\n",
    "M"
   ]
  },
  {
   "cell_type": "markdown",
   "metadata": {
    "slideshow": {
     "slide_type": "slide"
    }
   },
   "source": [
    "## Key Differences Between Python and R\n",
    "\n",
    "* Python is row-major, while R is column-major.\n",
    "* The indexing of Python is 0-based, while that of R is 1-based."
   ]
  },
  {
   "cell_type": "code",
   "execution_count": 12,
   "metadata": {
    "slideshow": {
     "slide_type": "slide"
    }
   },
   "outputs": [
    {
     "name": "stdout",
     "output_type": "stream",
     "text": [
      "[[1 2 3]\n",
      " [4 5 6]]\n"
     ]
    }
   ],
   "source": [
    "D = np.array([1,2,3,4,5,6]).reshape(2,3)\n",
    "print(D)"
   ]
  },
  {
   "cell_type": "code",
   "execution_count": 13,
   "metadata": {
    "slideshow": {
     "slide_type": "fragment"
    }
   },
   "outputs": [
    {
     "name": "stdout",
     "output_type": "stream",
     "text": [
      "Error: operands could not be broadcast together with shapes (2,3) (2,) \n"
     ]
    }
   ],
   "source": [
    "try:\n",
    "    print(D + [1, 2])  # doesn't work\n",
    "except ValueError as e:\n",
    "    print(f\"Error: {e}\")\n",
    "\n",
    "\n"
   ]
  },
  {
   "cell_type": "code",
   "execution_count": 14,
   "metadata": {
    "slideshow": {
     "slide_type": "fragment"
    }
   },
   "outputs": [
    {
     "data": {
      "text/plain": [
       "array([[2, 3, 4],\n",
       "       [6, 7, 8]])"
      ]
     },
     "execution_count": 14,
     "metadata": {},
     "output_type": "execute_result"
    }
   ],
   "source": [
    "D + [[1],[2]] # broadcasting"
   ]
  },
  {
   "cell_type": "code",
   "execution_count": 15,
   "metadata": {
    "slideshow": {
     "slide_type": "slide"
    }
   },
   "outputs": [
    {
     "name": "stdout",
     "output_type": "stream",
     "text": [
      "['a', 'b', 'c', 'd', 'e', 'f', 'g', 'f', 'g']\n"
     ]
    }
   ],
   "source": [
    "F = ['a', 'b', 'c', 'd', 'e', 'f', 'g', 'f', 'g']\n",
    "print(F)"
   ]
  },
  {
   "cell_type": "code",
   "execution_count": 16,
   "metadata": {
    "slideshow": {
     "slide_type": "fragment"
    }
   },
   "outputs": [
    {
     "data": {
      "text/plain": [
       "['c', 'd', 'e']"
      ]
     },
     "execution_count": 16,
     "metadata": {},
     "output_type": "execute_result"
    }
   ],
   "source": [
    "F[2:5]"
   ]
  },
  {
   "cell_type": "code",
   "execution_count": 17,
   "metadata": {},
   "outputs": [
    {
     "data": {
      "text/plain": [
       "array([1, 2, 3])"
      ]
     },
     "execution_count": 17,
     "metadata": {},
     "output_type": "execute_result"
    }
   ],
   "source": [
    "\n",
    "# the index rule in Python is more stringent.\n",
    "D[0] # the first row"
   ]
  },
  {
   "cell_type": "code",
   "execution_count": 18,
   "metadata": {},
   "outputs": [
    {
     "data": {
      "text/plain": [
       "array([1, 2, 3])"
      ]
     },
     "execution_count": 18,
     "metadata": {},
     "output_type": "execute_result"
    }
   ],
   "source": [
    "D[0,:]"
   ]
  },
  {
   "cell_type": "code",
   "execution_count": 19,
   "metadata": {},
   "outputs": [
    {
     "data": {
      "text/plain": [
       "array([1, 4])"
      ]
     },
     "execution_count": 19,
     "metadata": {},
     "output_type": "execute_result"
    }
   ],
   "source": [
    "D[:,0]"
   ]
  },
  {
   "cell_type": "code",
   "execution_count": 20,
   "metadata": {},
   "outputs": [
    {
     "data": {
      "text/plain": [
       "6"
      ]
     },
     "execution_count": 20,
     "metadata": {},
     "output_type": "execute_result"
    }
   ],
   "source": [
    "D[1,2]"
   ]
  },
  {
   "cell_type": "code",
   "execution_count": 21,
   "metadata": {},
   "outputs": [
    {
     "name": "stdout",
     "output_type": "stream",
     "text": [
      "Matrix Multiplication:\n",
      " [[14 32]\n",
      " [32 77]]\n",
      "Matrix Inverse:\n",
      " [[-2.   1. ]\n",
      " [ 1.5 -0.5]]\n",
      "Eigenvalues:\n",
      " [-0.37228132  5.37228132]\n",
      "Eigenvectors:\n",
      " [[-0.82456484 -0.41597356]\n",
      " [ 0.56576746 -0.90937671]]\n",
      "U matrix:\n",
      " [[-0.3863177  -0.92236578]\n",
      " [-0.92236578  0.3863177 ]]\n",
      "Singular values:\n",
      " [9.508032   0.77286964]\n",
      "V matrix:\n",
      " [[-0.42866713 -0.56630692 -0.7039467 ]\n",
      " [ 0.80596391  0.11238241 -0.58119908]\n",
      " [ 0.40824829 -0.81649658  0.40824829]]\n"
     ]
    }
   ],
   "source": [
    "# Matrix multiplication\n",
    "result_mult = np.dot(A, D.T)\n",
    "print(\"Matrix Multiplication:\\n\", result_mult)\n",
    "\n",
    "# Matrix inverse\n",
    "try:\n",
    "    inverse_M = np.linalg.inv(M)\n",
    "    print(\"Matrix Inverse:\\n\", inverse_M)\n",
    "except np.linalg.LinAlgError:\n",
    "    print(\"Matrix is singular and cannot be inverted.\")\n",
    "\n",
    "# Eigenvalues and eigenvectors\n",
    "eigenvalues, eigenvectors = np.linalg.eig(M)\n",
    "print(\"Eigenvalues:\\n\", eigenvalues)\n",
    "print(\"Eigenvectors:\\n\", eigenvectors)\n",
    "\n",
    "# Singular Value Decomposition (SVD)\n",
    "U, S, V = np.linalg.svd(A)\n",
    "print(\"U matrix:\\n\", U)\n",
    "print(\"Singular values:\\n\", S)\n",
    "print(\"V matrix:\\n\", V)"
   ]
  },
  {
   "cell_type": "markdown",
   "metadata": {
    "slideshow": {
     "slide_type": "notes"
    }
   },
   "source": [
    "For further readings, please find a list of basic commands in the documentation of NumPy: \n",
    "https://docs.scipy.org/doc/numpy/user/numpy-for-matlab-users.html"
   ]
  },
  {
   "cell_type": "markdown",
   "metadata": {
    "slideshow": {
     "slide_type": "slide"
    }
   },
   "source": [
    "### OLS-Example\n",
    "OLS estimation with one $x$ regressor and a constant.\n",
    "Graduate textbook expresses the OLS in matrix form\n",
    "$\\hat{\\beta} = (X' X)^{-1} X'y.$\n",
    "To conduct OLS estimation in Python, we literally translate the mathematical expression into code.\n",
    "\n",
    "__Step 1__: We need data $Y$ and $X$ to run OLS. We simulate an artificial dataset."
   ]
  },
  {
   "cell_type": "code",
   "execution_count": 22,
   "metadata": {
    "slideshow": {
     "slide_type": "fragment"
    }
   },
   "outputs": [],
   "source": [
    "# simulate data\n",
    "import random\n",
    "np.random.seed(111) # can be removed to allow the result to change\n",
    "# set the parameters\n",
    "n = 100\n",
    "b0 = np.matrix([ [1],[2] ] )\n",
    "# generate the data\n",
    "e = np.random.normal(size = (n,1))\n",
    "X = np.hstack((np.ones((n, 1)), np.random.normal(size = (n, 1))))\n",
    "y = np.dot(X, b0) + e"
   ]
  },
  {
   "cell_type": "markdown",
   "metadata": {
    "slideshow": {
     "slide_type": "subslide"
    }
   },
   "source": [
    "__Step 2:__ translate the formula to code"
   ]
  },
  {
   "cell_type": "code",
   "execution_count": 23,
   "metadata": {
    "slideshow": {
     "slide_type": "fragment"
    }
   },
   "outputs": [
    {
     "name": "stdout",
     "output_type": "stream",
     "text": [
      "[[0.99086531]\n",
      " [1.92203641]]\n"
     ]
    }
   ],
   "source": [
    "# OLS estimator\n",
    "bhat = np.dot(np.linalg.inv(np.dot( X.T, X ) ), np.dot( X.T, y ) ) \n",
    "print(bhat)"
   ]
  },
  {
   "cell_type": "markdown",
   "metadata": {
    "slideshow": {
     "slide_type": "subslide"
    }
   },
   "source": [
    "__Step 3 (additional):__ plot the regression graph with the scatter points and the regression line.\n",
    "Further compare the regression line (black) with the true coefficient line (red)."
   ]
  },
  {
   "cell_type": "code",
   "execution_count": 24,
   "metadata": {
    "slideshow": {
     "slide_type": "fragment"
    }
   },
   "outputs": [
    {
     "data": {
      "image/png": "[encoded data removed]",
      "text/plain": [
       "<Figure size 640x480 with 1 Axes>"
      ]
     },
     "metadata": {},
     "output_type": "display_data"
    }
   ],
   "source": [
    "# Import MathPlotLib\n",
    "import matplotlib.pyplot as plt\n",
    "X1 = X[:, 1]\n",
    "plt.plot(X1, y, 'o')\n",
    "plt.plot(X1, np.dot(X, b0), color='red', linestyle='-')\n",
    "plt.plot(X1, np.dot(X, bhat), color='black', linestyle='-')\n",
    "plt.title('regression')\n",
    "plt.xlabel('x1')\n",
    "plt.ylabel('y')\n",
    "plt.axhline(0, color = 'black', linestyle = 'dashed')\n",
    "plt.axvline(0, color = 'black', linestyle = 'dashed')\n",
    "plt.show()"
   ]
  },
  {
   "cell_type": "markdown",
   "metadata": {
    "slideshow": {
     "slide_type": "subslide"
    }
   },
   "source": [
    "__Step 4:__ In econometrics we are often interested in hypothesis testing.\n",
    "\n",
    "The *t*-statistic is widely used.\n",
    "To test the null $H_0: \\beta_2 = 1$, we compute the associated *t*-statistic.\n",
    "Again, this is a translation.\n",
    "$$\n",
    "t  =  \\frac{\\hat{\\beta}_2 - \\beta_{02}}{ \\hat{\\sigma}_{\\hat{\\beta}_2}  }\n",
    "   =  \\frac{\\hat{\\beta}_2 - \\beta_{02}}{ \\sqrt{ \\left[ (X'X)^{-1} \\hat{\\sigma}^2 \\right]_{22} } }.\n",
    "$$\n",
    "where $[\\cdot]_{22}$ is the (2,2)-element of a matrix."
   ]
  },
  {
   "cell_type": "code",
   "execution_count": 25,
   "metadata": {
    "slideshow": {
     "slide_type": "fragment"
    }
   },
   "outputs": [
    {
     "name": "stdout",
     "output_type": "stream",
     "text": [
      "-0.7771772903170151\n"
     ]
    }
   ],
   "source": [
    "# Import Math\n",
    "\n",
    "# Calculate the t-value\n",
    "bhat2 = bhat.item(1) # item( ) is a new function I learn today\n",
    "\n",
    "e_hat = y - np.dot(X, bhat)\n",
    "sigma_hat_square = np.dot(e_hat.T, e_hat).item(0) / (n-2)\n",
    "\n",
    "Sigma_B = np.linalg.inv(np.dot(X.T, X)) * sigma_hat_square\n",
    "t_value_2 = (bhat2 - b0[1, 0]) / np.sqrt(Sigma_B[1, 1])\n",
    "print(t_value_2)"
   ]
  },
  {
   "cell_type": "markdown",
   "metadata": {
    "slideshow": {
     "slide_type": "slide"
    }
   },
   "source": [
    "### Package/Module/Library\n",
    "\n",
    "* Python has numerous useful packages/modules/libraries. \n",
    "* Install the targeted package into the environment.\n"
   ]
  },
  {
   "cell_type": "markdown",
   "metadata": {
    "slideshow": {
     "slide_type": "slide"
    }
   },
   "source": [
    "\n",
    "### Input and Output\n",
    "\n",
    "To read and write csv files in Python, use the pandas library.\n",
    "\n",
    "#### Example:"
   ]
  },
  {
   "cell_type": "code",
   "execution_count": 26,
   "metadata": {
    "scrolled": true,
    "slideshow": {
     "slide_type": "fragment"
    }
   },
   "outputs": [
    {
     "data": {
      "text/html": [
       "<div>\n",
       "<style scoped>\n",
       "    .dataframe tbody tr th:only-of-type {\n",
       "        vertical-align: middle;\n",
       "    }\n",
       "\n",
       "    .dataframe tbody tr th {\n",
       "        vertical-align: top;\n",
       "    }\n",
       "\n",
       "    .dataframe thead th {\n",
       "        text-align: right;\n",
       "    }\n",
       "</style>\n",
       "<table border=\"1\" class=\"dataframe\">\n",
       "  <thead>\n",
       "    <tr style=\"text-align: right;\">\n",
       "      <th></th>\n",
       "      <th>shortnam</th>\n",
       "      <th>logpgp95</th>\n",
       "      <th>loghjypl</th>\n",
       "      <th>avexpr</th>\n",
       "      <th>lat_abst</th>\n",
       "      <th>logem4</th>\n",
       "      <th>malfal94</th>\n",
       "      <th>yellow</th>\n",
       "      <th>leb95</th>\n",
       "      <th>imr95</th>\n",
       "      <th>meantemp</th>\n",
       "      <th>lt100km</th>\n",
       "      <th>euro1900</th>\n",
       "      <th>democ1</th>\n",
       "      <th>cons1</th>\n",
       "      <th>democ00a</th>\n",
       "      <th>cons00a</th>\n",
       "    </tr>\n",
       "  </thead>\n",
       "  <tbody>\n",
       "    <tr>\n",
       "      <th>0</th>\n",
       "      <td>AGO</td>\n",
       "      <td>7.770645</td>\n",
       "      <td>-3.411248</td>\n",
       "      <td>5.363636</td>\n",
       "      <td>0.136667</td>\n",
       "      <td>5.634789</td>\n",
       "      <td>0.95000</td>\n",
       "      <td>1</td>\n",
       "      <td>46.49</td>\n",
       "      <td>125.0</td>\n",
       "      <td>22.94133</td>\n",
       "      <td>0.118758</td>\n",
       "      <td>8.0</td>\n",
       "      <td>0.0</td>\n",
       "      <td>3.0</td>\n",
       "      <td>0.0</td>\n",
       "      <td>1.0</td>\n",
       "    </tr>\n",
       "    <tr>\n",
       "      <th>1</th>\n",
       "      <td>ARG</td>\n",
       "      <td>9.133459</td>\n",
       "      <td>-0.872274</td>\n",
       "      <td>6.386364</td>\n",
       "      <td>0.377778</td>\n",
       "      <td>4.232656</td>\n",
       "      <td>0.00000</td>\n",
       "      <td>0</td>\n",
       "      <td>72.89</td>\n",
       "      <td>21.8</td>\n",
       "      <td>17.10000</td>\n",
       "      <td>0.123089</td>\n",
       "      <td>60.0</td>\n",
       "      <td>1.0</td>\n",
       "      <td>1.0</td>\n",
       "      <td>3.0</td>\n",
       "      <td>3.0</td>\n",
       "    </tr>\n",
       "    <tr>\n",
       "      <th>2</th>\n",
       "      <td>AUS</td>\n",
       "      <td>9.897972</td>\n",
       "      <td>-0.170788</td>\n",
       "      <td>9.318182</td>\n",
       "      <td>0.300000</td>\n",
       "      <td>2.145931</td>\n",
       "      <td>0.00000</td>\n",
       "      <td>1</td>\n",
       "      <td>78.25</td>\n",
       "      <td>5.6</td>\n",
       "      <td>20.90000</td>\n",
       "      <td>0.198958</td>\n",
       "      <td>98.0</td>\n",
       "      <td>10.0</td>\n",
       "      <td>7.0</td>\n",
       "      <td>10.0</td>\n",
       "      <td>7.0</td>\n",
       "    </tr>\n",
       "    <tr>\n",
       "      <th>3</th>\n",
       "      <td>BFA</td>\n",
       "      <td>6.845880</td>\n",
       "      <td>-3.540459</td>\n",
       "      <td>4.454545</td>\n",
       "      <td>0.144445</td>\n",
       "      <td>5.634789</td>\n",
       "      <td>0.95000</td>\n",
       "      <td>1</td>\n",
       "      <td>44.39</td>\n",
       "      <td>98.8</td>\n",
       "      <td>28.10000</td>\n",
       "      <td>0.000000</td>\n",
       "      <td>0.0</td>\n",
       "      <td>0.0</td>\n",
       "      <td>3.0</td>\n",
       "      <td>0.0</td>\n",
       "      <td>1.0</td>\n",
       "    </tr>\n",
       "    <tr>\n",
       "      <th>4</th>\n",
       "      <td>BGD</td>\n",
       "      <td>6.877296</td>\n",
       "      <td>-2.063568</td>\n",
       "      <td>5.136364</td>\n",
       "      <td>0.266667</td>\n",
       "      <td>4.268438</td>\n",
       "      <td>0.12008</td>\n",
       "      <td>1</td>\n",
       "      <td>58.13</td>\n",
       "      <td>78.8</td>\n",
       "      <td>25.68621</td>\n",
       "      <td>0.401598</td>\n",
       "      <td>0.0</td>\n",
       "      <td>8.0</td>\n",
       "      <td>7.0</td>\n",
       "      <td>0.0</td>\n",
       "      <td>1.0</td>\n",
       "    </tr>\n",
       "  </tbody>\n",
       "</table>\n",
       "</div>"
      ],
      "text/plain": [
       "  shortnam  logpgp95  loghjypl    avexpr  lat_abst    logem4  malfal94  \\\n",
       "0      AGO  7.770645 -3.411248  5.363636  0.136667  5.634789   0.95000   \n",
       "1      ARG  9.133459 -0.872274  6.386364  0.377778  4.232656   0.00000   \n",
       "2      AUS  9.897972 -0.170788  9.318182  0.300000  2.145931   0.00000   \n",
       "3      BFA  6.845880 -3.540459  4.454545  0.144445  5.634789   0.95000   \n",
       "4      BGD  6.877296 -2.063568  5.136364  0.266667  4.268438   0.12008   \n",
       "\n",
       "   yellow  leb95  imr95  meantemp   lt100km  euro1900  democ1  cons1  \\\n",
       "0       1  46.49  125.0  22.94133  0.118758       8.0     0.0    3.0   \n",
       "1       0  72.89   21.8  17.10000  0.123089      60.0     1.0    1.0   \n",
       "2       1  78.25    5.6  20.90000  0.198958      98.0    10.0    7.0   \n",
       "3       1  44.39   98.8  28.10000  0.000000       0.0     0.0    3.0   \n",
       "4       1  58.13   78.8  25.68621  0.401598       0.0     8.0    7.0   \n",
       "\n",
       "   democ00a  cons00a  \n",
       "0       0.0      1.0  \n",
       "1       3.0      3.0  \n",
       "2      10.0      7.0  \n",
       "3       0.0      1.0  \n",
       "4       0.0      1.0  "
      ]
     },
     "execution_count": 26,
     "metadata": {},
     "output_type": "execute_result"
    }
   ],
   "source": [
    "import pandas as pd\n",
    "sample_data = pd.read_csv('data_example/AJR.csv')\n",
    "sample_data.head()"
   ]
  },
  {
   "cell_type": "code",
   "execution_count": 27,
   "metadata": {
    "slideshow": {
     "slide_type": "subslide"
    }
   },
   "outputs": [],
   "source": [
    "sample_data = sample_data.dropna()\n",
    "\n",
    "# write the sampe_data to a csv file\n",
    "sample_data.to_csv('data_example/AJR_from_py.csv', index = False)\n"
   ]
  },
  {
   "cell_type": "markdown",
   "metadata": {
    "slideshow": {
     "slide_type": "slide"
    }
   },
   "source": [
    "### Statistics\n",
    "\n",
    "* The package `SciPy` is for statistics. \n",
    "* Commonly used probability distributions in `SciPy.stats`\n",
    "\n",
    "\n",
    "##### Example:"
   ]
  },
  {
   "cell_type": "code",
   "execution_count": 28,
   "metadata": {
    "slideshow": {
     "slide_type": "subslide"
    }
   },
   "outputs": [
    {
     "data": {
      "image/png": "[encoded data removed]",
      "text/plain": [
       "<Figure size 640x480 with 1 Axes>"
      ]
     },
     "metadata": {},
     "output_type": "display_data"
    }
   ],
   "source": [
    "# Import Packages\n",
    "import seaborn as sns\n",
    "from scipy import stats\n",
    "import numpy as np\n",
    "import matplotlib.pyplot as plt\n",
    "\n",
    "\n",
    "x = np.linspace(0.01, 16, num = 1600)\n",
    "y = stats.chi2.pdf(x, 3)\n",
    "z = stats.chi2.rvs(3, size = 1000)\n",
    "\n",
    "plt.plot(x, y, linestyle = '-', color = 'black')\n",
    "sns.kdeplot(z, color = 'red')\n",
    "plt.xlim(-0.5, 16)\n",
    "plt.ylim(-0.01, 0.25)\n",
    "plt.xlabel('X')\n",
    "plt.ylabel('density')\n",
    "plt.show()"
   ]
  },
  {
   "cell_type": "code",
   "execution_count": 29,
   "metadata": {
    "slideshow": {
     "slide_type": "subslide"
    }
   },
   "outputs": [
    {
     "name": "stdout",
     "output_type": "stream",
     "text": [
      "0.053\n"
     ]
    }
   ],
   "source": [
    "crit = stats.chi2.ppf(q = 0.95, df = 3)\n",
    "print(len([i for i in z if i > crit]) / len(z))"
   ]
  },
  {
   "cell_type": "markdown",
   "metadata": {
    "slideshow": {
     "slide_type": "slide"
    }
   },
   "source": [
    "### User-defined function\n",
    "\n",
    "The format of a user-defined function in Python is\n",
    "\n",
    "```            \n",
    "def function_name(input):\n",
    "\n",
    "    expressions \n",
    "    \n",
    "    return output\n",
    "```"
   ]
  },
  {
   "cell_type": "markdown",
   "metadata": {
    "slideshow": {
     "slide_type": "subslide"
    }
   },
   "source": [
    "##### Example:\n",
    "\n",
    "If the central limit theorem is applicable, then\n",
    "we can calculate the 95% two-sided asymptotic confidence interval as\n",
    "$$\\left(\\hat{\\mu} - \\frac{1.96}{\\sqrt{n}} \\hat{\\sigma}, \\hat{\\mu} + \\frac{1.96}{\\sqrt{n}} \\hat{\\sigma} \\right)$$\n",
    "from a given sample.\n",
    "It is an easy job."
   ]
  },
  {
   "cell_type": "code",
   "execution_count": 30,
   "metadata": {
    "slideshow": {
     "slide_type": "subslide"
    }
   },
   "outputs": [],
   "source": [
    "#construct confidence interval\n",
    "\n",
    "def CI(x):\n",
    "    #x is a vector of random variables\n",
    "    n = len(x)\n",
    "    mu = np.mean(x)\n",
    "    sig = np.std(x)\n",
    "    upper = mu + 1.96 / np.sqrt(n) * sig\n",
    "    lower = mu - 1.96 / np.sqrt(n) * sig\n",
    "    return {'lower': lower, 'upper': upper}\n",
    "    # return a tuple"
   ]
  },
  {
   "cell_type": "markdown",
   "metadata": {
    "slideshow": {
     "slide_type": "slide"
    }
   },
   "source": [
    "### Flow Control\n",
    "\n",
    "* `if` is used for choice\n",
    "* `for` or `while` is used for loops.\n",
    "\n",
    "**Example**\n",
    "\n",
    "Calculate the empirical coverage probability of a Poisson distribution of degrees of freedom 2.\n",
    "We conduct this experiment for 1000 times.\n"
   ]
  },
  {
   "cell_type": "code",
   "execution_count": 31,
   "metadata": {
    "slideshow": {
     "slide_type": "subslide"
    }
   },
   "outputs": [
    {
     "name": "stdout",
     "output_type": "stream",
     "text": [
      "0.949\n"
     ]
    }
   ],
   "source": [
    "import datetime\n",
    "from scipy import stats\n",
    "\n",
    "Rep = 1000\n",
    "sample_size = 100\n",
    "capture = [0] * Rep\n",
    "\n",
    "\n",
    "for i in range(Rep):\n",
    "    mu = 2\n",
    "    x = stats.poisson.rvs(mu, size = sample_size)\n",
    "    bounds = CI(x)\n",
    "    if (bounds['lower'] <= mu and mu <= bounds['upper']):\n",
    "        capture[i] = 1\n",
    "    \n",
    "\n",
    "print(np.mean(capture))"
   ]
  },
  {
   "cell_type": "markdown",
   "metadata": {
    "slideshow": {
     "slide_type": "slide"
    }
   },
   "source": [
    "### Statistical Model\n",
    "\n",
    "* Statistical models are formulated as `y~x`\n",
    "* In the package `scikit-learn`, we run OLS using `LinearRegression()`"
   ]
  },
  {
   "cell_type": "code",
   "execution_count": 32,
   "metadata": {
    "slideshow": {
     "slide_type": "subslide"
    }
   },
   "outputs": [
    {
     "name": "stdout",
     "output_type": "stream",
     "text": [
      "                                 OLS Regression Results                                \n",
      "=======================================================================================\n",
      "Dep. Variable:                      y   R-squared (uncentered):                   0.782\n",
      "Model:                            OLS   Adj. R-squared (uncentered):              0.767\n",
      "Method:                 Least Squares   F-statistic:                              50.26\n",
      "Date:                Tue, 17 Dec 2024   Prob (F-statistic):                    5.42e-10\n",
      "Time:                        17:01:15   Log-Likelihood:                         -38.515\n",
      "No. Observations:                  30   AIC:                                      81.03\n",
      "Df Residuals:                      28   BIC:                                      83.83\n",
      "Df Model:                           2                                                  \n",
      "Covariance Type:            nonrobust                                                  \n",
      "==============================================================================\n",
      "                 coef    std err          t      P>|t|      [0.025      0.975]\n",
      "------------------------------------------------------------------------------\n",
      "x1             0.5901      0.167      3.527      0.001       0.247       0.933\n",
      "x2             1.2349      0.146      8.439      0.000       0.935       1.535\n",
      "==============================================================================\n",
      "Omnibus:                        2.181   Durbin-Watson:                   2.222\n",
      "Prob(Omnibus):                  0.336   Jarque-Bera (JB):                1.339\n",
      "Skew:                           0.223   Prob(JB):                        0.512\n",
      "Kurtosis:                       2.066   Cond. No.                         1.29\n",
      "==============================================================================\n",
      "\n",
      "Notes:\n",
      "[1] R² is computed without centering (uncentered) since the model does not contain a constant.\n",
      "[2] Standard Errors assume that the covariance matrix of the errors is correctly specified.\n"
     ]
    }
   ],
   "source": [
    "import numpy as np\n",
    "from scipy import stats\n",
    "import statsmodels.api as sm\n",
    "\n",
    "T = 30\n",
    "p = 2\n",
    "b0 = np.full([p,1], 1 )\n",
    "\n",
    "#generate data\n",
    "x = stats.norm.rvs(size = [T,p])\n",
    "y = np.dot(x, b0) + stats.norm.rvs(size = [T,1])\n",
    "\n",
    "\n",
    "#Linear model\n",
    "model = sm.OLS(y, x)\n",
    "results = model.fit()\n",
    "print(results.summary())"
   ]
  },
  {
   "cell_type": "markdown",
   "metadata": {
    "slideshow": {
     "slide_type": "slide"
    }
   },
   "source": [
    "## Display\n",
    "\n",
    "* `result` object is a list containing the regression results. \n",
    "  * Estimated coefficients, \n",
    "  * t-stat\n",
    "  * F-stat\n",
    "  * R-sqaured."
   ]
  },
  {
   "cell_type": "code",
   "execution_count": 33,
   "metadata": {
    "slideshow": {
     "slide_type": "subslide"
    }
   },
   "outputs": [
    {
     "data": {
      "image/png": "[encoded data removed]",
      "text/plain": [
       "<Figure size 640x480 with 1 Axes>"
      ]
     },
     "metadata": {},
     "output_type": "display_data"
    }
   ],
   "source": [
    "plt.plot(results.fittedvalues, color = 'red', label = 'Fitted Value')\n",
    "plt.plot(y, color = 'blue', linestyle = 'dashed', label = 'True Value')\n",
    "plt.title('Fitted Value')\n",
    "plt.xlabel('x')\n",
    "plt.ylabel('y')\n",
    "plt.legend()\n",
    "plt.show()"
   ]
  },
  {
   "cell_type": "markdown",
   "metadata": {
    "slideshow": {
     "slide_type": "slide"
    }
   },
   "source": [
    "## Plot\n",
    "\n",
    "* plot the true value of $y$ and fitted value $\\hat{y}$"
   ]
  },
  {
   "cell_type": "code",
   "execution_count": 34,
   "metadata": {
    "slideshow": {
     "slide_type": "subslide"
    }
   },
   "outputs": [
    {
     "data": {
      "image/png": "[encoded data removed]",
      "text/plain": [
       "<Figure size 640x480 with 1 Axes>"
      ]
     },
     "metadata": {},
     "output_type": "display_data"
    }
   ],
   "source": [
    "x0 = x[:,0]\n",
    "plt.plot(x0, x0*b0.item(0), color = 'red', label = 'True Coef')\n",
    "plt.scatter(x0, y, color = 'black', marker = 'o')\n",
    "plt.title('Fitted Value')\n",
    "plt.xlabel('x')\n",
    "plt.ylabel('y')\n",
    "plt.legend()\n",
    "plt.show()"
   ]
  }
 ],
 "metadata": {
  "celltoolbar": "Slideshow",
  "kernelspec": {
   "display_name": "pytorch",
   "language": "python",
   "name": "python3"
  },
  "language_info": {
   "codemirror_mode": {
    "name": "ipython",
    "version": 3
   },
   "file_extension": ".py",
   "mimetype": "text/x-python",
   "name": "python",
   "nbconvert_exporter": "python",
   "pygments_lexer": "ipython3",
   "version": "3.11.5"
  },
  "rise": {
   "enable_chalkboard": true,
   "scroll": true,
   "theme": "serif"
  }
 },
 "nbformat": 4,
 "nbformat_minor": 2
}
