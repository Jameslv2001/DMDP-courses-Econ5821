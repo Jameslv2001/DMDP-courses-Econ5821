{
 "cells": [
  {
   "cell_type": "markdown",
   "metadata": {
    "slideshow": {
     "slide_type": "slide"
    }
   },
   "source": [
    "# Lecture 1: Basic Python\n",
    "\n",
    "\n",
    "![Python](https://www.python.org/static/community_logos/python-logo-master-v3-TM.png)\n",
    "\n",
    "## Zhentao Shi"
   ]
  },
  {
   "cell_type": "markdown",
   "metadata": {
    "slideshow": {
     "slide_type": "slide"
    }
   },
   "source": [
    "### Basics\n",
    "\n",
    "-  Binary arithmetic operations `+`, `-`, `*` and `/` are performed element by element.逐个元素进行\n",
    "-  Arithmetic operators: exponends are expressed with `**`, and `%` is the reminder. 指数和余数\n",
    "-  Binary logical operations `&`, `|`, `!=`, `=`, `<`, `>`, `>=`, `<=`."
   ]
  },
  {
   "cell_type": "markdown",
   "metadata": {
    "slideshow": {
     "slide_type": "slide"
    }
   },
   "source": [
    "### Array and Matrix\n",
    "\n",
    "* Python was not originally designed for scientific computing.\n",
    "\n",
    "* To work with arrays and matrices, we need the package `numpy`"
   ]
  },
  {
   "cell_type": "code",
   "execution_count": 4,
   "metadata": {
    "slideshow": {
     "slide_type": "fragment"
    }
   },
   "outputs": [],
   "source": [
    "#Import the NumPy library\n",
    "import numpy as np\n",
    "\n",
    "# Import the Pandas library\n",
    "import pandas as pd"
   ]
  },

 "cell_type": "markdown",
   "metadata": {
    "slideshow": {
     "slide_type": "slide"
    }
   },
   "source": [
    "## Assignment"
   ]
  },
  {
   "cell_type": "code",
   "execution_count": 2,
   "metadata": {
    "slideshow": {
     "slide_type": "fragment"
    }
   },
   "outputs": [
    {
     "data": {
      "text/plain": [
       "1"
      ]
     },
     "execution_count": 2,
     "metadata": {},
     "output_type": "execute_result"
    }
   ],
   "source": [
    "a = 1; a"
   ]
  },
  {
   "cell_type": "code",
   "execution_count": 3,
   "metadata": {
    "slideshow": {
     "slide_type": "fragment"
    }
   },
   "outputs": [
    {
     "data": {
      "text/plain": [
       "2"
      ]
     },
     "execution_count": 3,
     "metadata": {},
     "output_type": "execute_result"
    }
   ],
   "source": [
    "b=2; b"
   ]
  },
  {
   "cell_type": "code",
   "execution_count": 5,
   "metadata": {
    "slideshow": {
     "slide_type": "fragment"
    }
   },
   "outputs": [
    {
     "data": {
      "text/plain": [
       "3"
      ]
     },
     "execution_count": 5,
     "metadata": {},
     "output_type": "execute_result"
    }
   ],
   "source": [
    "f = a+b; f"
   ]
  },
  {
   "cell_type": "code",
   "execution_count": 7,
   "metadata": {
    "slideshow": {
     "slide_type": "fragment"
    }
   },
   "outputs": [
    {
     "data": {
      "text/plain": [
       "1.0986122886681098"
      ]
     },
     "execution_count": 7,
     "metadata": {},
     "output_type": "execute_result"
    }
   ],
   "source": [
    "d = np.log(f); d"
   ]
  },
  {
   "cell_type": "code",
   "execution_count": 8,
   "metadata": {
    "slideshow": {
     "slide_type": "fragment"
    }
   },
   "outputs": [
    {
     "data": {
      "text/plain": [
       "1.048147073968205"
      ]
     },
     "execution_count": 8,
     "metadata": {},
     "output_type": "execute_result"
    }
   ],
   "source": [
    "e = np.sqrt(d); e"
   ]
  },
  {
   "cell_type": "code",
   "execution_count": 9,
   "metadata": {
    "slideshow": {
     "slide_type": "fragment"
    }
   },
   "outputs": [
    {
     "name": "stdout",
     "output_type": "stream",
     "text": [
      "e =  1.048147073968205\n"
     ]
    }
   ],
   "source": [
    "print(\"e = \", e)"
   ]
  },
  {
   "cell_type": "markdown",
   "metadata": {
    "slideshow": {
     "slide_type": "subslide"
    }
   },
   "source": [
    "Python is case sensitive. "
   ]
  },
  {
   "cell_type": "code",
   "execution_count": 10,
   "metadata": {
    "slideshow": {
     "slide_type": "fragment"
    }
   },
   "outputs": [
    {
     "name": "stdout",
     "output_type": "stream",
     "text": [
      "F is a word but f =  3\n"
     ]
    }
   ],
   "source": [
    "F = \"a word\"\n",
    "print( \"F is\", F, \"but f = \", f)"
   ]
  },
  {
   "cell_type": "markdown",
   "metadata": {
    "slideshow": {
     "slide_type": "slide"
    }
   },
   "source": [
    "### Vectors"
   ]
  },
  {
   "cell_type": "code",
   "execution_count": 12,
   "metadata": {
    "slideshow": {
     "slide_type": "fragment"
    }
   },
   "outputs": [
    {
     "data": {
      "text/plain": [
       "[1, 2, 3, 4]"
      ]
     },
     "execution_count": 12,
     "metadata": {},
     "output_type": "execute_result"
    }
   ],
   "source": [
    "a = [1,2,3,4]; a"
   ]
  },
  {
   "cell_type": "markdown",
   "metadata": {
    "slideshow": {
     "slide_type": "fragment"
    }
   },
   "source": [
    "Notice Py's default operation of `+` on list"
   ]
  },
  {
   "cell_type": "code",
   "execution_count": 13,
   "metadata": {
    "slideshow": {
     "slide_type": "fragment"
    }
   },
   "outputs": [
    {
     "data": {
      "text/plain": [
       "[1, 2, 3, 4, 1, 2]"
      ]
     },
     "execution_count": 13,
     "metadata": {},
     "output_type": "execute_result"
    }
   ],
   "source": [
    "a+ [1,2]"
   ]
  },
  {
   "cell_type": "code",
   "execution_count": 14,
   "metadata": {
    "slideshow": {
     "slide_type": "fragment"
    }
   },
   "outputs": [
    {
     "data": {
      "text/plain": [
       "array([1, 2, 3, 4])"
      ]
     },
     "execution_count": 14,
     "metadata": {},
     "output_type": "execute_result"
    }
   ],
   "source": [
    "b = np.array([1,2,3,4]); b"
   ]
  },
  {
   "cell_type": "code",
   "execution_count": 18,
   "metadata": {
    "slideshow": {
     "slide_type": "fragment"
    }
   },
   "outputs": [
    {
     "data": {
      "text/plain": [
       "(2,)"
      ]
     },
     "execution_count": 18,
     "metadata": {},
     "output_type": "execute_result"
    }
   ],
   "source": [
    "np.array([1,2]).shape"
   ]
  },
  {
   "cell_type": "code",
   "execution_count": 19,
   "metadata": {
    "slideshow": {
     "slide_type": "fragment"
    }
   },
   "outputs": [
    {
     "data": {
      "text/plain": [
       "(1, 2)"
      ]
     },
     "execution_count": 19,
     "metadata": {},
     "output_type": "execute_result"
    }
   ],
   "source": [
    "np.array([[1,2]]).shape"
   ]
  },
  {
   "cell_type": "markdown",
   "metadata": {
    "slideshow": {
     "slide_type": "slide"
    }
   },
   "source": [
    "Logical values"
   ]
  },
  {
   "cell_type": "code",
   "execution_count": 1,
   "metadata": {
    "slideshow": {
     "slide_type": "fragment"
    }
   },
   "outputs": [
    {
     "data": {
      "text/plain": [
       "True"
      ]
     },
     "execution_count": 1,
     "metadata": {},
     "output_type": "execute_result"
    }
   ],
   "source": [
    "True and True"
   ]
  },
  {
   "cell_type": "code",
   "execution_count": 2,
   "metadata": {
    "slideshow": {
     "slide_type": "fragment"
    }
   },
   "outputs": [
    {
     "data": {
      "text/plain": [
       "True"
      ]
     },
     "execution_count": 2,
     "metadata": {},
     "output_type": "execute_result"
    }
   ],
   "source": [
    "True or False"
   ]
  },
  {
   "cell_type": "code",
   "execution_count": 5,
   "metadata": {
    "slideshow": {
     "slide_type": "fragment"
    }
   },
   "outputs": [
    {
     "data": {
      "text/plain": [
       "array([ True,  True, False])"
      ]
     },
     "execution_count": 5,
     "metadata": {},
     "output_type": "execute_result"
    }
   ],
   "source": [
    "logi1 = np.array([True, True, False]); logi1"
   ]
  },
  {
   "cell_type": "code",
   "execution_count": 6,
   "metadata": {
    "slideshow": {
     "slide_type": "fragment"
    }
   },
   "outputs": [
    {
     "data": {
      "text/plain": [
       "array([False,  True,  True])"
      ]
     },
     "execution_count": 6,
     "metadata": {},
     "output_type": "execute_result"
    }
   ],
   "source": [
    "logi2 = np.array([False, True, True]); logi2"
   ]
  },
  {
   "cell_type": "code",
   "execution_count": 7,
   "metadata": {
    "slideshow": {
     "slide_type": "fragment"
    }
   },
   "outputs": [
    {
     "data": {
      "text/plain": [
       "array([False,  True, False])"
      ]
     },
     "execution_count": 7,
     "metadata": {},
     "output_type": "execute_result"
    }
   ],
   "source": [
    "logi1 & logi2"
   ]
  },
  {
   "cell_type": "code",
   "execution_count": 8,
   "metadata": {
    "slideshow": {
     "slide_type": "fragment"
    }
   },
   "outputs": [
    {
     "data": {
      "text/plain": [
       "array([ True,  True,  True])"
      ]
     },
     "execution_count": 8,
     "metadata": {},
     "output_type": "execute_result"
    }
   ],
   "source": [
    "logi1 | logi2"
   ]
  },
  {
   "cell_type": "code",
   "execution_count": 9,
   "metadata": {
    "slideshow": {
     "slide_type": "fragment"
    }
   },
   "outputs": [
    {
     "data": {
      "text/plain": [
       "array([ True, False,  True])"
      ]
     },
     "execution_count": 9,
     "metadata": {},
     "output_type": "execute_result"
    }
   ],
   "source": [
    "logi1 != logi2"
   ]
  },
  {
   "cell_type": "code",
   "execution_count": 27,
   "metadata": {
    "slideshow": {
     "slide_type": "slide"
    }
   },
   "outputs": [
    {
     "name": "stderr",
     "output_type": "stream",
     "text": [
      "C:\\Users\\zhent\\AppData\\Local\\Temp\\ipykernel_66804\\3438155168.py:1: RuntimeWarning: invalid value encountered in sqrt\n",
      "  np.sqrt(-1)\n"
     ]
    },
    {
     "data": {
      "text/plain": [
       "nan"
      ]
     },
     "execution_count": 27,
     "metadata": {},
     "output_type": "execute_result"
    }
   ],
   "source": [
    "np.sqrt(-1)"
   ]
  },
  {
   "cell_type": "code",
   "execution_count": 31,
   "metadata": {
    "slideshow": {
     "slide_type": "fragment"
    }
   },
   "outputs": [
    {
     "data": {
      "text/plain": [
       "'18'"
      ]
     },
     "execution_count": 31,
     "metadata": {},
     "output_type": "execute_result"
    }
   ],
   "source": [
    "a = '18'; a"
   ]
  },
  {
   "cell_type": "code",
   "execution_count": 34,
   "metadata": {
    "slideshow": {
     "slide_type": "fragment"
    }
   },
   "outputs": [
    {
     "data": {
      "text/plain": [
       "18"
      ]
     },
     "execution_count": 34,
     "metadata": {},
     "output_type": "execute_result"
    }
   ],
   "source": [
    "a = int(a); a"
   ]
  },
  {
   "cell_type": "code",
   "execution_count": 36,
   "metadata": {
    "slideshow": {
     "slide_type": "fragment"
    }
   },
   "outputs": [
    {
     "data": {
      "text/plain": [
       "18.0"
      ]
     },
     "execution_count": 36,
     "metadata": {},
     "output_type": "execute_result"
    }
   ],
   "source": [
    "af = float(a); af"
   ]
  },
  {
   "cell_type": "markdown",
   "metadata": {
    "slideshow": {
     "slide_type": "slide"
    }
   },
   "source": [
    "#### Example"
   ]
  },
  {
   "cell_type": "code",
   "execution_count": 5,
   "metadata": {
    "scrolled": true,
    "slideshow": {
     "slide_type": "fragment"
    }
   },
   "outputs": [
    {
     "data": {
      "text/plain": [
       "array([[1, 2, 3],\n",
       "       [4, 5, 6]])"
      ]
     },
     "execution_count": 5,
     "metadata": {},
     "output_type": "execute_result"
    }
   ],
   "source": [
    "# Create an array\n",
    "A = np.array([[1,2,3],[4,5,6]])\n",
    "A\n"
   ]
  },
  {
   "cell_type": "code",
   "execution_count": 6,
   "metadata": {
    "slideshow": {
     "slide_type": "fragment"
    }
   },
   "outputs": [
    {
     "data": {
      "text/plain": [
       "(2, 3)"
      ]
     },
     "execution_count": 6,
     "metadata": {},
     "output_type": "execute_result"
    }
   ],
   "source": [
    "A.shape"
   ]
  },
  {
   "cell_type": "code",
   "execution_count": 7,
   "metadata": {
    "slideshow": {
     "slide_type": "subslide"
    }
   },
   "outputs": [
    {
     "data": {
      "text/plain": [
       "matrix([[1, 2],\n",
       "        [3, 4]])"
      ]
     },
     "execution_count": 7,
     "metadata": {},
     "output_type": "execute_result"
    }
   ],
   "source": [
    "# Create a matrix (2-dimensional array)\n",
    "M = np.matrix([[1,2],[3,4]])\n",
    "M"
   ]
  },
  {
   "cell_type": "markdown",
   "metadata": {
    "slideshow": {
     "slide_type": "slide"
    }
   },
   "source": [
    "## Key Differences Between Python and R\n",
    "\n",
    "* Python is row-major, while R is column-major.\n",
    "* The indexing of Python is 0-based, while that of R is 1-based."
   ]
  },
  {
   "cell_type": "code",
   "execution_count": null,
   "metadata": {},
   "outputs": [],
   "source": [
    "#in R\n",
    "#M <- matrix(c(1,2,3,4), ncol=2, nrow=2)\n",
    "#会生成[1,3] [2,4]的矩阵"
   ]
  },
  {
   "cell_type": "code",
   "execution_count": 8,
   "metadata": {
    "slideshow": {
     "slide_type": "slide"
    }
   },
   "outputs": [
    {
     "name": "stdout",
     "output_type": "stream",
     "text": [
      "[[1 2 3]\n",
      " [4 5 6]]\n"
     ]
    }
   ],
   "source": [
    "D = np.array([1,2,3,4,5,6]).reshape(2,3)\n",
    "print(D)"
   ]
  },
  {
   "cell_type": "code",
   "execution_count": 9,
   "metadata": {
    "slideshow": {
     "slide_type": "fragment"
    }
   },
   "outputs": [
    {
     "name": "stdout",
     "output_type": "stream",
     "text": [
      "Error: operands could not be broadcast together with shapes (2,3) (2,) \n"
     ]
    }
   ],
   "source": [
    "try:\n",
    "    print(D + [1, 2])  # doesn't work in R直接会broadcasting\n",
    "except ValueError as e:\n",
    "    print(f\"Error: {e}\")\n"
   ]
  },
  {
   "cell_type": "code",
   "execution_count": 10,
   "metadata": {
    "slideshow": {
     "slide_type": "fragment"
    }
   },
   "outputs": [
    {
     "data": {
      "text/plain": [
       "array([[2, 3, 4],\n",
       "       [6, 7, 8]])"
      ]
     },
     "execution_count": 10,
     "metadata": {},
     "output_type": "execute_result"
    }
   ],
   "source": [
    "D + [[1],[2]] # broadcasting \n",
    "#in matlab, 需要手动把这个2*1的矩阵broadcasting成2*3的矩阵"
   ]
  },
  {
   "cell_type": "code",
   "execution_count": 11,
   "metadata": {
    "slideshow": {
     "slide_type": "slide"
    }
   },
   "outputs": [
    {
     "name": "stdout",
     "output_type": "stream",
     "text": [
      "['a', 'b', 'c', 'd', 'e', 'f', 'g', 'f', 'g']\n"
     ]
    }
   ],
   "source": [
    "F = ['a', 'b', 'c', 'd', 'e', 'f', 'g', 'f', 'g']\n",
    "print(F)"
   ]
  },
  {
   "cell_type": "code",
   "execution_count": 12,
   "metadata": {
    "slideshow": {
     "slide_type": "fragment"
    }
   },
   "outputs": [
    {
     "data": {
      "text/plain": [
       "['c', 'd', 'e']"
      ]
     },
     "execution_count": 12,
     "metadata": {},
     "output_type": "execute_result"
    }
   ],
   "source": [
    "F[2:5]"
   ]
  },
  {
   "cell_type": "code",
   "execution_count": 13,
   "metadata": {
    "slideshow": {
     "slide_type": "subslide"
    }
   },
   "outputs": [
    {
     "data": {
      "text/plain": [
       "array([1, 2, 3])"
      ]
     },
     "execution_count": 13,
     "metadata": {},
     "output_type": "execute_result"
    }
   ],
   "source": [
    "# the index rule in Python is more stringent.\n",
    "D[0] # the first row"
   ]
  },
  {
   "cell_type": "code",
   "execution_count": 14,
   "metadata": {
    "slideshow": {
     "slide_type": "fragment"
    }
   },
   "outputs": [
    {
     "data": {
      "text/plain": [
       "array([1, 2, 3])"
      ]
     },
     "execution_count": 14,
     "metadata": {},
     "output_type": "execute_result"
    }
   ],
   "source": [
    "D[0,:]"
   ]
  },
  {
   "cell_type": "code",
   "execution_count": 15,
   "metadata": {
    "slideshow": {
     "slide_type": "fragment"
    }
   },
   "outputs": [
    {
     "data": {
      "text/plain": [
       "array([1, 4])"
      ]
     },
     "execution_count": 15,
     "metadata": {},
     "output_type": "execute_result"
    }
   ],
   "source": [
    "D[:,0]"
   ]
  },
  {
   "cell_type": "code",
   "execution_count": 16,
   "metadata": {
    "slideshow": {
     "slide_type": "fragment"
    }
   },
   "outputs": [
    {
     "data": {
      "text/plain": [
       "6"
      ]
     },
     "execution_count": 16,
     "metadata": {},
     "output_type": "execute_result"
    }
   ],
   "source": [
    "D[1,2]"
   ]
  },
  {
   "cell_type": "code",
   "execution_count": 17,
   "metadata": {
    "slideshow": {
     "slide_type": "slide"
    }
   },
   "outputs": [
    {
     "name": "stdout",
     "output_type": "stream",
     "text": [
      "[[14 32]\n",
      " [32 77]]\n"
     ]
    }
   ],
   "source": [
    "# Matrix multiplication\n",
    "result_mult = np.dot(A, D.T) #或者 result_mult = A @ D.T\n",
    "print(result_mult)\n",
    "A * D # element-wise multiplication 点对点的乘法"
   ]
  },
  {
   "cell_type": "code",
   "execution_count": 18,
   "metadata": {
    "slideshow": {
     "slide_type": "fragment"
    }
   },
   "outputs": [
    {
     "name": "stdout",
     "output_type": "stream",
     "text": [
      "[[-2.   1. ]\n",
      " [ 1.5 -0.5]]\n"
     ]
    }
   ],
   "source": [
    "# Matrix inverse\n",
    "inverse_M = np.linalg.inv(M)\n",
    "print(inverse_M)"
   ]
  },
  {
   "cell_type": "code",
   "execution_count": 19,
   "metadata": {
    "slideshow": {
     "slide_type": "subslide"
    }
   },
   "outputs": [
    {
     "name": "stdout",
     "output_type": "stream",
     "text": [
      "Eigenvalues:\n",
      " [-0.37228132  5.37228132]\n",
      "Eigenvectors:\n",
      " [[-0.82456484 -0.41597356]\n",
      " [ 0.56576746 -0.90937671]]\n",
      "U matrix:\n",
      " [[-0.3863177  -0.92236578]\n",
      " [-0.92236578  0.3863177 ]]\n",
      "Singular values:\n",
      " [9.508032   0.77286964]\n",
      "V matrix:\n",
      " [[-0.42866713 -0.56630692 -0.7039467 ]\n",
      " [ 0.80596391  0.11238241 -0.58119908]\n",
      " [ 0.40824829 -0.81649658  0.40824829]]\n"
     ]
    }
   ],
   "source": [
    "# Eigenvalues and eigenvectors\n",
    "eigenvalues, eigenvectors = np.linalg.eig(M)\n",
    "print(\"Eigenvalues:\\n\", eigenvalues)\n",
    "print(\"Eigenvectors:\\n\", eigenvectors)\n",
    "\n",
    "# Singular Value Decomposition (SVD)\n",
    "U, S, V = np.linalg.svd(A)\n",
    "print(\"U matrix:\\n\", U)\n",
    "print(\"Singular values:\\n\", S)\n",
    "print(\"V matrix:\\n\", V)"
   ]
  },
  {
   "cell_type": "markdown",
   "metadata": {
    "slideshow": {
     "slide_type": "notes"
    }
   },
   "source": [
    "For further readings, please find a list of basic commands in the documentation of NumPy: \n",
    "https://docs.scipy.org/doc/numpy/user/numpy-for-matlab-users.html"
   ]
  },
  {
   "cell_type": "markdown",
   "metadata": {
    "slideshow": {
     "slide_type": "slide"
    }
   },
   "source": [
    "### OLS-Example\n",
    "OLS estimation with one $x$ regressor and a constant.\n",
    "Graduate textbook expresses the OLS in matrix form\n",
    "$\\hat{\\beta} = (X' X)^{-1} X'y.$\n",
    "To conduct OLS estimation in Python, we literally translate the mathematical expression into code.\n",
    "\n",
    "__Step 1__: We need data $Y$ and $X$ to run OLS. We simulate an artificial dataset."
   ]
  },
  {
   "cell_type": "code",
   "execution_count": 20,
   "metadata": {
    "slideshow": {
     "slide_type": "fragment"
    }
   },
   "outputs": [],
   "source": [
    "# simulate data\n",
    "import random\n",
    "np.random.seed(111) # can be removed to allow the result to change\n",
    "# set the parameters\n",
    "n = 100\n",
    "b0 = np.matrix([ [1],[2] ] )\n",
    "# generate the data\n",
    "e = np.random.normal(size = (n,1))\n",
    "X = np.hstack((np.ones((n, 1)), np.random.normal(size = (n, 1))))\n",
    "y = np.dot(X, b0) + e"
   ]
  },
  {
   "cell_type": "markdown",
   "metadata": {
    "slideshow": {
     "slide_type": "subslide"
    }
   },
   "source": [
    "__Step 2:__ translate the formula to code"
   ]
  },
  {
   "cell_type": "code",
   "execution_count": 21,
   "metadata": {
    "slideshow": {
     "slide_type": "fragment"
    }
   },
   "outputs": [
    {
     "name": "stdout",
     "output_type": "stream",
     "text": [
      "[[0.99086531]\n",
      " [1.92203641]]\n"
     ]
    }
   ],
   "source": [
    "# OLS estimator\n",
    "bhat = np.dot(np.linalg.inv(np.dot( X.T, X ) ), np.dot( X.T, y ) ) \n",
    "print(bhat)"
   ]
  },
  {
   "cell_type": "markdown",
   "metadata": {
    "slideshow": {
     "slide_type": "subslide"
    }
   },
   "source": [
    "__Step 3 (additional):__ plot the regression graph with the scatter points and the regression line.\n",
    "Further compare the regression line (black) with the true coefficient line (red)."
   ]
  },
  {
   "cell_type": "code",
   "execution_count": 22,
   "metadata": {
    "slideshow": {
     "slide_type": "fragment"
    }
   },
   "outputs": [
    {
     "data": {
      "image/png": "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",
      "text/plain": [
       "<Figure size 640x480 with 1 Axes>"
      ]
     },
     "metadata": {},
     "output_type": "display_data"
    }
   ],
   "source": [
    "# Import MathPlotLib\n",
    "import matplotlib.pyplot as plt\n",
    "X1 = X[:, 1]\n",
    "plt.plot(X1, y, 'o')\n",
    "plt.plot(X1, np.dot(X, b0), color='red', linestyle='-')\n",
    "plt.plot(X1, np.dot(X, bhat), color='black', linestyle='-')\n",
    "plt.title('regression')\n",
    "plt.xlabel('x1')\n",
    "plt.ylabel('y')\n",
    "plt.axhline(0, color = 'black', linestyle = 'dashed')\n",
    "plt.axvline(0, color = 'black', linestyle = 'dashed')\n",
    "plt.show()"
   ]
  },
  {
   "cell_type": "markdown",
   "metadata": {
    "slideshow": {
     "slide_type": "subslide"
    }
   },
   "source": [
    "__Step 4:__ In econometrics we are often interested in hypothesis testing.\n",
    "\n",
    "The *t*-statistic is widely used.\n",
    "To test the null $H_0: \\beta_2 = 1$, we compute the associated *t*-statistic.\n",
    "Again, this is a translation.\n",
    "$$\n",
    "t  =  \\frac{\\hat{\\beta}_2 - \\beta_{02}}{ \\hat{\\sigma}_{\\hat{\\beta}_2}  }\n",
    "   =  \\frac{\\hat{\\beta}_2 - \\beta_{02}}{ \\sqrt{ \\left[ (X'X)^{-1} \\hat{\\sigma}^2 \\right]_{22} } }.\n",
    "$$\n",
    "where $[\\cdot]_{22}$ is the (2,2)-element of a matrix."
   ]
  },
  {
   "cell_type": "code",
   "execution_count": 23,
   "metadata": {
    "slideshow": {
     "slide_type": "fragment"
    }
   },
   "outputs": [
    {
     "name": "stdout",
     "output_type": "stream",
     "text": [
      "-0.7771772903170151\n"
     ]
    }
   ],
   "source": [
    "# Import Math\n",
    "\n",
    "# Calculate the t-value\n",
    "bhat2 = bhat.item(1) # item( ) is a new function I learn today\n",
    "\n",
    "e_hat = y - np.dot(X, bhat)\n",
    "sigma_hat_square = np.dot(e_hat.T, e_hat).item(0) / (n-2)\n",
    "\n",
    "Sigma_B = np.linalg.inv(np.dot(X.T, X)) * sigma_hat_square\n",
    "t_value_2 = (bhat2 - b0[1, 0]) / np.sqrt(Sigma_B[1, 1])\n",
    "print(t_value_2)"
   ]
  },
  {
   "cell_type": "markdown",
   "metadata": {
    "slideshow": {
     "slide_type": "slide"
    }
   },
   "source": [
    "### Package/Module/Library\n",
    "\n",
    "* Python has numerous useful packages/modules/libraries. \n",
    "* Install the targeted package into the environment.\n"
   ]
  },
  {
   "cell_type": "markdown",
   "metadata": {
    "slideshow": {
     "slide_type": "slide"
    }
   },
   "source": [
    "\n",
    "### Input and Output\n",
    "\n",
    "To read and write csv files in Python, use the pandas library.\n",
    "`!pip install package_name`\n",
    "\n",
    "#### Example:"
   ]
  },
  {
   "cell_type": "code",
   "execution_count": 24,
   "metadata": {
    "scrolled": true,
    "slideshow": {
     "slide_type": "fragment"
    }
   },
   "outputs": [
    {
     "data": {
      "text/html": [
       "<div>\n",
       "<style scoped>\n",
       "    .dataframe tbody tr th:only-of-type {\n",
       "        vertical-align: middle;\n",
       "    }\n",
       "\n",
       "    .dataframe tbody tr th {\n",
       "        vertical-align: top;\n",
       "    }\n",
       "\n",
       "    .dataframe thead th {\n",
       "        text-align: right;\n",
       "    }\n",
       "</style>\n",
       "<table border=\"1\" class=\"dataframe\">\n",
       "  <thead>\n",
       "    <tr style=\"text-align: right;\">\n",
       "      <th></th>\n",
       "      <th>shortnam</th>\n",
       "      <th>logpgp95</th>\n",
       "      <th>loghjypl</th>\n",
       "      <th>avexpr</th>\n",
       "      <th>lat_abst</th>\n",
       "      <th>logem4</th>\n",
       "      <th>malfal94</th>\n",
       "      <th>yellow</th>\n",
       "      <th>leb95</th>\n",
       "      <th>imr95</th>\n",
       "      <th>meantemp</th>\n",
       "      <th>lt100km</th>\n",
       "      <th>euro1900</th>\n",
       "      <th>democ1</th>\n",
       "      <th>cons1</th>\n",
       "      <th>democ00a</th>\n",
       "      <th>cons00a</th>\n",
       "    </tr>\n",
       "  </thead>\n",
       "  <tbody>\n",
       "    <tr>\n",
       "      <th>0</th>\n",
       "      <td>AGO</td>\n",
       "      <td>7.770645</td>\n",
       "      <td>-3.411248</td>\n",
       "      <td>5.363636</td>\n",
       "      <td>0.136667</td>\n",
       "      <td>5.634789</td>\n",
       "      <td>0.95000</td>\n",
       "      <td>1</td>\n",
       "      <td>46.49</td>\n",
       "      <td>125.0</td>\n",
       "      <td>22.94133</td>\n",
       "      <td>0.118758</td>\n",
       "      <td>8.0</td>\n",
       "      <td>0.0</td>\n",
       "      <td>3.0</td>\n",
       "      <td>0.0</td>\n",
       "      <td>1.0</td>\n",
       "    </tr>\n",
       "    <tr>\n",
       "      <th>1</th>\n",
       "      <td>ARG</td>\n",
       "      <td>9.133459</td>\n",
       "      <td>-0.872274</td>\n",
       "      <td>6.386364</td>\n",
       "      <td>0.377778</td>\n",
       "      <td>4.232656</td>\n",
       "      <td>0.00000</td>\n",
       "      <td>0</td>\n",
       "      <td>72.89</td>\n",
       "      <td>21.8</td>\n",
       "      <td>17.10000</td>\n",
       "      <td>0.123089</td>\n",
       "      <td>60.0</td>\n",
       "      <td>1.0</td>\n",
       "      <td>1.0</td>\n",
       "      <td>3.0</td>\n",
       "      <td>3.0</td>\n",
       "    </tr>\n",
       "    <tr>\n",
       "      <th>2</th>\n",
       "      <td>AUS</td>\n",
       "      <td>9.897972</td>\n",
       "      <td>-0.170788</td>\n",
       "      <td>9.318182</td>\n",
       "      <td>0.300000</td>\n",
       "      <td>2.145931</td>\n",
       "      <td>0.00000</td>\n",
       "      <td>1</td>\n",
       "      <td>78.25</td>\n",
       "      <td>5.6</td>\n",
       "      <td>20.90000</td>\n",
       "      <td>0.198958</td>\n",
       "      <td>98.0</td>\n",
       "      <td>10.0</td>\n",
       "      <td>7.0</td>\n",
       "      <td>10.0</td>\n",
       "      <td>7.0</td>\n",
       "    </tr>\n",
       "    <tr>\n",
       "      <th>3</th>\n",
       "      <td>BFA</td>\n",
       "      <td>6.845880</td>\n",
       "      <td>-3.540459</td>\n",
       "      <td>4.454545</td>\n",
       "      <td>0.144445</td>\n",
       "      <td>5.634789</td>\n",
       "      <td>0.95000</td>\n",
       "      <td>1</td>\n",
       "      <td>44.39</td>\n",
       "      <td>98.8</td>\n",
       "      <td>28.10000</td>\n",
       "      <td>0.000000</td>\n",
       "      <td>0.0</td>\n",
       "      <td>0.0</td>\n",
       "      <td>3.0</td>\n",
       "      <td>0.0</td>\n",
       "      <td>1.0</td>\n",
       "    </tr>\n",
       "    <tr>\n",
       "      <th>4</th>\n",
       "      <td>BGD</td>\n",
       "      <td>6.877296</td>\n",
       "      <td>-2.063568</td>\n",
       "      <td>5.136364</td>\n",
       "      <td>0.266667</td>\n",
       "      <td>4.268438</td>\n",
       "      <td>0.12008</td>\n",
       "      <td>1</td>\n",
       "      <td>58.13</td>\n",
       "      <td>78.8</td>\n",
       "      <td>25.68621</td>\n",
       "      <td>0.401598</td>\n",
       "      <td>0.0</td>\n",
       "      <td>8.0</td>\n",
       "      <td>7.0</td>\n",
       "      <td>0.0</td>\n",
       "      <td>1.0</td>\n",
       "    </tr>\n",
       "  </tbody>\n",
       "</table>\n",
       "</div>"
      ],
      "text/plain": [
       "  shortnam  logpgp95  loghjypl    avexpr  lat_abst    logem4  malfal94  \\\n",
       "0      AGO  7.770645 -3.411248  5.363636  0.136667  5.634789   0.95000   \n",
       "1      ARG  9.133459 -0.872274  6.386364  0.377778  4.232656   0.00000   \n",
       "2      AUS  9.897972 -0.170788  9.318182  0.300000  2.145931   0.00000   \n",
       "3      BFA  6.845880 -3.540459  4.454545  0.144445  5.634789   0.95000   \n",
       "4      BGD  6.877296 -2.063568  5.136364  0.266667  4.268438   0.12008   \n",
       "\n",
       "   yellow  leb95  imr95  meantemp   lt100km  euro1900  democ1  cons1  \\\n",
       "0       1  46.49  125.0  22.94133  0.118758       8.0     0.0    3.0   \n",
       "1       0  72.89   21.8  17.10000  0.123089      60.0     1.0    1.0   \n",
       "2       1  78.25    5.6  20.90000  0.198958      98.0    10.0    7.0   \n",
       "3       1  44.39   98.8  28.10000  0.000000       0.0     0.0    3.0   \n",
       "4       1  58.13   78.8  25.68621  0.401598       0.0     8.0    7.0   \n",
       "\n",
       "   democ00a  cons00a  \n",
       "0       0.0      1.0  \n",
       "1       3.0      3.0  \n",
       "2      10.0      7.0  \n",
       "3       0.0      1.0  \n",
       "4       0.0      1.0  "
      ]
     },
     "execution_count": 24,
     "metadata": {},
     "output_type": "execute_result"
    }
   ],
   "source": [
    "import pandas as pd\n",
    "sample_data = pd.read_csv('data_example/AJR.csv')\n",
    "sample_data.head()"
   ]
  },
  {
   "cell_type": "code",
   "execution_count": 25,
   "metadata": {
    "slideshow": {
     "slide_type": "subslide"
    }
   },
   "outputs": [],
   "source": [
    "sample_data = sample_data.dropna()\n",
    "\n",
    "# write the sample_data to a csv file\n",
    "sample_data.to_csv('data_example/AJR_from_py.csv', index = False)\n"
   ]
  },
  {
   "cell_type": "markdown",
   "metadata": {
    "slideshow": {
     "slide_type": "slide"
    }
   },
   "source": [
    "### Statistics\n",
    "\n",
    "* The package `SciPy` is for statistics. \n",
    "* Commonly used probability distributions in `SciPy.stats`\n",
    "\n",
    "\n",
    "##### Example:"
   ]
  },
  {
   "cell_type": "code",
   "execution_count": 26,
   "metadata": {
    "slideshow": {
     "slide_type": "subslide"
    }
   },
   "outputs": [
    {
     "data": {
      "image/png": "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",
      "text/plain": [
       "<Figure size 640x480 with 1 Axes>"
      ]
     },
     "metadata": {},
     "output_type": "display_data"
    }
   ],
   "source": [
    "# Import Packages\n",
    "\n",
    "import seaborn as sns\n",
    "from scipy import stats\n",
    "import matplotlib.pyplot as plt\n",
    "\n",
    "\n",
    "x = np.linspace(0.01, 16, num = 1600)\n",
    "y = stats.chi2.pdf(x, 3)\n",
    "z = stats.chi2.rvs(3, size = 1000)\n",
    "\n",
    "plt.plot(x, y, linestyle = '-', color = 'black')\n",
    "sns.kdeplot(z, color = 'red')\n",
    "plt.xlim(-0.5, 16)\n",
    "plt.ylim(-0.01, 0.25)\n",
    "plt.xlabel('X')\n",
    "plt.ylabel('density')\n",
    "plt.show()"
   ]
  },
  {
   "cell_type": "code",
   "execution_count": 27,
   "metadata": {
    "slideshow": {
     "slide_type": "subslide"
    }
   },
   "outputs": [
    {
     "name": "stdout",
     "output_type": "stream",
     "text": [
      "0.053\n"
     ]
    }
   ],
   "source": [
    "crit = stats.chi2.ppf(q = 0.95, df = 3)\n",
    "print(len([i for i in z if i > crit]) / len(z))"
   ]
  },
  {
   "cell_type": "markdown",
   "metadata": {
    "slideshow": {
     "slide_type": "slide"
    }
   },
   "source": [
    "### User-defined function\n",
    "\n",
    "The format of a user-defined function in Python is\n",
    "\n",
    "```            \n",
    "def function_name(input):\n",
    "\n",
    "    expressions \n",
    "    \n",
    "    return output\n",
    "```"
   ]
  },
  {
   "cell_type": "markdown",
   "metadata": {
    "slideshow": {
     "slide_type": "subslide"
    }
   },
   "source": [
    "##### Example:\n",
    "\n",
    "If the central limit theorem is applicable, then\n",
    "we can calculate the 95% two-sided asymptotic confidence interval as\n",
    "$$\\left(\\hat{\\mu} - \\frac{1.96}{\\sqrt{n}} \\hat{\\sigma}, \\hat{\\mu} + \\frac{1.96}{\\sqrt{n}} \\hat{\\sigma} \\right)$$\n",
    "from a given sample.\n",
    "It is an easy job."
   ]
  },
  {
   "cell_type": "code",
   "execution_count": 28,
   "metadata": {
    "slideshow": {
     "slide_type": "subslide"
    }
   },
   "outputs": [],
   "source": [
    "#construct confidence interval\n",
    "\n",
    "def CI(x):\n",
    "    #x is a vector of random variables\n",
    "    n = len(x)\n",
    "    mu = np.mean(x)\n",
    "    sig = np.std(x)\n",
    "    upper = mu + 1.96 / np.sqrt(n) * sig\n",
    "    lower = mu - 1.96 / np.sqrt(n) * sig\n",
    "    return {'lower': lower, 'upper': upper}\n",
    "    # return a tuple"
   ]
  },
  {
   "cell_type": "markdown",
   "metadata": {
    "slideshow": {
     "slide_type": "slide"
    }
   },
   "source": [
    "### Flow Control\n",
    "\n",
    "* `if` is used for choice\n",
    "* `for` or `while` is used for loops.\n",
    "\n",
    "**Example**\n",
    "\n",
    "Calculate the empirical coverage probability of a Poisson distribution of degrees of freedom 2.\n",
    "We conduct this experiment for 1000 times.\n"
   ]
  },
  {
   "cell_type": "code",
   "execution_count": 29,
   "metadata": {
    "slideshow": {
     "slide_type": "subslide"
    }
   },
   "outputs": [
    {
     "name": "stdout",
     "output_type": "stream",
     "text": [
      "0.949\n"
     ]
    }
   ],
   "source": [
    "import datetime\n",
    "from scipy import stats\n",
    "\n",
    "Rep = 1000\n",
    "sample_size = 100\n",
    "capture = [0] * Rep\n",
    "\n",
    "\n",
    "for i in range(Rep):\n",
    "    mu = 2\n",
    "    x = stats.poisson.rvs(mu, size = sample_size)\n",
    "    bounds = CI(x)\n",
    "    if (bounds['lower'] <= mu and mu <= bounds['upper']):\n",
    "        capture[i] = 1\n",
    "    \n",
    "\n",
    "print(np.mean(capture))"
   ]
  },
  {
   "cell_type": "markdown",
   "metadata": {
    "slideshow": {
     "slide_type": "slide"
    }
   },
   "source": [
    "### Statistical Model\n",
    "\n",
    "* Statistical models are formulated as `y~x`\n",
    "* In the package `scikit-learn`, we run OLS using `LinearRegression()`"
   ]
  },
  {
   "cell_type": "code",
   "execution_count": 30,
   "metadata": {
    "slideshow": {
     "slide_type": "subslide"
    }
   },
   "outputs": [
    {
     "name": "stdout",
     "output_type": "stream",
     "text": [
      "                            OLS Regression Results                            \n",
      "==============================================================================\n",
      "Dep. Variable:                      y   R-squared:                       0.863\n",
      "Model:                            OLS   Adj. R-squared:                  0.859\n",
      "Method:                 Least Squares   F-statistic:                     177.1\n",
      "Date:                Fri, 10 Jan 2025   Prob (F-statistic):           1.25e-13\n",
      "Time:                        05:55:02   Log-Likelihood:                -40.592\n",
      "No. Observations:                  30   AIC:                             85.18\n",
      "Df Residuals:                      28   BIC:                             87.99\n",
      "Df Model:                           1                                         \n",
      "Covariance Type:            nonrobust                                         \n",
      "==============================================================================\n",
      "                 coef    std err          t      P>|t|      [0.025      0.975]\n",
      "------------------------------------------------------------------------------\n",
      "const          0.5858      0.177      3.308      0.003       0.223       0.949\n",
      "x1             2.0681      0.155     13.308      0.000       1.750       2.386\n",
      "==============================================================================\n",
      "Omnibus:                        1.190   Durbin-Watson:                   2.419\n",
      "Prob(Omnibus):                  0.551   Jarque-Bera (JB):                1.062\n",
      "Skew:                           0.278   Prob(JB):                        0.588\n",
      "Kurtosis:                       2.264   Cond. No.                         1.15\n",
      "==============================================================================\n",
      "\n",
      "Notes:\n",
      "[1] Standard Errors assume that the covariance matrix of the errors is correctly specified.\n"
     ]
    }
   ],
   "source": [
    "import numpy as np\n",
    "from scipy import stats\n",
    "import statsmodels.api as sm\n",
    "T = 30\n",
    "p = 1\n",
    "b0 = [[1.], [2.]]\n",
    "\n",
    "# Generate data\n",
    "x = stats.norm.rvs(size=[T, p])\n",
    "x = sm.add_constant(x)  # Add intercept\n",
    "y = np.dot(x, b0) + stats.norm.rvs(size=[T, 1])\n",
    "\n",
    "# Linear model\n",
    "model = sm.OLS(y, x)\n",
    "results = model.fit()\n",
    "print(results.summary())"
   ]
  },
  {
   "cell_type": "markdown",
   "metadata": {
    "slideshow": {
     "slide_type": "slide"
    }
   },
   "source": [
    "## Display\n",
    "\n",
    "* `result` object is a list containing the regression results. \n",
    "  * Estimated coefficients, \n",
    "  * t-stat\n",
    "  * F-stat\n",
    "  * R-sqaured."
   ]
  },
  {
   "cell_type": "code",
   "execution_count": 31,
   "metadata": {
    "slideshow": {
     "slide_type": "subslide"
    }
   },
   "outputs": [
    {
     "data": {
      "image/png": "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",
      "text/plain": [
       "<Figure size 640x480 with 1 Axes>"
      ]
     },
     "metadata": {},
     "output_type": "display_data"
    }
   ],
   "source": [
    "plt.plot(results.fittedvalues, color = 'red', label = 'Fitted Value')\n",
    "plt.plot(y, color = 'blue', linestyle = 'dashed', label = 'True Value')\n",
    "plt.title('Fitted Value')\n",
    "plt.xlabel('x')\n",
    "plt.ylabel('y')\n",
    "plt.legend()\n",
    "plt.show()"
   ]
  }
 ],
 "metadata": {
  "celltoolbar": "Slideshow",
  "kernelspec": {
   "display_name": "Python 3 (ipykernel)",
   "language": "python",
   "name": "python3"
  },
  "language_info": {
   "codemirror_mode": {
    "name": "ipython",
    "version": 3
   },
   "file_extension": ".py",
   "mimetype": "text/x-python",
   "name": "python",
   "nbconvert_exporter": "python",
   "pygments_lexer": "ipython3",
   "version": "3.11.3"
  },
  "rise": {
   "enable_chalkboard": true,
   "scroll": true,
   "theme": "serif"
  }
 },
 "nbformat": 4,
 "nbformat_minor": 4
}
