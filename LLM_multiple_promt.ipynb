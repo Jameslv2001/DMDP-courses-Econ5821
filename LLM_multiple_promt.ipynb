{
 "cells": [
  {
   "cell_type": "code",
   "execution_count": 1,
   "id": "a8c125ac-5254-47a9-95c5-95fdf64066a5",
   "metadata": {},
   "outputs": [],
   "source": [
    "from openai import OpenAI\n",
    "from IPython.display import display, Markdown"
   ]
  },
  {
   "cell_type": "markdown",
   "id": "956fb085-6f0a-4e75-87b5-6acd53b20a2d",
   "metadata": {},
   "source": [
    "This notebook shows how to use API to submit multiple inquries in LLM. \n",
    "\n",
    "The basic idea is to put the parameters of LLM into a function `llm`, and then provide multiple prompts in a list."
   ]
  },
  {
   "cell_type": "code",
   "execution_count": 3,
   "id": "17fd5ea2-00a3-461d-ba98-aba88eaefa58",
   "metadata": {},
   "outputs": [],
   "source": [
    "client = OpenAI(\n",
    "    base_url = 'https://scrp-chat.econ.cuhk.edu.hk/api',\n",
    "    api_key='Your_API',\n",
    ")"
   ]
  },
  {
   "cell_type": "code",
   "execution_count": 8,
   "id": "e2b0780b-7521-41ed-9b9a-696042efbfc4",
   "metadata": {},
   "outputs": [],
   "source": [
    "def llm (prompt):\n",
    "  response = client.chat.completions.create(\n",
    "  # model = \"meta-llama/Llama-3.2-1B-Instruct\",\n",
    "  model = \"mistralai/Pixtral-Large-Instruct-2411\",\n",
    "  messages=[\n",
    "    {\"role\": \"system\", \"content\": \"You are a helpful assistant. Use '$' for inline math, and use '$$' for display math.\"},\n",
    "    {\"role\": \"user\", \"content\": prompt},\n",
    "  ],\n",
    "  temperature=1,\n",
    "  top_p=0.5\n",
    "  )\n",
    "  content = response.choices[0].message.content\n",
    "  return content"
   ]
  },
  {
   "cell_type": "code",
   "execution_count": 12,
   "id": "ab59903c-30c7-4aa0-b26f-936326c184c4",
   "metadata": {},
   "outputs": [],
   "source": [
    "many_prompts = [ \"provide code example for basic arithematic operations in python\", \"What is the formula for OLS?\"]"
   ]
  },
  {
   "cell_type": "code",
   "execution_count": 13,
   "id": "1699391b-c247-4ccf-89d8-cf4846810242",
   "metadata": {},
   "outputs": [
    {
     "name": "stdout",
     "output_type": "stream",
     "text": [
      "[' Certainly! Below is a simple Python code example that demonstrates basic arithmetic operations: addition, subtraction, multiplication, division, exponentiation, modulus, and floor division.\\n\\n```python\\n# Define two numbers\\na = 10\\nb = 3\\n\\n# Addition\\naddition = a + b\\nprint(f\"Addition: {a} + {b} = {addition}\")\\n\\n# Subtraction\\nsubtraction = a - b\\nprint(f\"Subtraction: {a} - {b} = {subtraction}\")\\n\\n# Multiplication\\nmultiplication = a * b\\nprint(f\"Multiplication: {a} * {b} = {multiplication}\")\\n\\n# Division\\ndivision = a / b\\nprint(f\"Division: {a} / {b} = {division}\")\\n\\n# Exponentiation\\nexponentiation = a ** b\\nprint(f\"Exponentiation: {a} ** {b} = {exponentiation}\")\\n\\n# Modulus\\nmodulus = a % b\\nprint(f\"Modulus: {a} % {b} = {modulus}\")\\n\\n# Floor Division\\nfloor_division = a // b\\nprint(f\"Floor Division: {a} // {b} = {floor_division}\")\\n```\\n\\nWhen you run this code, it will perform the specified arithmetic operations and print the results. Here is what the output will look like:\\n\\n```\\nAddition: 10 + 3 = 13\\nSubtraction: 10 - 3 = 7\\nMultiplication: 10 * 3 = 30\\nDivision: 10 / 3 = 3.3333333333333335\\nExponentiation: 10 ** 3 = 1000\\nModulus: 10 % 3 = 1\\nFloor Division: 10 // 3 = 3\\n```\\n\\nThis code covers the fundamental arithmetic operations in Python.', \" Ordinary Least Squares (OLS) is a type of linear least squares method for estimating the unknown parameters in a linear regression model. The formula for OLS is derived from minimizing the sum of the squares of the differences between the observed dependent variable and the predicted values.\\n\\nGiven a model:\\n$$ y = X\\\\beta + \\\\epsilon $$\\nwhere:\\n- $y$ is the vector of observations of the dependent variable,\\n- $X$ is the matrix of observations on the independent variables (including a column of ones for the intercept),\\n- $\\\\beta$ is the vector of coefficients to be estimated,\\n- $\\\\epsilon$ is the vector of error terms.\\n\\nThe OLS estimator for $\\\\beta$ is given by:\\n$$ \\\\hat{\\\\beta} = (X^T X)^{-1} X^T y $$\\n\\nHere's a breakdown of the components:\\n- $X^T$ is the transpose of the matrix $X$.\\n- $(X^T X)^{-1}$ is the inverse of the matrix $X^T X$.\\n- $X^T y$ is the product of the transpose of $X$ and the vector $y$.\\n\\nThis formula provides the best linear unbiased estimator for $\\\\beta$ under the assumptions of the classical linear regression model.\"]\n"
     ]
    }
   ],
   "source": [
    "many_responses = []\n",
    "for i in many_prompts:\n",
    "    many_responses.append(llm(i))\n",
    "\n",
    "print(many_responses)"
   ]
  },
  {
   "cell_type": "code",
   "execution_count": 14,
   "id": "679594f4-6f9e-423b-8335-546e75f99707",
   "metadata": {},
   "outputs": [
    {
     "data": {
      "text/markdown": [
       "**Question:** "
      ],
      "text/plain": [
       "<IPython.core.display.Markdown object>"
      ]
     },
     "metadata": {},
     "output_type": "display_data"
    },
    {
     "data": {
      "text/markdown": [
       "provide code example for basic arithematic operations in python"
      ],
      "text/plain": [
       "<IPython.core.display.Markdown object>"
      ]
     },
     "metadata": {},
     "output_type": "display_data"
    },
    {
     "data": {
      "text/markdown": [
       "**Answer:**"
      ],
      "text/plain": [
       "<IPython.core.display.Markdown object>"
      ]
     },
     "metadata": {},
     "output_type": "display_data"
    },
    {
     "data": {
      "text/markdown": [
       " Certainly! Below is a simple Python code example that demonstrates basic arithmetic operations: addition, subtraction, multiplication, division, exponentiation, modulus, and floor division.\n",
       "\n",
       "```python\n",
       "# Define two numbers\n",
       "a = 10\n",
       "b = 3\n",
       "\n",
       "# Addition\n",
       "addition = a + b\n",
       "print(f\"Addition: {a} + {b} = {addition}\")\n",
       "\n",
       "# Subtraction\n",
       "subtraction = a - b\n",
       "print(f\"Subtraction: {a} - {b} = {subtraction}\")\n",
       "\n",
       "# Multiplication\n",
       "multiplication = a * b\n",
       "print(f\"Multiplication: {a} * {b} = {multiplication}\")\n",
       "\n",
       "# Division\n",
       "division = a / b\n",
       "print(f\"Division: {a} / {b} = {division}\")\n",
       "\n",
       "# Exponentiation\n",
       "exponentiation = a ** b\n",
       "print(f\"Exponentiation: {a} ** {b} = {exponentiation}\")\n",
       "\n",
       "# Modulus\n",
       "modulus = a % b\n",
       "print(f\"Modulus: {a} % {b} = {modulus}\")\n",
       "\n",
       "# Floor Division\n",
       "floor_division = a // b\n",
       "print(f\"Floor Division: {a} // {b} = {floor_division}\")\n",
       "```\n",
       "\n",
       "When you run this code, it will perform the specified arithmetic operations and print the results. Here is what the output will look like:\n",
       "\n",
       "```\n",
       "Addition: 10 + 3 = 13\n",
       "Subtraction: 10 - 3 = 7\n",
       "Multiplication: 10 * 3 = 30\n",
       "Division: 10 / 3 = 3.3333333333333335\n",
       "Exponentiation: 10 ** 3 = 1000\n",
       "Modulus: 10 % 3 = 1\n",
       "Floor Division: 10 // 3 = 3\n",
       "```\n",
       "\n",
       "This code covers the fundamental arithmetic operations in Python."
      ],
      "text/plain": [
       "<IPython.core.display.Markdown object>"
      ]
     },
     "metadata": {},
     "output_type": "display_data"
    },
    {
     "data": {
      "text/markdown": [
       "\n",
       "-----------\n"
      ],
      "text/plain": [
       "<IPython.core.display.Markdown object>"
      ]
     },
     "metadata": {},
     "output_type": "display_data"
    },
    {
     "data": {
      "text/markdown": [
       "**Question:** "
      ],
      "text/plain": [
       "<IPython.core.display.Markdown object>"
      ]
     },
     "metadata": {},
     "output_type": "display_data"
    },
    {
     "data": {
      "text/markdown": [
       "What is the formula for OLS?"
      ],
      "text/plain": [
       "<IPython.core.display.Markdown object>"
      ]
     },
     "metadata": {},
     "output_type": "display_data"
    },
    {
     "data": {
      "text/markdown": [
       "**Answer:**"
      ],
      "text/plain": [
       "<IPython.core.display.Markdown object>"
      ]
     },
     "metadata": {},
     "output_type": "display_data"
    },
    {
     "data": {
      "text/markdown": [
       " Ordinary Least Squares (OLS) is a type of linear least squares method for estimating the unknown parameters in a linear regression model. The formula for OLS is derived from minimizing the sum of the squares of the differences between the observed dependent variable and the predicted values.\n",
       "\n",
       "Given a model:\n",
       "$$ y = X\\beta + \\epsilon $$\n",
       "where:\n",
       "- $y$ is the vector of observations of the dependent variable,\n",
       "- $X$ is the matrix of observations on the independent variables (including a column of ones for the intercept),\n",
       "- $\\beta$ is the vector of coefficients to be estimated,\n",
       "- $\\epsilon$ is the vector of error terms.\n",
       "\n",
       "The OLS estimator for $\\beta$ is given by:\n",
       "$$ \\hat{\\beta} = (X^T X)^{-1} X^T y $$\n",
       "\n",
       "Here's a breakdown of the components:\n",
       "- $X^T$ is the transpose of the matrix $X$.\n",
       "- $(X^T X)^{-1}$ is the inverse of the matrix $X^T X$.\n",
       "- $X^T y$ is the product of the transpose of $X$ and the vector $y$.\n",
       "\n",
       "This formula provides the best linear unbiased estimator for $\\beta$ under the assumptions of the classical linear regression model."
      ],
      "text/plain": [
       "<IPython.core.display.Markdown object>"
      ]
     },
     "metadata": {},
     "output_type": "display_data"
    },
    {
     "data": {
      "text/markdown": [
       "\n",
       "-----------\n"
      ],
      "text/plain": [
       "<IPython.core.display.Markdown object>"
      ]
     },
     "metadata": {},
     "output_type": "display_data"
    }
   ],
   "source": [
    "for i in range(len(many_prompts)):\n",
    "    display(Markdown( \"**Question:** \" ) )\n",
    "    display(Markdown( many_prompts[i]) )\n",
    "    display(Markdown( \"**Answer:**\" ))\n",
    "    display(Markdown( many_responses[i]))\n",
    "    display(Markdown(\"\\n-----------\\n\"))"
   ]
  },
  {
   "cell_type": "code",
   "execution_count": null,
   "id": "94ddcd22-e2f5-49f4-92d2-8e4c30f72704",
   "metadata": {},
   "outputs": [],
   "source": []
  }
 ],
 "metadata": {
  "kernelspec": {
   "display_name": "Python 3 (ipykernel)",
   "language": "python",
   "name": "python3"
  },
  "language_info": {
   "codemirror_mode": {
    "name": "ipython",
    "version": 3
   },
   "file_extension": ".py",
   "mimetype": "text/x-python",
   "name": "python",
   "nbconvert_exporter": "python",
   "pygments_lexer": "ipython3",
   "version": "3.11.7"
  }
 },
 "nbformat": 4,
 "nbformat_minor": 5
}
