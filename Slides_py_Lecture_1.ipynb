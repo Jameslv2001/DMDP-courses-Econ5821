{
 "cells": [
  {
   "cell_type": "markdown",
   "metadata": {
    "slideshow": {
     "slide_type": "slide"
    }
   },
   "source": [
    "# Lecture 1: Basic Python\n",
    "\n",
    "\n",
    "![Python](https://www.python.org/static/community_logos/python-logo-master-v3-TM.png)\n",
    "\n",
    "## Zhentao Shi"
   ]
  },
  {
   "cell_type": "markdown",
   "metadata": {
    "slideshow": {
     "slide_type": "slide"
    }
   },
   "source": [
    "-  `[ ]` creates a list of vectors\n",
    "-  Binary arithmetic operations `+`, `-`, `*` and `/` are performed element by element.\n",
    "-  Further arithmetic operators: exponends are expressed with `**`, and `%` is the reminder.\n",
    "-  So are the binary logical operations `&`, `|`, `!=`, `=`, `<`, `>`, `>=`, `<=`."
   ]
  },
  {
   "cell_type": "markdown",
   "metadata": {
    "slideshow": {
     "slide_type": "slide"
    }
   },
   "source": [
    "### Array and Matrix\n",
    "\n",
    "To create arrays and matrices, we need the package \"numpy\" as the following:"
   ]
  },
  {
   "cell_type": "code",
   "execution_count": null,
   "metadata": {
    "slideshow": {
     "slide_type": "subslide"
    }
   },
   "outputs": [],
   "source": [
    "#Import the NumPy library\n",
    "import numpy as np\n",
    "# Import the Pandas library\n",
    "import pandas as pd"
   ]
  },
  {
   "cell_type": "markdown",
   "metadata": {
    "slideshow": {
     "slide_type": "fragment"
    }
   },
   "source": [
    "An array is a table of numbers.  \n",
    "A matrix is a 2-dimensional array.\n",
    "\n",
    "##### Example"
   ]
  },
  {
   "cell_type": "code",
   "execution_count": null,
   "metadata": {
    "scrolled": true,
    "slideshow": {
     "slide_type": "fragment"
    }
   },
   "outputs": [],
   "source": [
    "# Create an array\n",
    "A = np.array([[1,2,3],[4,5,6]])\n",
    "A"
   ]
  },
  {
   "cell_type": "code",
   "execution_count": null,
   "metadata": {
    "slideshow": {
     "slide_type": "subslide"
    }
   },
   "outputs": [],
   "source": [
    "# Create a matrix\n",
    "M = np.matrix([[1,2],[3,4]])\n",
    "M"
   ]
  },
  {
   "cell_type": "code",
   "execution_count": null,
   "metadata": {
    "slideshow": {
     "slide_type": "fragment"
    }
   },
   "outputs": [],
   "source": [
    "#Shape of matrix\n",
    "A.shape"
   ]
  },
  {
   "cell_type": "markdown",
   "metadata": {
    "slideshow": {
     "slide_type": "slide"
    }
   },
   "source": [
    "## Key Differences Between Python and R\n",
    "\n",
    "* Python is row-major, while R is column-major.\n",
    "* Python is 0-based, while R is 1-based."
   ]
  },
  {
   "cell_type": "code",
   "execution_count": 15,
   "metadata": {
    "slideshow": {
     "slide_type": "slide"
    }
   },
   "outputs": [
    {
     "name": "stdout",
     "output_type": "stream",
     "text": [
      "[[1 2 3]\n",
      " [4 5 6]]\n"
     ]
    }
   ],
   "source": [
    "D = np.array([1,2,3,4,5,6]).reshape(2,3)\n",
    "print(D)"
   ]
  },
  {
   "cell_type": "code",
   "execution_count": null,
   "metadata": {
    "slideshow": {
     "slide_type": "fragment"
    }
   },
   "outputs": [],
   "source": [
    "D + [1,2] # doesn't work"
   ]
  },
  {
   "cell_type": "code",
   "execution_count": null,
   "metadata": {
    "slideshow": {
     "slide_type": "fragment"
    }
   },
   "outputs": [],
   "source": [
    "D + [[1],[2]]"
   ]
  },
  {
   "cell_type": "code",
   "execution_count": null,
   "metadata": {
    "slideshow": {
     "slide_type": "slide"
    }
   },
   "outputs": [],
   "source": [
    "F = ['a', 'b', 'c', 'd', 'e', 'f', 'g', 'f', 'g']\n",
    "print(F)"
   ]
  },
  {
   "cell_type": "code",
   "execution_count": null,
   "metadata": {
    "slideshow": {
     "slide_type": "fragment"
    }
   },
   "outputs": [],
   "source": [
    "F[2:5]"
   ]
  },
  {
   "cell_type": "code",
   "execution_count": 17,
   "metadata": {},
   "outputs": [
    {
     "data": {
      "text/plain": [
       "array([], shape=(0, 3), dtype=int32)"
      ]
     },
     "execution_count": 17,
     "metadata": {},
     "output_type": "execute_result"
    }
   ],
   "source": [
    "D[2:5]"
   ]
  },
  {
   "cell_type": "code",
   "execution_count": 19,
   "metadata": {},
   "outputs": [
    {
     "data": {
      "text/plain": [
       "6"
      ]
     },
     "execution_count": 19,
     "metadata": {},
     "output_type": "execute_result"
    }
   ],
   "source": [
    "D[1,2]"
   ]
  },
  {
   "cell_type": "markdown",
   "metadata": {
    "slideshow": {
     "slide_type": "notes"
    }
   },
   "source": [
    "For further readings, please find a list of basic commands in the documentation of NumPy: \n",
    "https://docs.scipy.org/doc/numpy/user/numpy-for-matlab-users.html"
   ]
  },
  {
   "cell_type": "markdown",
   "metadata": {
    "slideshow": {
     "slide_type": "slide"
    }
   },
   "source": [
    "### OLS-Example\n",
    "OLS estimation with one $x$ regressor and a constant.\n",
    "Graduate textbook expresses the OLS in matrix form\n",
    "$\\hat{\\beta} = (X' X)^{-1} X'y.$\n",
    "To conduct OLS estimation in Python, we literally translate the mathematical expression into code.\n",
    "\n",
    "__Step 1__: We need data $Y$ and $X$ to run OLS. We simulate an artificial dataset."
   ]
  },
  {
   "cell_type": "code",
   "execution_count": null,
   "metadata": {
    "slideshow": {
     "slide_type": "fragment"
    }
   },
   "outputs": [],
   "source": [
    "# simulate data\n",
    "import random\n",
    "np.random.seed(111) # can be removed to allow the result to change\n",
    "# set the parameters\n",
    "n = 100\n",
    "b0 = np.matrix([ [1],[2] ] )\n",
    "# generate the data\n",
    "e = np.random.normal(size = (n,1))\n",
    "X = np.hstack((np.ones((n, 1)), np.random.normal(size = (n, 1))))\n",
    "y = np.dot(X, b0) + e"
   ]
  },
  {
   "cell_type": "markdown",
   "metadata": {
    "slideshow": {
     "slide_type": "subslide"
    }
   },
   "source": [
    "__Step 2:__ translate the formula to code"
   ]
  },
  {
   "cell_type": "code",
   "execution_count": null,
   "metadata": {
    "slideshow": {
     "slide_type": "fragment"
    }
   },
   "outputs": [],
   "source": [
    "# OLS estimator\n",
    "bhat = np.dot(np.linalg.inv(np.dot( X.T, X ) ), np.dot( X.T, y ) ) \n",
    "print(bhat)"
   ]
  },
  {
   "cell_type": "markdown",
   "metadata": {
    "slideshow": {
     "slide_type": "subslide"
    }
   },
   "source": [
    "__Step 3 (additional):__ plot the regression graph with the scatter points and the regression line.\n",
    "Further compare the regression line (black) with the true coefficient line (red)."
   ]
  },
  {
   "cell_type": "code",
   "execution_count": null,
   "metadata": {
    "slideshow": {
     "slide_type": "fragment"
    }
   },
   "outputs": [],
   "source": [
    "# Import MathPlotLib\n",
    "import matplotlib.pyplot as plt\n",
    "X1 = X[:, 1]\n",
    "plt.plot(X1, y, 'o')\n",
    "plt.plot(X1, np.dot(X, b0), color='red', linestyle='-')\n",
    "plt.plot(X1, np.dot(X, bhat), color='black', linestyle='-')\n",
    "plt.title('regression')\n",
    "plt.xlabel('x1')\n",
    "plt.ylabel('y')\n",
    "plt.axhline(0, color = 'black', linestyle = 'dashed')\n",
    "plt.axvline(0, color = 'black', linestyle = 'dashed')\n",
    "plt.show()"
   ]
  },
  {
   "cell_type": "markdown",
   "metadata": {
    "slideshow": {
     "slide_type": "subslide"
    }
   },
   "source": [
    "__Step 4:__ In econometrics we are often interested in hypothesis testing.\n",
    "\n",
    "The *t*-statistic is widely used.\n",
    "To test the null $H_0: \\beta_2 = 1$, we compute the associated *t*-statistic.\n",
    "Again, this is a translation.\n",
    "$$\n",
    "t  =  \\frac{\\hat{\\beta}_2 - \\beta_{02}}{ \\hat{\\sigma}_{\\hat{\\beta}_2}  }\n",
    "   =  \\frac{\\hat{\\beta}_2 - \\beta_{02}}{ \\sqrt{ \\left[ (X'X)^{-1} \\hat{\\sigma}^2 \\right]_{22} } }.\n",
    "$$\n",
    "where $[\\cdot]_{22}$ is the (2,2)-element of a matrix."
   ]
  },
  {
   "cell_type": "code",
   "execution_count": null,
   "metadata": {
    "slideshow": {
     "slide_type": "fragment"
    }
   },
   "outputs": [],
   "source": [
    "# Import Math\n",
    "\n",
    "# Calculate the t-value\n",
    "bhat2 = bhat.item(1) # item( ) is a new function I learn today\n",
    "\n",
    "e_hat = y - np.dot(X, bhat)\n",
    "sigma_hat_square = np.dot(e_hat.T, e_hat).item(0) / (n-2)\n",
    "\n",
    "Sigma_B = np.linalg.inv(np.dot(X.T, X)) * sigma_hat_square\n",
    "t_value_2 = (bhat2 - b0[1, 0]) / np.sqrt(Sigma_B[1, 1])\n",
    "print(t_value_2)"
   ]
  },
  {
   "cell_type": "markdown",
   "metadata": {
    "slideshow": {
     "slide_type": "slide"
    }
   },
   "source": [
    "### Package/Module/Library\n",
    "\n",
    "Similar to the packages in R, Python has numerous useful packages/modules/libraries. You have first install the targeted package into the environment (different IDEs have different installing procedures).\n",
    "\n",
    "### Input and Output\n",
    "\n",
    "To read and write csv files in Python, use the pandas library.\n",
    "\n",
    "#### Example:"
   ]
  },
  {
   "cell_type": "markdown",
   "metadata": {
    "scrolled": true,
    "slideshow": {
     "slide_type": "fragment"
    }
   },
   "source": [
    "% artificial code\n",
    "\n",
    "import pandas as pd\n",
    "\n",
    "sample_data = pd.read_csv('source.csv')\n",
    "\n",
    "sample_data = sample_data.dropna()\n",
    "\n",
    "pd.to_csv(sample_data, file = 'out.csv')"
   ]
  },
  {
   "cell_type": "markdown",
   "metadata": {
    "slideshow": {
     "slide_type": "slide"
    }
   },
   "source": [
    "### Statistics\n",
    "\n",
    "To implement most of the statistical tasks, use the package SciPy. Commonly used probability distributions can be found in the subpackage SciPy.stats. If you hope to draw the kernel density plot for a given set of data, use the seaborn package.\n",
    "\n",
    "##### Example:"
   ]
  },
  {
   "cell_type": "code",
   "execution_count": null,
   "metadata": {
    "slideshow": {
     "slide_type": "subslide"
    }
   },
   "outputs": [],
   "source": [
    "# Import Packages\n",
    "import seaborn as sns\n",
    "from scipy import stats\n",
    "import numpy as np\n",
    "import matplotlib.pyplot as plt\n",
    "\n",
    "\n",
    "x = np.linspace(0.01, 16, num = 1600)\n",
    "y = stats.chi2.pdf(x, 3)\n",
    "z = stats.chi2.rvs(3, size = 1000)\n",
    "\n",
    "plt.plot(x, y, linestyle = '-', color = 'black')\n",
    "sns.distplot(z, hist = False, color = 'red')\n",
    "plt.xlim(-0.5, 16)\n",
    "plt.ylim(-0.01, 0.25)\n",
    "plt.xlabel('X')\n",
    "plt.ylabel('density')\n",
    "plt.show()"
   ]
  },
  {
   "cell_type": "code",
   "execution_count": null,
   "metadata": {
    "slideshow": {
     "slide_type": "subslide"
    }
   },
   "outputs": [],
   "source": [
    "crit = stats.chi2.ppf(q = 0.95, df = 3)\n",
    "print(len([i for i in z if i > crit]) / len(z))"
   ]
  },
  {
   "cell_type": "markdown",
   "metadata": {
    "slideshow": {
     "slide_type": "slide"
    }
   },
   "source": [
    "### User-defined function\n",
    "\n",
    "The format of a user-defined function in Python is\n",
    "\n",
    "`def function_name(input):\n",
    "\n",
    "    expressions \n",
    "    \n",
    "    return output`\n",
    "\n",
    "The beginning of the main function is written as follows:\n",
    "\n",
    "`if _name_ == '_main_':\n",
    "\n",
    "    expressions\n",
    "    \n",
    "    function_name`\n"
   ]
  },
  {
   "cell_type": "markdown",
   "metadata": {
    "slideshow": {
     "slide_type": "subslide"
    }
   },
   "source": [
    "##### Example:\n",
    "\n",
    "If the central limit theorem is applicable, then\n",
    "we can calculate the 95% two-sided asymptotic confidence interval as\n",
    "$$\\left(\\hat{\\mu} - \\frac{1.96}{\\sqrt{n}} \\hat{\\sigma}, \\hat{\\mu} + \\frac{1.96}{\\sqrt{n}} \\hat{\\sigma} \\right)$$\n",
    "from a given sample.\n",
    "It is an easy job."
   ]
  },
  {
   "cell_type": "code",
   "execution_count": null,
   "metadata": {
    "slideshow": {
     "slide_type": "subslide"
    }
   },
   "outputs": [],
   "source": [
    "#construct confidence interval\n",
    "\n",
    "def CI(x):\n",
    "    #x is a vector of random variables\n",
    "    n = len(x)\n",
    "    mu = np.mean(x)\n",
    "    sig = np.std(x)\n",
    "    upper = mu + 1.96 / np.sqrt(n) * sig\n",
    "    lower = mu - 1.96 / np.sqrt(n) * sig\n",
    "    return {'lower': lower, 'upper': upper}"
   ]
  },
  {
   "cell_type": "markdown",
   "metadata": {
    "slideshow": {
     "slide_type": "slide"
    }
   },
   "source": [
    "### Flow Control\n",
    "Flow control is common in all programming languages.\n",
    "`if` is used for choice, and `for` or `while` is used for loops.\n",
    "\n",
    "##### Example\n",
    "\n",
    "Calculate the empirical coverage probability of a Poisson distribution of degrees of freedom 2.\n",
    "We conduct this experiment for 1000 times.\n"
   ]
  },
  {
   "cell_type": "code",
   "execution_count": null,
   "metadata": {
    "slideshow": {
     "slide_type": "subslide"
    }
   },
   "outputs": [],
   "source": [
    "import datetime\n",
    "from scipy import stats\n",
    "\n",
    "Rep = 1000\n",
    "sample_size = 100\n",
    "capture = [0] * Rep\n",
    "\n",
    "#check time\n",
    "pts0 = datetime.datetime.now()\n",
    "\n",
    "for i in range(Rep):\n",
    "    mu = 2\n",
    "    x = stats.poisson.rvs(mu, size = sample_size)\n",
    "    bounds = CI(x)\n",
    "    if (bounds['lower'] <= mu and mu <= bounds['upper']):\n",
    "        capture[i] = 1\n",
    "    \n",
    "\n",
    "print(np.mean(capture))\n",
    "pts1 = datetime.datetime.now() - pts0\n",
    "print(\"Time difference of: \", pts1)"
   ]
  },
  {
   "cell_type": "markdown",
   "metadata": {
    "slideshow": {
     "slide_type": "slide"
    }
   },
   "source": [
    "### Statistical Model\n",
    "\n",
    "Statistical models are formulated as `y~x`, where `y` on the left-hand side is the dependent variable,\n",
    "and `x` on the right-hand side is the explanatory variable.\n",
    "The OLS function of the package ```scikit-learn``` is `LinearRegression()`. It is called by `LinearRegression()`."
   ]
  },
  {
   "cell_type": "code",
   "execution_count": null,
   "metadata": {
    "slideshow": {
     "slide_type": "subslide"
    }
   },
   "outputs": [],
   "source": [
    "import numpy as np\n",
    "from scipy import stats\n",
    "import statsmodels.api as sm\n",
    "\n",
    "T = 30\n",
    "p = 2\n",
    "b0 = np.full([p,1], 1 )\n",
    "\n",
    "#generate data\n",
    "x = stats.norm.rvs(size = [T,p])\n",
    "y = np.dot(x, b0) + stats.norm.rvs(size = [T,1])\n",
    "\n",
    "\n",
    "#Linear model\n",
    "model = sm.OLS(y, x)\n",
    "results = model.fit()\n",
    "print(results.summary())"
   ]
  },
  {
   "cell_type": "code",
   "execution_count": null,
   "metadata": {
    "slideshow": {
     "slide_type": "subslide"
    }
   },
   "outputs": [],
   "source": [
    "plt.plot(results.fittedvalues, color = 'red', label = 'Fitted Value')\n",
    "plt.plot(y, color = 'blue', linestyle = 'dashed', label = 'True Value')\n",
    "plt.title('Fitted Value')\n",
    "plt.xlabel('x')\n",
    "plt.ylabel('y')\n",
    "plt.legend()\n",
    "plt.show()"
   ]
  },
  {
   "cell_type": "markdown",
   "metadata": {
    "slideshow": {
     "slide_type": "slide"
    }
   },
   "source": [
    "The `result` object is a list containing the regression results. As shown in the results, we can easily read the estimated coefficients, t-test results, F-test results, and the R-sqaure.\n",
    "\n",
    "We can plot the true value of $y$ and fitted value to examine whether the first regressor fits the data."
   ]
  },
  {
   "cell_type": "code",
   "execution_count": null,
   "metadata": {
    "slideshow": {
     "slide_type": "subslide"
    }
   },
   "outputs": [],
   "source": [
    "x0 = x[:,0]\n",
    "plt.plot(x0, x0*b0.item(0), color = 'red', label = 'True Coef')\n",
    "plt.scatter(x0, y, color = 'black', marker = 'o')\n",
    "plt.title('Fitted Value')\n",
    "plt.xlabel('x')\n",
    "plt.ylabel('y')\n",
    "plt.legend()\n",
    "plt.show()"
   ]
  }
 ],
 "metadata": {
  "celltoolbar": "Slideshow",
  "kernelspec": {
   "display_name": "Python 3 (ipykernel)",
   "language": "python",
   "name": "python3"
  },
  "language_info": {
   "codemirror_mode": {
    "name": "ipython",
    "version": 3
   },
   "file_extension": ".py",
   "mimetype": "text/x-python",
   "name": "python",
   "nbconvert_exporter": "python",
   "pygments_lexer": "ipython3",
   "version": "3.10.12"
  },
  "rise": {
   "enable_chalkboard": true,
   "scroll": true,
   "theme": "serif"
  }
 },
 "nbformat": 4,
 "nbformat_minor": 2
}
