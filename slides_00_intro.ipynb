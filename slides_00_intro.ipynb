{
 "cells": [
  {
   "cell_type": "markdown",
   "metadata": {
    "slideshow": {
     "slide_type": "slide"
    }
   },
   "source": [
    "# Econ5821\n",
    "\n",
    "# Data Science for Economists"
   ]
  },
  {
   "cell_type": "markdown",
   "metadata": {
    "slideshow": {
     "slide_type": "-"
    }
   },
   "source": [
    "\n",
    "**Zhentao Shi**\n",
    "\n",
    "Department of Economics\n",
    "\n",
    "The Chinese University of Hong Kong"
   ]
  },
  {
   "cell_type": "markdown",
   "metadata": {
    "slideshow": {
     "slide_type": "slide"
    }
   },
   "source": [
    "## Big data \n",
    "\n",
    "* A popular concept in formation.\n",
    "\n",
    "* A basket of industrial applications. \n",
    "\n",
    "* Digitalized information. \n",
    "  * Cheap to collect, transport, store, and distribute.\n",
    "  * These are engineering questions."
   ]
  },
  {
   "cell_type": "markdown",
   "metadata": {
    "slideshow": {
     "slide_type": "slide"
    }
   },
   "source": [
    "## Data Science in Economics\n",
    "\n",
    "* Data science is about the entire life cycle of data analysis. "
   ]
  },
  {
   "cell_type": "markdown",
   "metadata": {
    "slideshow": {
     "slide_type": "fragment"
    }
   },
   "source": [
    "* Economics gives data science purposes\n",
    "  * Start with a question\n",
    "  * Find, clean, analyze data\n",
    "  * Interpret, present data\n"
   ]
  },
  {
   "cell_type": "markdown",
   "metadata": {
    "slideshow": {
     "slide_type": "slide"
    }
   },
   "source": [
    "### Why data\n",
    "\n",
    "* Scientific research. e.g. Physics.\n",
    "  * Theory and experimental evidence."
   ]
  },
  {
   "cell_type": "markdown",
   "metadata": {
    "slideshow": {
     "slide_type": "fragment"
    }
   },
   "source": [
    "* Economics research.\n",
    "  * Modeling causality\n",
    "  * Experimental causality"
   ]
  },
  {
   "cell_type": "markdown",
   "metadata": {
    "slideshow": {
     "slide_type": "subslide"
    }
   },
   "source": [
    "* Business analytics\n",
    "  * Descriptive statistics\n",
    "  * Prediction\n",
    "  * Inference"
   ]
  },
  {
   "cell_type": "markdown",
   "metadata": {
    "slideshow": {
     "slide_type": "slide"
    }
   },
   "source": [
    "### Structured data\n",
    "\n",
    "* Cross-sectional data\n",
    "* Time series \n",
    "* Panel data\n",
    "  - tall and narrow\n",
    "  - short and wide\n",
    "  - tall and wide\n",
    "* Tensor data"
   ]
  },
  {
   "cell_type": "markdown",
   "metadata": {
    "slideshow": {
     "slide_type": "fragment"
    }
   },
   "source": [
    "* Covid-19 data (https://github.com/owid/covid-19-data)"
   ]
  },
  {
   "cell_type": "markdown",
   "metadata": {
    "slideshow": {
     "slide_type": "slide"
    }
   },
   "source": [
    "### Unstructured data\n",
    "\n",
    "* Texts\n",
    "* Graphs"
   ]
  },
  {
   "cell_type": "markdown",
   "metadata": {
    "slideshow": {
     "slide_type": "fragment"
    }
   },
   "source": [
    "* Audios\n",
    "* Videos"
   ]
  },
  {
   "cell_type": "markdown",
   "metadata": {
    "slideshow": {
     "slide_type": "slide"
    }
   },
   "source": [
    "## Programming\n",
    "\n",
    "* Essential skill\n",
    "* Low-level languages: C, Fortran, ...\n",
    "* High-level languages: Python, R, Matlab, Stata, ..."
   ]
  },
  {
   "cell_type": "markdown",
   "metadata": {
    "slideshow": {
     "slide_type": "fragment"
    }
   },
   "source": [
    "* This course uses R for demonstration\n",
    "* Students can choose their own languages"
   ]
  },
  {
   "cell_type": "markdown",
   "metadata": {
    "slideshow": {
     "slide_type": "slide"
    }
   },
   "source": [
    "## Coverage\n",
    "\n",
    "\n",
    "- Basic R\n",
    "- Advanced R\n",
    "- Tools for productivity"
   ]
  },
  {
   "cell_type": "markdown",
   "metadata": {
    "slideshow": {
     "slide_type": "fragment"
    }
   },
   "source": [
    "- Simulations\n",
    "  * resampling\n",
    "- Optimization"
   ]
  },
  {
   "cell_type": "markdown",
   "metadata": {
    "slideshow": {
     "slide_type": "subslide"
    }
   },
   "source": [
    "- panel data \n",
    "- factor analysis\n",
    "- nonparametric estimation \n",
    "- machine learning\n",
    " "
   ]
  },
  {
   "cell_type": "markdown",
   "metadata": {
    "slideshow": {
     "slide_type": "slide"
    }
   },
   "source": [
    "## Assessment\n",
    "\n",
    "* Take-home midterm (50%)\n",
    "* Group project (50%)"
   ]
  },
  {
   "cell_type": "markdown",
   "metadata": {
    "slideshow": {
     "slide_type": "slide"
    }
   },
   "source": [
    "## Environment\n",
    "\n",
    "* [Github](https://github.com/zhentaoshi/econ_data_science)\n",
    "\n",
    "* [CUHK SCRP](https://scrp-login.econ.cuhk.edu.hk/)"
   ]
  },
  {
   "cell_type": "markdown",
   "metadata": {
    "slideshow": {
     "slide_type": "fragment"
    }
   },
   "source": [
    "**The End**"
   ]
  },
  {
   "cell_type": "markdown",
   "metadata": {
    "slideshow": {
     "slide_type": "skip"
    }
   },
   "source": [
    "Recommended software (Windows)\n",
    "\n",
    "* [PuTTY](https://www.putty.org/)\n",
    "* [WinSCP](https://winscp.net/eng/download.php)"
   ]
  },
  {
   "cell_type": "markdown",
   "metadata": {
    "slideshow": {
     "slide_type": "notes"
    }
   },
   "source": [
    "[The Missing Semester of Your CS Education](https://missing.csail.mit.edu/)"
   ]
  }
 ],
 "metadata": {
  "celltoolbar": "Slideshow",
  "kernelspec": {
   "display_name": "R",
   "language": "R",
   "name": "ir"
  },
  "language_info": {
   "codemirror_mode": "r",
   "file_extension": ".r",
   "mimetype": "text/x-r-source",
   "name": "R",
   "pygments_lexer": "r",
   "version": "4.2.2"
  },
  "rise": {
   "enable_chalkboard": true,
   "theme": "serif"
  }
 },
 "nbformat": 4,
 "nbformat_minor": 4
}
