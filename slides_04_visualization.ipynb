{
 "cells": [
  {
   "cell_type": "markdown",
   "id": "9276a3ac",
   "metadata": {
    "slideshow": {
     "slide_type": "slide"
    }
   },
   "source": [
    "# Visualization and Communication\n",
    "\n",
    "## Zhentao Shi\n",
    "\n",
    "<img src=\"graph/Minard.png\" width=\"1000\">\n",
    "<!-- code is tested on SCRP -->"
   ]
  },
  {
   "cell_type": "markdown",
   "id": "a69d2261",
   "metadata": {
    "slideshow": {
     "slide_type": "slide"
    }
   },
   "source": [
    "## Graphs\n",
    "\n",
    "* \"One picture is worth ten thousand words\".\n",
    "* Modern graphs: web-based, interactive.\n",
    "\n",
    "* Academia\n",
    "* Journalism: Economist, SCMP, ..."
   ]
  },
  {
   "cell_type": "markdown",
   "id": "16ba282c",
   "metadata": {
    "slideshow": {
     "slide_type": "slide"
    }
   },
   "source": [
    "## Plot()\n",
    "\n",
    "* `plot` is a generic command for graphs in `r-base`.\n",
    "  * For preliminary statistical graphs.\n",
    "\n",
    "* `matplot` for multiple objects"
   ]
  },
  {
   "cell_type": "code",
   "execution_count": null,
   "id": "abb9e210",
   "metadata": {
    "slideshow": {
     "slide_type": "subslide"
    },
    "vscode": {
     "languageId": "r"
    }
   },
   "outputs": [],
   "source": [
    "quantmod::getFX(\"USD/JPY\")\n",
    "quantmod::getFX(\"HKD/JPY\")\n",
    "matplot( y = cbind(USDJPY, HKDJPY*7.8), \n",
    "         x = zoo::index(USDJPY), \n",
    "         type = \"l\", xlab = \"time\"  )"
   ]
  },
  {
   "cell_type": "markdown",
   "id": "a29247fa",
   "metadata": {
    "slideshow": {
     "slide_type": "slide"
    }
   },
   "source": [
    "## ggplot2\n",
    "\n",
    "\n",
    "* Many proposals to enhance `plot`\n",
    "* `ggplot2` is the most successful. \n",
    "\n",
    "* Advanced system for high-quality statistical graphs.\n",
    "* Many details  \n",
    "  * Reference: [**ggplot2 book**](http://link.springer.com/book/10.1007%2F978-0-387-98141-3),\n",
    "  * Downloadable inside CUHK campus network (VPN needed).\n"
   ]
  },
  {
   "cell_type": "markdown",
   "id": "24baf368",
   "metadata": {
    "slideshow": {
     "slide_type": "slide"
    }
   },
   "source": [
    "## Syntax\n",
    "\n",
    "* `ggplot()` specifies which dataset to use for the graph.\n",
    "* `geom_XXX()` determines the shape to draw,  \n",
    "  *  scatter dots\n",
    "  *  lines\n",
    "  *  curves or areas..."
   ]
  },
  {
   "cell_type": "code",
   "execution_count": 3,
   "id": "1719cd83",
   "metadata": {
    "slideshow": {
     "slide_type": "slide"
    },
    "vscode": {
     "languageId": "r"
    }
   },
   "outputs": [
    {
     "name": "stderr",
     "output_type": "stream",
     "text": [
      "── \u001b[1mAttaching core tidyverse packages\u001b[22m ───────────────────────────────────────────────────────────────────────────────── tidyverse 2.0.0 ──\n",
      "\u001b[32m✔\u001b[39m \u001b[34mdplyr    \u001b[39m 1.1.3     \u001b[32m✔\u001b[39m \u001b[34mreadr    \u001b[39m 2.1.4\n",
      "\u001b[32m✔\u001b[39m \u001b[34mforcats  \u001b[39m 1.0.0     \u001b[32m✔\u001b[39m \u001b[34mstringr  \u001b[39m 1.5.0\n",
      "\u001b[32m✔\u001b[39m \u001b[34mggplot2  \u001b[39m 3.4.3     \u001b[32m✔\u001b[39m \u001b[34mtibble   \u001b[39m 3.2.1\n",
      "\u001b[32m✔\u001b[39m \u001b[34mlubridate\u001b[39m 1.9.2     \u001b[32m✔\u001b[39m \u001b[34mtidyr    \u001b[39m 1.3.0\n",
      "\u001b[32m✔\u001b[39m \u001b[34mpurrr    \u001b[39m 1.0.2     \n",
      "── \u001b[1mConflicts\u001b[22m ─────────────────────────────────────────────────────────────────────────────────────────────────── tidyverse_conflicts() ──\n",
      "\u001b[31m✖\u001b[39m \u001b[34mdplyr\u001b[39m::\u001b[32mfilter()\u001b[39m masks \u001b[34mstats\u001b[39m::filter()\n",
      "\u001b[31m✖\u001b[39m \u001b[34mdplyr\u001b[39m::\u001b[32mlag()\u001b[39m    masks \u001b[34mstats\u001b[39m::lag()\n",
      "\u001b[36mℹ\u001b[39m Use the conflicted package (\u001b[3m\u001b[34m<http://conflicted.r-lib.org/>\u001b[39m\u001b[23m) to force all conflicts to become errors\n"
     ]
    },
    {
     "data": {
      "image/png": "[encoded data removed]",
      "text/plain": [
       "plot without title"
      ]
     },
     "metadata": {
      "image/png": {
       "height": 420,
       "width": 420
      }
     },
     "output_type": "display_data"
    }
   ],
   "source": [
    "library(tidyverse)\n",
    "d0 = read.csv(\"data_example/AJR.csv\", header = TRUE)\n",
    "\n",
    "# \"avexpr: average protection against expropriation risk\n",
    "# \"logpgp95\": logarithm of GDP per capita in 1995\n",
    "\n",
    "ggplot(data = d0) + geom_point(mapping = aes(x = avexpr, y = logpgp95))\n"
   ]
  },
  {
   "cell_type": "markdown",
   "id": "d7678c55",
   "metadata": {
    "slideshow": {
     "slide_type": "slide"
    }
   },
   "source": [
    "### Bank Marketing Data\n"
   ]
  },
  {
   "cell_type": "code",
   "execution_count": 4,
   "id": "2bacc9e8",
   "metadata": {
    "slideshow": {
     "slide_type": "fragment"
    },
    "vscode": {
     "languageId": "r"
    }
   },
   "outputs": [
    {
     "data": {
      "text/html": [
       "<style>\n",
       ".list-inline {list-style: none; margin:0; padding: 0}\n",
       ".list-inline>li {display: inline-block}\n",
       ".list-inline>li:not(:last-child)::after {content: \"\\00b7\"; padding: 0 .5ex}\n",
       "</style>\n",
       "<ol class=list-inline><li>45211</li><li>17</li></ol>\n"
      ],
      "text/latex": [
       "\\begin{enumerate*}\n",
       "\\item 45211\n",
       "\\item 17\n",
       "\\end{enumerate*}\n"
      ],
      "text/markdown": [
       "1. 45211\n",
       "2. 17\n",
       "\n",
       "\n"
      ],
      "text/plain": [
       "[1] 45211    17"
      ]
     },
     "metadata": {},
     "output_type": "display_data"
    }
   ],
   "source": [
    "bank_0 = read.csv(\"data_example/bank-full.csv\", header = TRUE, sep = \";\" )\n",
    "dim(bank_0)"
   ]
  },
  {
   "cell_type": "code",
   "execution_count": null,
   "id": "7ac09bfd",
   "metadata": {
    "slideshow": {
     "slide_type": "subslide"
    },
    "vscode": {
     "languageId": "r"
    }
   },
   "outputs": [],
   "source": [
    "# scatter plot\n",
    "p1 <- ggplot(data = bank_0) + geom_point(mapping = aes(x = age, y = balance)) \n",
    "# balance: average yearly balance, in euros (numeric) \n",
    "print(p1)"
   ]
  },
  {
   "cell_type": "code",
   "execution_count": null,
   "id": "ebb4aeac",
   "metadata": {
    "slideshow": {
     "slide_type": "subslide"
    },
    "vscode": {
     "languageId": "r"
    }
   },
   "outputs": [],
   "source": [
    "# scatter plot with groups\n",
    "p2 <- ggplot(data = bank_0) + geom_point(mapping = aes(x = age, y = balance, \n",
    "                                                       color = education, \n",
    "                                                       alpha = 0.5))\n",
    "print(p2)"
   ]
  },
  {
   "cell_type": "markdown",
   "id": "57846e23",
   "metadata": {
    "slideshow": {
     "slide_type": "slide"
    }
   },
   "source": [
    "### Subgraphs\n",
    "\n",
    "* Subgraphs convey rich information and easy comparison.\n",
    "* `ggplot2` is good at drawing multiple graphs, either of the same pattern or of\n",
    "different patterns. \n"
   ]
  },
  {
   "cell_type": "code",
   "execution_count": 5,
   "id": "d74f4963",
   "metadata": {
    "slideshow": {
     "slide_type": "slide"
    },
    "vscode": {
     "languageId": "r"
    }
   },
   "outputs": [
    {
     "ename": "ERROR",
     "evalue": "Error in eval(expr, envir, enclos): object 'p1' not found\n",
     "output_type": "error",
     "traceback": [
      "Error in eval(expr, envir, enclos): object 'p1' not found\nTraceback:\n"
     ]
    }
   ],
   "source": [
    "p3 <- p1 + facet_wrap( martial ~ education)\n",
    "print(p3)"
   ]
  },
  {
   "cell_type": "code",
   "execution_count": null,
   "id": "0e6f0061",
   "metadata": {
    "slideshow": {
     "slide_type": "subslide"
    },
    "vscode": {
     "languageId": "r"
    }
   },
   "outputs": [],
   "source": [
    "# educational levels in each ago\n",
    "ggplot(data = bank_0) + geom_bar(mapping = aes(x = age, fill = education))"
   ]
  },
  {
   "cell_type": "code",
   "execution_count": null,
   "id": "ad7133ba",
   "metadata": {
    "slideshow": {
     "slide_type": "subslide"
    },
    "vscode": {
     "languageId": "r"
    }
   },
   "outputs": [],
   "source": [
    "p4 <- ggplot(data = bank_0) + geom_bar(mapping = aes(x = age, fill = education), position = \"dodge\")\n",
    "print(p4)"
   ]
  },
  {
   "cell_type": "code",
   "execution_count": null,
   "id": "c64bdfe4",
   "metadata": {
    "slideshow": {
     "slide_type": "subslide"
    },
    "vscode": {
     "languageId": "r"
    }
   },
   "outputs": [],
   "source": [
    "p5 <- p4 + coord_flip()\n",
    "print(p5)"
   ]
  },
  {
   "cell_type": "markdown",
   "id": "9a479dd9",
   "metadata": {
    "slideshow": {
     "slide_type": "slide"
    }
   },
   "source": [
    "## Tidy data\n",
    "\n",
    "* ggplot adds elements in a graph one by one, and then print out the graph all together.\n",
    "\n",
    "* `ggplot2` accommodates data frames of a particular format. \n",
    "* `tidyr` is a package that helps prepare the data frames.\n"
   ]
  },
  {
   "cell_type": "markdown",
   "id": "05ea3fd2",
   "metadata": {
    "slideshow": {
     "slide_type": "slide"
    }
   },
   "source": [
    "* Example: [Penn World Table](https://www.rug.nl/ggdc/productivity/pwt/?lang=en)"
   ]
  },
  {
   "cell_type": "code",
   "execution_count": 6,
   "id": "eb95c7ab",
   "metadata": {
    "slideshow": {
     "slide_type": "fragment"
    },
    "vscode": {
     "languageId": "r"
    }
   },
   "outputs": [
    {
     "name": "stderr",
     "output_type": "stream",
     "text": [
      "\u001b[1mRows: \u001b[22m\u001b[34m12810\u001b[39m \u001b[1mColumns: \u001b[22m\u001b[34m52\u001b[39m\n",
      "\u001b[36m──\u001b[39m \u001b[1mColumn specification\u001b[22m \u001b[36m─────────────────────────────────────────────────────────────────────────────────────────────────────────────────\u001b[39m\n",
      "\u001b[1mDelimiter:\u001b[22m \",\"\n",
      "\u001b[31mchr\u001b[39m  (8): countrycode, country, currency_unit, i_cig, i_xm, i_xr, i_outlier,...\n",
      "\u001b[32mdbl\u001b[39m (44): year, rgdpe, rgdpo, pop, emp, avh, hc, ccon, cda, cgdpe, cgdpo, cn...\n",
      "\n",
      "\u001b[36mℹ\u001b[39m Use `spec()` to retrieve the full column specification for this data.\n",
      "\u001b[36mℹ\u001b[39m Specify the column types or set `show_col_types = FALSE` to quiet this message.\n"
     ]
    },
    {
     "data": {
      "text/html": [
       "<table class=\"dataframe\">\n",
       "<caption>A tibble: 6 × 52</caption>\n",
       "<thead>\n",
       "\t<tr><th scope=col>countrycode</th><th scope=col>country</th><th scope=col>currency_unit</th><th scope=col>year</th><th scope=col>rgdpe</th><th scope=col>rgdpo</th><th scope=col>pop</th><th scope=col>emp</th><th scope=col>avh</th><th scope=col>hc</th><th scope=col>⋯</th><th scope=col>csh_x</th><th scope=col>csh_m</th><th scope=col>csh_r</th><th scope=col>pl_c</th><th scope=col>pl_i</th><th scope=col>pl_g</th><th scope=col>pl_x</th><th scope=col>pl_m</th><th scope=col>pl_n</th><th scope=col>pl_k</th></tr>\n",
       "\t<tr><th scope=col>&lt;chr&gt;</th><th scope=col>&lt;chr&gt;</th><th scope=col>&lt;chr&gt;</th><th scope=col>&lt;dbl&gt;</th><th scope=col>&lt;dbl&gt;</th><th scope=col>&lt;dbl&gt;</th><th scope=col>&lt;dbl&gt;</th><th scope=col>&lt;dbl&gt;</th><th scope=col>&lt;dbl&gt;</th><th scope=col>&lt;dbl&gt;</th><th scope=col>⋯</th><th scope=col>&lt;dbl&gt;</th><th scope=col>&lt;dbl&gt;</th><th scope=col>&lt;dbl&gt;</th><th scope=col>&lt;dbl&gt;</th><th scope=col>&lt;dbl&gt;</th><th scope=col>&lt;dbl&gt;</th><th scope=col>&lt;dbl&gt;</th><th scope=col>&lt;dbl&gt;</th><th scope=col>&lt;dbl&gt;</th><th scope=col>&lt;dbl&gt;</th></tr>\n",
       "</thead>\n",
       "<tbody>\n",
       "\t<tr><td>ABW</td><td>Aruba</td><td>Aruban Guilder</td><td>1950</td><td>NA</td><td>NA</td><td>NA</td><td>NA</td><td>NA</td><td>NA</td><td>⋯</td><td>NA</td><td>NA</td><td>NA</td><td>NA</td><td>NA</td><td>NA</td><td>NA</td><td>NA</td><td>NA</td><td>NA</td></tr>\n",
       "\t<tr><td>ABW</td><td>Aruba</td><td>Aruban Guilder</td><td>1951</td><td>NA</td><td>NA</td><td>NA</td><td>NA</td><td>NA</td><td>NA</td><td>⋯</td><td>NA</td><td>NA</td><td>NA</td><td>NA</td><td>NA</td><td>NA</td><td>NA</td><td>NA</td><td>NA</td><td>NA</td></tr>\n",
       "\t<tr><td>ABW</td><td>Aruba</td><td>Aruban Guilder</td><td>1952</td><td>NA</td><td>NA</td><td>NA</td><td>NA</td><td>NA</td><td>NA</td><td>⋯</td><td>NA</td><td>NA</td><td>NA</td><td>NA</td><td>NA</td><td>NA</td><td>NA</td><td>NA</td><td>NA</td><td>NA</td></tr>\n",
       "\t<tr><td>ABW</td><td>Aruba</td><td>Aruban Guilder</td><td>1953</td><td>NA</td><td>NA</td><td>NA</td><td>NA</td><td>NA</td><td>NA</td><td>⋯</td><td>NA</td><td>NA</td><td>NA</td><td>NA</td><td>NA</td><td>NA</td><td>NA</td><td>NA</td><td>NA</td><td>NA</td></tr>\n",
       "\t<tr><td>ABW</td><td>Aruba</td><td>Aruban Guilder</td><td>1954</td><td>NA</td><td>NA</td><td>NA</td><td>NA</td><td>NA</td><td>NA</td><td>⋯</td><td>NA</td><td>NA</td><td>NA</td><td>NA</td><td>NA</td><td>NA</td><td>NA</td><td>NA</td><td>NA</td><td>NA</td></tr>\n",
       "\t<tr><td>ABW</td><td>Aruba</td><td>Aruban Guilder</td><td>1955</td><td>NA</td><td>NA</td><td>NA</td><td>NA</td><td>NA</td><td>NA</td><td>⋯</td><td>NA</td><td>NA</td><td>NA</td><td>NA</td><td>NA</td><td>NA</td><td>NA</td><td>NA</td><td>NA</td><td>NA</td></tr>\n",
       "</tbody>\n",
       "</table>\n"
      ],
      "text/latex": [
       "A tibble: 6 × 52\n",
       "\\begin{tabular}{lllllllllllllllllllll}\n",
       " countrycode & country & currency\\_unit & year & rgdpe & rgdpo & pop & emp & avh & hc & ⋯ & csh\\_x & csh\\_m & csh\\_r & pl\\_c & pl\\_i & pl\\_g & pl\\_x & pl\\_m & pl\\_n & pl\\_k\\\\\n",
       " <chr> & <chr> & <chr> & <dbl> & <dbl> & <dbl> & <dbl> & <dbl> & <dbl> & <dbl> & ⋯ & <dbl> & <dbl> & <dbl> & <dbl> & <dbl> & <dbl> & <dbl> & <dbl> & <dbl> & <dbl>\\\\\n",
       "\\hline\n",
       "\t ABW & Aruba & Aruban Guilder & 1950 & NA & NA & NA & NA & NA & NA & ⋯ & NA & NA & NA & NA & NA & NA & NA & NA & NA & NA\\\\\n",
       "\t ABW & Aruba & Aruban Guilder & 1951 & NA & NA & NA & NA & NA & NA & ⋯ & NA & NA & NA & NA & NA & NA & NA & NA & NA & NA\\\\\n",
       "\t ABW & Aruba & Aruban Guilder & 1952 & NA & NA & NA & NA & NA & NA & ⋯ & NA & NA & NA & NA & NA & NA & NA & NA & NA & NA\\\\\n",
       "\t ABW & Aruba & Aruban Guilder & 1953 & NA & NA & NA & NA & NA & NA & ⋯ & NA & NA & NA & NA & NA & NA & NA & NA & NA & NA\\\\\n",
       "\t ABW & Aruba & Aruban Guilder & 1954 & NA & NA & NA & NA & NA & NA & ⋯ & NA & NA & NA & NA & NA & NA & NA & NA & NA & NA\\\\\n",
       "\t ABW & Aruba & Aruban Guilder & 1955 & NA & NA & NA & NA & NA & NA & ⋯ & NA & NA & NA & NA & NA & NA & NA & NA & NA & NA\\\\\n",
       "\\end{tabular}\n"
      ],
      "text/markdown": [
       "\n",
       "A tibble: 6 × 52\n",
       "\n",
       "| countrycode &lt;chr&gt; | country &lt;chr&gt; | currency_unit &lt;chr&gt; | year &lt;dbl&gt; | rgdpe &lt;dbl&gt; | rgdpo &lt;dbl&gt; | pop &lt;dbl&gt; | emp &lt;dbl&gt; | avh &lt;dbl&gt; | hc &lt;dbl&gt; | ⋯ ⋯ | csh_x &lt;dbl&gt; | csh_m &lt;dbl&gt; | csh_r &lt;dbl&gt; | pl_c &lt;dbl&gt; | pl_i &lt;dbl&gt; | pl_g &lt;dbl&gt; | pl_x &lt;dbl&gt; | pl_m &lt;dbl&gt; | pl_n &lt;dbl&gt; | pl_k &lt;dbl&gt; |\n",
       "|---|---|---|---|---|---|---|---|---|---|---|---|---|---|---|---|---|---|---|---|---|\n",
       "| ABW | Aruba | Aruban Guilder | 1950 | NA | NA | NA | NA | NA | NA | ⋯ | NA | NA | NA | NA | NA | NA | NA | NA | NA | NA |\n",
       "| ABW | Aruba | Aruban Guilder | 1951 | NA | NA | NA | NA | NA | NA | ⋯ | NA | NA | NA | NA | NA | NA | NA | NA | NA | NA |\n",
       "| ABW | Aruba | Aruban Guilder | 1952 | NA | NA | NA | NA | NA | NA | ⋯ | NA | NA | NA | NA | NA | NA | NA | NA | NA | NA |\n",
       "| ABW | Aruba | Aruban Guilder | 1953 | NA | NA | NA | NA | NA | NA | ⋯ | NA | NA | NA | NA | NA | NA | NA | NA | NA | NA |\n",
       "| ABW | Aruba | Aruban Guilder | 1954 | NA | NA | NA | NA | NA | NA | ⋯ | NA | NA | NA | NA | NA | NA | NA | NA | NA | NA |\n",
       "| ABW | Aruba | Aruban Guilder | 1955 | NA | NA | NA | NA | NA | NA | ⋯ | NA | NA | NA | NA | NA | NA | NA | NA | NA | NA |\n",
       "\n"
      ],
      "text/plain": [
       "  countrycode country currency_unit  year rgdpe rgdpo pop emp avh hc ⋯ csh_x\n",
       "1 ABW         Aruba   Aruban Guilder 1950 NA    NA    NA  NA  NA  NA ⋯ NA   \n",
       "2 ABW         Aruba   Aruban Guilder 1951 NA    NA    NA  NA  NA  NA ⋯ NA   \n",
       "3 ABW         Aruba   Aruban Guilder 1952 NA    NA    NA  NA  NA  NA ⋯ NA   \n",
       "4 ABW         Aruba   Aruban Guilder 1953 NA    NA    NA  NA  NA  NA ⋯ NA   \n",
       "5 ABW         Aruba   Aruban Guilder 1954 NA    NA    NA  NA  NA  NA ⋯ NA   \n",
       "6 ABW         Aruba   Aruban Guilder 1955 NA    NA    NA  NA  NA  NA ⋯ NA   \n",
       "  csh_m csh_r pl_c pl_i pl_g pl_x pl_m pl_n pl_k\n",
       "1 NA    NA    NA   NA   NA   NA   NA   NA   NA  \n",
       "2 NA    NA    NA   NA   NA   NA   NA   NA   NA  \n",
       "3 NA    NA    NA   NA   NA   NA   NA   NA   NA  \n",
       "4 NA    NA    NA   NA   NA   NA   NA   NA   NA  \n",
       "5 NA    NA    NA   NA   NA   NA   NA   NA   NA  \n",
       "6 NA    NA    NA   NA   NA   NA   NA   NA   NA  "
      ]
     },
     "metadata": {},
     "output_type": "display_data"
    },
    {
     "data": {
      "text/html": [
       "<style>\n",
       ".list-inline {list-style: none; margin:0; padding: 0}\n",
       ".list-inline>li {display: inline-block}\n",
       ".list-inline>li:not(:last-child)::after {content: \"\\00b7\"; padding: 0 .5ex}\n",
       "</style>\n",
       "<ol class=list-inline><li>'countrycode'</li><li>'country'</li><li>'currency_unit'</li><li>'year'</li><li>'rgdpe'</li><li>'rgdpo'</li><li>'pop'</li><li>'emp'</li><li>'avh'</li><li>'hc'</li><li>'ccon'</li><li>'cda'</li><li>'cgdpe'</li><li>'cgdpo'</li><li>'cn'</li><li>'ck'</li><li>'ctfp'</li><li>'cwtfp'</li><li>'rgdpna'</li><li>'rconna'</li><li>'rdana'</li><li>'rnna'</li><li>'rkna'</li><li>'rtfpna'</li><li>'rwtfpna'</li><li>'labsh'</li><li>'irr'</li><li>'delta'</li><li>'xr'</li><li>'pl_con'</li><li>'pl_da'</li><li>'pl_gdpo'</li><li>'i_cig'</li><li>'i_xm'</li><li>'i_xr'</li><li>'i_outlier'</li><li>'i_irr'</li><li>'cor_exp'</li><li>'statcap'</li><li>'csh_c'</li><li>'csh_i'</li><li>'csh_g'</li><li>'csh_x'</li><li>'csh_m'</li><li>'csh_r'</li><li>'pl_c'</li><li>'pl_i'</li><li>'pl_g'</li><li>'pl_x'</li><li>'pl_m'</li><li>'pl_n'</li><li>'pl_k'</li></ol>\n"
      ],
      "text/latex": [
       "\\begin{enumerate*}\n",
       "\\item 'countrycode'\n",
       "\\item 'country'\n",
       "\\item 'currency\\_unit'\n",
       "\\item 'year'\n",
       "\\item 'rgdpe'\n",
       "\\item 'rgdpo'\n",
       "\\item 'pop'\n",
       "\\item 'emp'\n",
       "\\item 'avh'\n",
       "\\item 'hc'\n",
       "\\item 'ccon'\n",
       "\\item 'cda'\n",
       "\\item 'cgdpe'\n",
       "\\item 'cgdpo'\n",
       "\\item 'cn'\n",
       "\\item 'ck'\n",
       "\\item 'ctfp'\n",
       "\\item 'cwtfp'\n",
       "\\item 'rgdpna'\n",
       "\\item 'rconna'\n",
       "\\item 'rdana'\n",
       "\\item 'rnna'\n",
       "\\item 'rkna'\n",
       "\\item 'rtfpna'\n",
       "\\item 'rwtfpna'\n",
       "\\item 'labsh'\n",
       "\\item 'irr'\n",
       "\\item 'delta'\n",
       "\\item 'xr'\n",
       "\\item 'pl\\_con'\n",
       "\\item 'pl\\_da'\n",
       "\\item 'pl\\_gdpo'\n",
       "\\item 'i\\_cig'\n",
       "\\item 'i\\_xm'\n",
       "\\item 'i\\_xr'\n",
       "\\item 'i\\_outlier'\n",
       "\\item 'i\\_irr'\n",
       "\\item 'cor\\_exp'\n",
       "\\item 'statcap'\n",
       "\\item 'csh\\_c'\n",
       "\\item 'csh\\_i'\n",
       "\\item 'csh\\_g'\n",
       "\\item 'csh\\_x'\n",
       "\\item 'csh\\_m'\n",
       "\\item 'csh\\_r'\n",
       "\\item 'pl\\_c'\n",
       "\\item 'pl\\_i'\n",
       "\\item 'pl\\_g'\n",
       "\\item 'pl\\_x'\n",
       "\\item 'pl\\_m'\n",
       "\\item 'pl\\_n'\n",
       "\\item 'pl\\_k'\n",
       "\\end{enumerate*}\n"
      ],
      "text/markdown": [
       "1. 'countrycode'\n",
       "2. 'country'\n",
       "3. 'currency_unit'\n",
       "4. 'year'\n",
       "5. 'rgdpe'\n",
       "6. 'rgdpo'\n",
       "7. 'pop'\n",
       "8. 'emp'\n",
       "9. 'avh'\n",
       "10. 'hc'\n",
       "11. 'ccon'\n",
       "12. 'cda'\n",
       "13. 'cgdpe'\n",
       "14. 'cgdpo'\n",
       "15. 'cn'\n",
       "16. 'ck'\n",
       "17. 'ctfp'\n",
       "18. 'cwtfp'\n",
       "19. 'rgdpna'\n",
       "20. 'rconna'\n",
       "21. 'rdana'\n",
       "22. 'rnna'\n",
       "23. 'rkna'\n",
       "24. 'rtfpna'\n",
       "25. 'rwtfpna'\n",
       "26. 'labsh'\n",
       "27. 'irr'\n",
       "28. 'delta'\n",
       "29. 'xr'\n",
       "30. 'pl_con'\n",
       "31. 'pl_da'\n",
       "32. 'pl_gdpo'\n",
       "33. 'i_cig'\n",
       "34. 'i_xm'\n",
       "35. 'i_xr'\n",
       "36. 'i_outlier'\n",
       "37. 'i_irr'\n",
       "38. 'cor_exp'\n",
       "39. 'statcap'\n",
       "40. 'csh_c'\n",
       "41. 'csh_i'\n",
       "42. 'csh_g'\n",
       "43. 'csh_x'\n",
       "44. 'csh_m'\n",
       "45. 'csh_r'\n",
       "46. 'pl_c'\n",
       "47. 'pl_i'\n",
       "48. 'pl_g'\n",
       "49. 'pl_x'\n",
       "50. 'pl_m'\n",
       "51. 'pl_n'\n",
       "52. 'pl_k'\n",
       "\n",
       "\n"
      ],
      "text/plain": [
       " [1] \"countrycode\"   \"country\"       \"currency_unit\" \"year\"         \n",
       " [5] \"rgdpe\"         \"rgdpo\"         \"pop\"           \"emp\"          \n",
       " [9] \"avh\"           \"hc\"            \"ccon\"          \"cda\"          \n",
       "[13] \"cgdpe\"         \"cgdpo\"         \"cn\"            \"ck\"           \n",
       "[17] \"ctfp\"          \"cwtfp\"         \"rgdpna\"        \"rconna\"       \n",
       "[21] \"rdana\"         \"rnna\"          \"rkna\"          \"rtfpna\"       \n",
       "[25] \"rwtfpna\"       \"labsh\"         \"irr\"           \"delta\"        \n",
       "[29] \"xr\"            \"pl_con\"        \"pl_da\"         \"pl_gdpo\"      \n",
       "[33] \"i_cig\"         \"i_xm\"          \"i_xr\"          \"i_outlier\"    \n",
       "[37] \"i_irr\"         \"cor_exp\"       \"statcap\"       \"csh_c\"        \n",
       "[41] \"csh_i\"         \"csh_g\"         \"csh_x\"         \"csh_m\"        \n",
       "[45] \"csh_r\"         \"pl_c\"          \"pl_i\"          \"pl_g\"         \n",
       "[49] \"pl_x\"          \"pl_m\"          \"pl_n\"          \"pl_k\"         "
      ]
     },
     "metadata": {},
     "output_type": "display_data"
    }
   ],
   "source": [
    "d0 = readr::read_csv(\"data_example/PWT100.csv\", col_names = TRUE)\n",
    "head(d0)\n",
    "colnames(d0)"
   ]
  },
  {
   "cell_type": "code",
   "execution_count": 7,
   "id": "6d61b655",
   "metadata": {
    "slideshow": {
     "slide_type": "slide"
    },
    "vscode": {
     "languageId": "r"
    }
   },
   "outputs": [
    {
     "name": "stdout",
     "output_type": "stream",
     "text": [
      "\u001b[90m# A tibble: 280 × 5\u001b[39m\n",
      "   countrycode  year   rgdpe   pop gdpcapita\n",
      "   \u001b[3m\u001b[90m<chr>\u001b[39m\u001b[23m       \u001b[3m\u001b[90m<dbl>\u001b[39m\u001b[23m   \u001b[3m\u001b[90m<dbl>\u001b[39m\u001b[23m \u001b[3m\u001b[90m<dbl>\u001b[39m\u001b[23m     \u001b[3m\u001b[90m<dbl>\u001b[39m\u001b[23m\n",
      "\u001b[90m 1\u001b[39m CHN          \u001b[4m1\u001b[24m950     \u001b[31mNA\u001b[39m    \u001b[31mNA\u001b[39m        \u001b[31mNA\u001b[39m \n",
      "\u001b[90m 2\u001b[39m CHN          \u001b[4m1\u001b[24m951     \u001b[31mNA\u001b[39m    \u001b[31mNA\u001b[39m        \u001b[31mNA\u001b[39m \n",
      "\u001b[90m 3\u001b[39m CHN          \u001b[4m1\u001b[24m952 \u001b[4m5\u001b[24m\u001b[4m5\u001b[24m\u001b[4m4\u001b[24m906.  580.      957.\n",
      "\u001b[90m 4\u001b[39m CHN          \u001b[4m1\u001b[24m953 \u001b[4m6\u001b[24m\u001b[4m2\u001b[24m\u001b[4m6\u001b[24m291.  589.     \u001b[4m1\u001b[24m063.\n",
      "\u001b[90m 5\u001b[39m CHN          \u001b[4m1\u001b[24m954 \u001b[4m5\u001b[24m\u001b[4m8\u001b[24m\u001b[4m4\u001b[24m967.  600.      975.\n",
      "\u001b[90m 6\u001b[39m CHN          \u001b[4m1\u001b[24m955 \u001b[4m6\u001b[24m\u001b[4m4\u001b[24m\u001b[4m2\u001b[24m037   612.     \u001b[4m1\u001b[24m049.\n",
      "\u001b[90m 7\u001b[39m CHN          \u001b[4m1\u001b[24m956 \u001b[4m6\u001b[24m\u001b[4m9\u001b[24m\u001b[4m3\u001b[24m936.  625.     \u001b[4m1\u001b[24m111.\n",
      "\u001b[90m 8\u001b[39m CHN          \u001b[4m1\u001b[24m957 \u001b[4m7\u001b[24m\u001b[4m1\u001b[24m\u001b[4m8\u001b[24m619.  639.     \u001b[4m1\u001b[24m125.\n",
      "\u001b[90m 9\u001b[39m CHN          \u001b[4m1\u001b[24m958 \u001b[4m7\u001b[24m\u001b[4m3\u001b[24m\u001b[4m2\u001b[24m356.  652.     \u001b[4m1\u001b[24m123.\n",
      "\u001b[90m10\u001b[39m CHN          \u001b[4m1\u001b[24m959 \u001b[4m6\u001b[24m\u001b[4m9\u001b[24m\u001b[4m8\u001b[24m911.  660.     \u001b[4m1\u001b[24m059.\n",
      "\u001b[90m# ℹ 270 more rows\u001b[39m\n"
     ]
    }
   ],
   "source": [
    "# work with a smaller dataset\n",
    "\n",
    "d1 <- select(d0, countrycode, year, rgdpe, pop) %>%\n",
    "  filter(countrycode %in% c(\"CHN\", \"RUS\", \"JPN\", \"USA\")) %>%\n",
    "  mutate(gdpcapita = rgdpe/pop) \n",
    "\n",
    "# rgdpe: Expenditure-side real GDP at chained PPPs, \n",
    "#        to compare relative living standards across countries and over time\n",
    "\n",
    "print(d1)  "
   ]
  },
  {
   "cell_type": "code",
   "execution_count": 8,
   "id": "cc57e142",
   "metadata": {
    "slideshow": {
     "slide_type": "slide"
    },
    "vscode": {
     "languageId": "r"
    }
   },
   "outputs": [
    {
     "name": "stderr",
     "output_type": "stream",
     "text": [
      "Warning message:\n",
      "\"\u001b[1m\u001b[22mRemoved 42 rows containing missing values (`geom_point()`).\"\n"
     ]
    },
    {
     "data": {
      "image/png": "[encoded data removed]",
      "text/plain": [
       "plot without title"
      ]
     },
     "metadata": {
      "image/png": {
       "height": 420,
       "width": 420
      }
     },
     "output_type": "display_data"
    }
   ],
   "source": [
    "ggplot(d1) + \n",
    "  geom_point(mapping = aes(x = year, y = rgdpe, color = countrycode))"
   ]
  },
  {
   "cell_type": "code",
   "execution_count": null,
   "id": "6272837a",
   "metadata": {
    "slideshow": {
     "slide_type": "slide"
    },
    "vscode": {
     "languageId": "r"
    }
   },
   "outputs": [],
   "source": [
    "ggplot(d1) + \n",
    "  geom_line(mapping = aes(x = year, y = gdpcapita, color = countrycode))"
   ]
  },
  {
   "cell_type": "code",
   "execution_count": null,
   "id": "1a98f9d9",
   "metadata": {
    "slideshow": {
     "slide_type": "slide"
    },
    "vscode": {
     "languageId": "r"
    }
   },
   "outputs": [],
   "source": [
    "s1 <- d1 %>% \n",
    "  select( countrycode, year, pop) %>%\n",
    "  spread( key = year, value = pop)\n",
    "print(s1)\n"
   ]
  },
  {
   "cell_type": "code",
   "execution_count": null,
   "id": "674e74d8",
   "metadata": {
    "slideshow": {
     "slide_type": "slide"
    },
    "vscode": {
     "languageId": "r"
    }
   },
   "outputs": [],
   "source": [
    "gather(s1, '1950':'2019', key = \"year\", value = \"pop\")"
   ]
  },
  {
   "cell_type": "markdown",
   "id": "20a46e2a",
   "metadata": {
    "slideshow": {
     "slide_type": "slide"
    }
   },
   "source": [
    "### Subgraphs of the same pattern\n",
    "\n",
    "\n",
    "* Example: Plot the density of two estimators under three different data generating processes.\n",
    "\n"
   ]
  },
  {
   "cell_type": "code",
   "execution_count": null,
   "id": "2b60cd87",
   "metadata": {
    "slideshow": {
     "slide_type": "slide"
    },
    "vscode": {
     "languageId": "r"
    }
   },
   "outputs": [],
   "source": [
    "load(\"data_example/big150.Rdata\")\n",
    "head(big150)"
   ]
  },
  {
   "cell_type": "code",
   "execution_count": null,
   "id": "705a0b80",
   "metadata": {
    "vscode": {
     "languageId": "r"
    }
   },
   "outputs": [],
   "source": [
    "\n",
    "big150_1 <- select(big150, typb, b1, b1_c) %>%\n",
    "            gather(\"b1\", \"b1_c\", key = \"estimator\", value = \"value\")\n",
    "print(head(big150_1))\n"
   ]
  },
  {
   "cell_type": "markdown",
   "id": "3b315bdb",
   "metadata": {
    "slideshow": {
     "slide_type": "slide"
    },
    "vscode": {
     "languageId": "r"
    }
   },
   "source": [
    "`theme` is to tune the supplementary elements like the background, the size and font of the axis text and so on."
   ]
  },
  {
   "cell_type": "code",
   "execution_count": null,
   "id": "f9347693",
   "metadata": {
    "slideshow": {
     "slide_type": "fragment"
    },
    "vscode": {
     "languageId": "r"
    }
   },
   "outputs": [],
   "source": [
    "\n",
    "p1 <- ggplot(big150_1)\n",
    "p1 <- p1 + geom_area(\n",
    "  stat = \"density\", alpha = .25,\n",
    "  aes(x = value, fill = estimator), position = \"identity\"\n",
    ")\n",
    "p1 <- p1 + facet_grid(. ~ typb)\n",
    "p1 <- p1 + geom_vline(xintercept = 0)\n",
    "p1 <- p1 + theme_bw()\n",
    "p1 <- p1 + theme(\n",
    "  strip.text = element_text(size = 12),\n",
    "  axis.text = element_text(size = 12)\n",
    ")\n",
    "print(p1)"
   ]
  },
  {
   "cell_type": "markdown",
   "id": "483a1dea",
   "metadata": {
    "slideshow": {
     "slide_type": "slide"
    }
   },
   "source": [
    "### Example\n",
    "\n",
    "* This example aligns two graphs of different patterns in one page.\n",
    "  * Similar graphs appear in [Shi and Zheng, 2018](https://onlinelibrary.wiley.com/doi/abs/10.1002/jae.2640).\n",
    "  * To unify the theme of the two subgraphs,\n",
    "define an object `theme1` and apply it in both graphic objects\n",
    "`p1` and `p2`.\n",
    "\n"
   ]
  },
  {
   "cell_type": "code",
   "execution_count": null,
   "id": "0ee3941a",
   "metadata": {
    "slideshow": {
     "slide_type": "slide"
    },
    "vscode": {
     "languageId": "r"
    }
   },
   "outputs": [],
   "source": [
    "# graph packages\n",
    "library(lattice)\n",
    "library(ggplot2)\n",
    "library(gridExtra)\n",
    "\n",
    "load(\"data_example/multigraph.Rdata\") # load data\n",
    "\n",
    "# unify the theme in the two graphs\n",
    "theme1 <- theme_bw() + theme(\n",
    "  axis.title.x = element_blank(),\n",
    "  strip.text = element_text(size = 12),\n",
    "  axis.text = element_text(size = 12),\n",
    "  legend.position = \"bottom\", legend.title = element_blank()\n",
    ")"
   ]
  },
  {
   "cell_type": "code",
   "execution_count": null,
   "id": "1a2528b3",
   "metadata": {
    "slideshow": {
     "slide_type": "subslide"
    },
    "vscode": {
     "languageId": "r"
    }
   },
   "outputs": [],
   "source": [
    "# sub-graph 1\n",
    "d1 <- data.frame(month = 1:480, m = m_vec)\n",
    "p1 <- qplot(x = month, y = m, data = d1, geom = \"line\")\n",
    "p1 <- p1 + theme1 + ylab(\"fraction of chartists\")\n",
    "\n",
    "# sug-graph 2\n",
    "d2$month <- 1:480\n",
    "p2 <- ggplot(d2) + geom_line(aes(x = month, y = value, col = variable))\n",
    "p2 <- p2 + theme1 + ylab(\"price and fundamental\")\n",
    "\n",
    "# generate the grahp\n",
    "grid.arrange(p1, p2, nrow = 2)"
   ]
  },
  {
   "cell_type": "markdown",
   "id": "0eedf312",
   "metadata": {
    "slideshow": {
     "slide_type": "skip"
    }
   },
   "source": [
    "## Interactive Graph\n",
    "\n",
    "* Users provides customized inputs\n",
    "* Graph presents corresponding outcome\n",
    "\n",
    "* `flexboard.Rmd` is an example.\n",
    "* Easy to convert a ggplot2 graph with `plotly::ggplotly()`.\n",
    "\n"
   ]
  },
  {
   "cell_type": "markdown",
   "id": "20fd422a",
   "metadata": {
    "slideshow": {
     "slide_type": "slide"
    }
   },
   "source": [
    "## R Markdown\n",
    "\n",
    "* Provide R-basics from previous version of rmd file."
   ]
  },
  {
   "cell_type": "markdown",
   "id": "39fd267d",
   "metadata": {
    "slideshow": {
     "slide_type": "subslide"
    }
   },
   "source": [
    "Notebooks\n",
    "\n",
    "* Rmd format\n",
    "* Ipynb format"
   ]
  },
  {
   "cell_type": "markdown",
   "id": "15f1c9bf",
   "metadata": {
    "slideshow": {
     "slide_type": "slide"
    }
   },
   "source": [
    "## Shiny App\n",
    "\n",
    "Web-based R package for interactive graph. \n",
    "\n",
    "\n",
    "* [tutorial](https://shiny.rstudio.com/tutorial/)\n",
    "\n",
    "\n",
    "* `UI`: interface\n",
    "* `Server`: calculation of input data\n"
   ]
  },
  {
   "cell_type": "markdown",
   "id": "b8fe4134",
   "metadata": {
    "slideshow": {
     "slide_type": "slide"
    }
   },
   "source": [
    "### Example\n",
    "\n",
    "\n",
    "* [Shenzhen housing price](https://zhentao-shi.shinyapps.io/ShenzhenHousing-Shiny/)\n",
    "  * [code](https://github.com/metricshilab/Shenzhen-Housing)\n",
    "* [HP filter](https://zwmei-metrics.shinyapps.io/boosted_hp_app/)\n",
    "  * [code](https://github.com/metricshilab/Boosted_HP_App)\n",
    "\n",
    "**Also, see my script of Newton's method.**"
   ]
  },
  {
   "cell_type": "markdown",
   "id": "d21f6df1",
   "metadata": {
    "slideshow": {
     "slide_type": "slide"
    }
   },
   "source": [
    "## Reading\n",
    "\n",
    "* Wickham and Grolemund](https://r4ds.had.co.nz/)\n",
    "  * Ch 3: data visualization\n",
    "  * Ch.12: tidy data\n",
    "  * Ch 27: R markdown\n",
    "  * Ch 28: graphics for communication\n",
    "  * Ch 29: R markdown formats\n",
    "  * Ch 30: R markdown workflow\n",
    "  \n",
    "* This [link](https://cosx.org/2023/02/earthquake/) is a good example of using `ggplot2` to draw nice statistical graphs."
   ]
  },
  {
   "cell_type": "markdown",
   "id": "6d0254ee",
   "metadata": {
    "slideshow": {
     "slide_type": "notes"
    }
   },
   "source": []
  }
 ],
 "metadata": {
  "celltoolbar": "Slideshow",
  "kernelspec": {
   "display_name": "R",
   "language": "R",
   "name": "ir"
  },
  "language_info": {
   "codemirror_mode": "r",
   "file_extension": ".r",
   "mimetype": "text/x-r-source",
   "name": "R",
   "pygments_lexer": "r",
   "version": "4.3.1"
  },
  "rise": {
   "enable_chalkboard": true,
   "scroll": true,
   "theme": "serif"
  }
 },
 "nbformat": 4,
 "nbformat_minor": 5
}
